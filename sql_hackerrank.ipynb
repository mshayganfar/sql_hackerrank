{
 "cells": [
  {
   "cell_type": "markdown",
   "id": "6144b275",
   "metadata": {},
   "source": [
    "### Revising the Select Query I"
   ]
  },
  {
   "cell_type": "code",
   "execution_count": null,
   "id": "fb02c3f2",
   "metadata": {},
   "outputs": [],
   "source": [
    "select * from CITY where POPULATION>100000 and COUNTRYCODE='USA';"
   ]
  },
  {
   "cell_type": "markdown",
   "id": "0499bbad",
   "metadata": {},
   "source": [
    "### Revising the Select Query II"
   ]
  },
  {
   "cell_type": "code",
   "execution_count": null,
   "id": "a20d418d",
   "metadata": {},
   "outputs": [],
   "source": [
    "select NAME from CITY where POPULATION>120000 and COUNTRYCODE='USA';"
   ]
  },
  {
   "cell_type": "markdown",
   "id": "bedc1049",
   "metadata": {},
   "source": [
    "### Select All"
   ]
  },
  {
   "cell_type": "code",
   "execution_count": null,
   "id": "6ec94045",
   "metadata": {},
   "outputs": [],
   "source": [
    "select * from CITY;"
   ]
  },
  {
   "cell_type": "markdown",
   "id": "6ee1e06c",
   "metadata": {},
   "source": [
    "### Select By ID"
   ]
  },
  {
   "cell_type": "code",
   "execution_count": null,
   "id": "96d238ce",
   "metadata": {},
   "outputs": [],
   "source": [
    "select * from CITY where ID=1661;"
   ]
  },
  {
   "cell_type": "markdown",
   "id": "ff5ca34e",
   "metadata": {},
   "source": [
    "### Japanese Cities' Attributes"
   ]
  },
  {
   "cell_type": "code",
   "execution_count": null,
   "id": "4d5e7b19",
   "metadata": {},
   "outputs": [],
   "source": [
    "select * from CITY where COUNTRYCODE='JPN';"
   ]
  },
  {
   "cell_type": "markdown",
   "id": "58eaf35b",
   "metadata": {},
   "source": [
    "### Japanese Cities' Names"
   ]
  },
  {
   "cell_type": "code",
   "execution_count": null,
   "id": "bc51ef43",
   "metadata": {},
   "outputs": [],
   "source": [
    "select NAME from CITY where COUNTRYCODE='JPN';"
   ]
  },
  {
   "cell_type": "markdown",
   "id": "eed62488",
   "metadata": {},
   "source": [
    "### Weather Observation Station 1"
   ]
  },
  {
   "cell_type": "code",
   "execution_count": null,
   "id": "9551c3ec",
   "metadata": {},
   "outputs": [],
   "source": [
    "select CITY, STATE from STATION;"
   ]
  },
  {
   "cell_type": "markdown",
   "id": "c748003e",
   "metadata": {},
   "source": [
    "### Weather Observation Station 3"
   ]
  },
  {
   "cell_type": "code",
   "execution_count": null,
   "id": "cab361f8",
   "metadata": {},
   "outputs": [],
   "source": [
    "select distinct CITY from STATION where mod(ID, 2) = 0; # mod in DB2"
   ]
  },
  {
   "cell_type": "markdown",
   "id": "c1fd7a23",
   "metadata": {},
   "source": [
    "### Weather Observation Station 4"
   ]
  },
  {
   "cell_type": "code",
   "execution_count": null,
   "id": "7c80495e",
   "metadata": {},
   "outputs": [],
   "source": [
    "select count(CITY)-count(distinct CITY) from STATION;"
   ]
  },
  {
   "cell_type": "markdown",
   "id": "acc253c9",
   "metadata": {},
   "source": [
    "### Weather Observation Station 5"
   ]
  },
  {
   "cell_type": "code",
   "execution_count": null,
   "id": "45148323",
   "metadata": {},
   "outputs": [],
   "source": [
    "select CITY, length(CITY) from STATION order by length(CITY) asc, CITY limit 1;\n",
    "select CITY, length(CITY) from STATION order by length(CITY) desc, CITY limit 1; "
   ]
  },
  {
   "cell_type": "markdown",
   "id": "45b2fb2c",
   "metadata": {},
   "source": [
    "### Weather Observation Station 6"
   ]
  },
  {
   "cell_type": "code",
   "execution_count": null,
   "id": "e4c43dc1",
   "metadata": {},
   "outputs": [],
   "source": [
    "select distinct CITY from STATION where lower(left(CITY, 1)) in ('a', 'e', 'i', 'o', 'u');"
   ]
  },
  {
   "cell_type": "markdown",
   "id": "c97d3601",
   "metadata": {},
   "source": [
    "### Weather Observation Station 7"
   ]
  },
  {
   "cell_type": "code",
   "execution_count": null,
   "id": "12e9b90f",
   "metadata": {},
   "outputs": [],
   "source": [
    "select distinct CITY from STATION where lower(right(CITY, 1)) in ('a', 'e', 'i', 'o', 'u');"
   ]
  },
  {
   "cell_type": "markdown",
   "id": "488f0827",
   "metadata": {},
   "source": [
    "### Weather Observation Station 8"
   ]
  },
  {
   "cell_type": "code",
   "execution_count": null,
   "id": "187ee251",
   "metadata": {},
   "outputs": [],
   "source": [
    "select distinct CITY from STATION where lower(left(CITY, 1)) in ('a', 'e', 'i', 'o', 'u') and lower(right(CITY, 1)) in ('a', 'e', 'i', 'o', 'u');"
   ]
  },
  {
   "cell_type": "markdown",
   "id": "b3547aee",
   "metadata": {},
   "source": [
    "### Weather Observation Station 9"
   ]
  },
  {
   "cell_type": "code",
   "execution_count": null,
   "id": "e4d91c19",
   "metadata": {},
   "outputs": [],
   "source": [
    "select distinct CITY from STATION where lower(left(CITY, 1)) not in ('a', 'e', 'i', 'o', 'u');"
   ]
  },
  {
   "cell_type": "markdown",
   "id": "04d84630",
   "metadata": {},
   "source": [
    "### Weather Observation Station 10"
   ]
  },
  {
   "cell_type": "code",
   "execution_count": null,
   "id": "9cb0dfdb",
   "metadata": {},
   "outputs": [],
   "source": [
    "select distinct CITY from STATION where lower(right(CITY, 1)) not in ('a', 'e', 'i', 'o', 'u');"
   ]
  },
  {
   "cell_type": "markdown",
   "id": "19f622a6",
   "metadata": {},
   "source": [
    "### Weather Observation Station 11"
   ]
  },
  {
   "cell_type": "code",
   "execution_count": null,
   "id": "02b4b9d8",
   "metadata": {},
   "outputs": [],
   "source": [
    "select distinct CITY from STATION where lower(left(CITY, 1)) not in ('a', 'e', 'i', 'o', 'u') or lower(right(CITY, 1)) not in ('a', 'e', 'i', 'o', 'u');"
   ]
  },
  {
   "cell_type": "markdown",
   "id": "dcafb3e8",
   "metadata": {},
   "source": [
    "### Weather Observation Station 12"
   ]
  },
  {
   "cell_type": "code",
   "execution_count": null,
   "id": "312401f2",
   "metadata": {},
   "outputs": [],
   "source": [
    "select distinct CITY from STATION where lower(left(CITY, 1)) not in ('a', 'e', 'i', 'o', 'u') and lower(right(CITY, 1)) not in ('a', 'e', 'i', 'o', 'u');"
   ]
  },
  {
   "cell_type": "markdown",
   "id": "9bee4e73",
   "metadata": {},
   "source": [
    "### Higher Than 75 Marks"
   ]
  },
  {
   "cell_type": "code",
   "execution_count": null,
   "id": "01a728c4",
   "metadata": {},
   "outputs": [],
   "source": [
    "select NAME from STUDENTS where marks > 75 order by right(NAME, 3) asc, ID asc;"
   ]
  },
  {
   "cell_type": "markdown",
   "id": "4bc80da4",
   "metadata": {},
   "source": [
    "### Employee Names"
   ]
  },
  {
   "cell_type": "code",
   "execution_count": null,
   "id": "d415bc2e",
   "metadata": {},
   "outputs": [],
   "source": [
    "select NAME from EMPLOYEE order by NAME asc;"
   ]
  },
  {
   "cell_type": "markdown",
   "id": "6161e546",
   "metadata": {},
   "source": [
    "### Employee Salaries"
   ]
  },
  {
   "cell_type": "code",
   "execution_count": null,
   "id": "1c794e5f",
   "metadata": {},
   "outputs": [],
   "source": [
    "select NAME from EMPLOYEE where SALARY > 2000 and MONTHS < 10 order by EMPLOYEE_ID asc;"
   ]
  },
  {
   "cell_type": "markdown",
   "id": "5aec7916",
   "metadata": {},
   "source": [
    "### Type of Triangle"
   ]
  },
  {
   "cell_type": "code",
   "execution_count": null,
   "id": "80ae883e",
   "metadata": {},
   "outputs": [],
   "source": [
    "select case \n",
    "when A+B<=C or A+C<=B or B+C<=A then 'Not A Triangle'\n",
    "when A=B and B=C and A=C then 'Equilateral'\n",
    "when A=B or B=C or A=C then 'Isosceles'\n",
    "else 'Scalene'\n",
    "end\n",
    "from TRIANGLES;"
   ]
  },
  {
   "cell_type": "markdown",
   "id": "186eae18",
   "metadata": {},
   "source": [
    "### The PADS"
   ]
  },
  {
   "cell_type": "code",
   "execution_count": null,
   "id": "66066595",
   "metadata": {},
   "outputs": [],
   "source": [
    "select concat(concat(concat(NAME, '('), left(OCCUPATION, 1)), ')') from OCCUPATIONS order by NAME asc;"
   ]
  },
  {
   "cell_type": "code",
   "execution_count": null,
   "id": "899a132b",
   "metadata": {},
   "outputs": [],
   "source": [
    "select concat(concat(concat(concat('There are a total of ', count(OCCUPATION)), ' '), lower(OCCUPATION)),'s.') as N \n",
    "from OCCUPATIONS \n",
    "group by OCCUPATION \n",
    "order by N asc, OCCUPATION asc;"
   ]
  },
  {
   "cell_type": "markdown",
   "id": "4e5180fb",
   "metadata": {},
   "source": [
    "### Occupations"
   ]
  },
  {
   "cell_type": "code",
   "execution_count": null,
   "id": "cd3a1d40",
   "metadata": {},
   "outputs": [],
   "source": [
    "# MySQL\n",
    "\n",
    "WITH temp AS (\n",
    "    SELECT *, ROW_NUMBER() OVER (PARTITION BY occupation ORDER BY name) AS row_num\n",
    "    FROM Occupations\n",
    ")\n",
    "\n",
    "SELECT\n",
    "    MAX(CASE WHEN occupation = 'Doctor' THEN name END) AS doctor,\n",
    "    MAX(CASE WHEN occupation = 'Professor' THEN name END) AS professor,\n",
    "    MAX(CASE WHEN occupation = 'Singer' THEN name END) As singer,\n",
    "    MAX(CASE WHEN occupation = 'Actor' THEN name END) AS actor\n",
    "FROM temp\n",
    "GROUP BY row_num"
   ]
  },
  {
   "cell_type": "code",
   "execution_count": null,
   "id": "1a61eb0f",
   "metadata": {},
   "outputs": [],
   "source": [
    "# MS SQL Server\n",
    "\n",
    "WITH temp AS (\n",
    "    SELECT ROW_NUMBER() OVER (PARTITION BY occupation ORDER BY name) AS row_num, *\n",
    "    FROM Occupations\n",
    ")\n",
    "\n",
    "SELECT doctor, professor, singer, actor\n",
    "FROM temp PIVOT (MAX(name) FOR occupation IN (Doctor, Professor, Singer, Actor)) AS pvt;"
   ]
  },
  {
   "cell_type": "markdown",
   "id": "f0a0e2cb",
   "metadata": {},
   "source": [
    "### Binary Tree Nodes"
   ]
  },
  {
   "cell_type": "code",
   "execution_count": null,
   "id": "9beec0e7",
   "metadata": {},
   "outputs": [],
   "source": [
    "select N, case \n",
    "when P is null then 'Root'\n",
    "when (select count(*) from BST where P = t.N) > 0 then 'Inner'\n",
    "else 'Leaf'\n",
    "end\n",
    "from BST t\n",
    "order by N;"
   ]
  },
  {
   "cell_type": "markdown",
   "id": "60595499",
   "metadata": {},
   "source": [
    "### New Companies"
   ]
  },
  {
   "cell_type": "code",
   "execution_count": null,
   "id": "034c1c05",
   "metadata": {},
   "outputs": [],
   "source": [
    "select COMPANY_CODE, FOUNDER,\n",
    "(select count(distinct LEAD_MANAGER_CODE) from LEAD_MANAGER where COMPANY_CODE = C.COMPANY_CODE),\n",
    "(select count(distinct SENIOR_MANAGER_CODE) from SENIOR_MANAGER where COMPANY_CODE = C.COMPANY_CODE),\n",
    "(select count(distinct MANAGER_CODE) from MANAGER where COMPANY_CODE = C.COMPANY_CODE),\n",
    "(select count(distinct EMPLOYEE_CODE) from EMPLOYEE where COMPANY_CODE = C.COMPANY_CODE)\n",
    "from COMPANY C\n",
    "order by COMPANY_CODE;"
   ]
  },
  {
   "cell_type": "markdown",
   "id": "402ef656",
   "metadata": {},
   "source": [
    "### Revising Aggregations - The Count Function"
   ]
  },
  {
   "cell_type": "code",
   "execution_count": null,
   "id": "995b2919",
   "metadata": {},
   "outputs": [],
   "source": [
    "select count(NAME) from CITY where POPULATION > 100000;"
   ]
  },
  {
   "cell_type": "markdown",
   "id": "83e831bd",
   "metadata": {},
   "source": [
    "### Revising Aggregations - The Sum Function"
   ]
  },
  {
   "cell_type": "code",
   "execution_count": null,
   "id": "938c0acb",
   "metadata": {},
   "outputs": [],
   "source": [
    "select sum(POPULATION) from CITY where DISTRICT = 'California';"
   ]
  },
  {
   "cell_type": "markdown",
   "id": "c77f40f9",
   "metadata": {},
   "source": [
    "### Revising Aggregations - Averages"
   ]
  },
  {
   "cell_type": "code",
   "execution_count": null,
   "id": "7155eb2a",
   "metadata": {},
   "outputs": [],
   "source": [
    "select avg(POPULATION) from CITY where DISTRICT = 'California';"
   ]
  },
  {
   "cell_type": "markdown",
   "id": "1d80e688",
   "metadata": {},
   "source": [
    "### Average Population"
   ]
  },
  {
   "cell_type": "code",
   "execution_count": null,
   "id": "4b829ef4",
   "metadata": {},
   "outputs": [],
   "source": [
    "select round(avg(POPULATION)) from (select distinct NAME, POPULATION from CITY);"
   ]
  },
  {
   "cell_type": "markdown",
   "id": "93b6335a",
   "metadata": {},
   "source": [
    "### Japan Population"
   ]
  },
  {
   "cell_type": "code",
   "execution_count": null,
   "id": "6d6cede8",
   "metadata": {},
   "outputs": [],
   "source": [
    "select sum(POPULATION) from CITY where COUNTRYCODE = 'JPN';"
   ]
  },
  {
   "cell_type": "markdown",
   "id": "9d74f02d",
   "metadata": {},
   "source": [
    "### Population Density Difference"
   ]
  },
  {
   "cell_type": "code",
   "execution_count": null,
   "id": "1e5e9142",
   "metadata": {},
   "outputs": [],
   "source": [
    "select max(POPULATION)-min(POPULATION) from CITY;"
   ]
  },
  {
   "cell_type": "markdown",
   "id": "199bd2a5",
   "metadata": {},
   "source": [
    "### The Blunder"
   ]
  },
  {
   "cell_type": "code",
   "execution_count": null,
   "id": "3559e91c",
   "metadata": {},
   "outputs": [],
   "source": [
    "select ceil(avg(SALARY) - avg(replace(SALARY, '0', ''))) from EMPLOYEES;"
   ]
  },
  {
   "cell_type": "markdown",
   "id": "247fb978",
   "metadata": {},
   "source": [
    "### Top Earners"
   ]
  },
  {
   "cell_type": "code",
   "execution_count": null,
   "id": "df0f0264",
   "metadata": {},
   "outputs": [],
   "source": [
    "select max(MONTHS*SALARY), count(*)\n",
    "from EMPLOYEE \n",
    "where MONTHS*SALARY = (select max(MONTHS*SALARY) from EMPLOYEE);"
   ]
  },
  {
   "cell_type": "markdown",
   "id": "6163be4b",
   "metadata": {},
   "source": [
    "### Weather Observation Station 2"
   ]
  },
  {
   "cell_type": "code",
   "execution_count": null,
   "id": "bfba420d",
   "metadata": {},
   "outputs": [],
   "source": [
    "select round(sum(LAT_N), 2), round(sum(LONG_W), 2) from STATION;"
   ]
  },
  {
   "cell_type": "markdown",
   "id": "b3356d1e",
   "metadata": {},
   "source": [
    "### Weather Observation Station 13"
   ]
  },
  {
   "cell_type": "code",
   "execution_count": null,
   "id": "b9475645",
   "metadata": {},
   "outputs": [],
   "source": [
    "select round(sum(LAT_N), 4) from STATION where LAT_N > 38.7880 and LAT_N < 137.2345;"
   ]
  },
  {
   "cell_type": "markdown",
   "id": "4627d3c7",
   "metadata": {},
   "source": [
    "### Weather Observation Station 14"
   ]
  },
  {
   "cell_type": "code",
   "execution_count": null,
   "id": "bb672dcf",
   "metadata": {},
   "outputs": [],
   "source": [
    "select round(max(LAT_N), 4) from STATION where LAT_N < 137.2345;"
   ]
  },
  {
   "cell_type": "markdown",
   "id": "97677b67",
   "metadata": {},
   "source": [
    "### Weather Observation Station 15"
   ]
  },
  {
   "cell_type": "code",
   "execution_count": null,
   "id": "594f851d",
   "metadata": {},
   "outputs": [],
   "source": [
    "select round(LONG_W, 4) from STATION where LAT_N = (select max(LAT_N) from STATION where LAT_N < 137.2345);"
   ]
  },
  {
   "cell_type": "markdown",
   "id": "b678690c",
   "metadata": {},
   "source": [
    "### Weather Observation Station 16"
   ]
  },
  {
   "cell_type": "code",
   "execution_count": null,
   "id": "b2cadd85",
   "metadata": {},
   "outputs": [],
   "source": [
    "select round(min(LAT_N), 4) from STATION where LAT_N > 38.7780;"
   ]
  },
  {
   "cell_type": "markdown",
   "id": "067afed5",
   "metadata": {},
   "source": [
    "### Weather Observation Station 17"
   ]
  },
  {
   "cell_type": "code",
   "execution_count": null,
   "id": "4d645201",
   "metadata": {},
   "outputs": [],
   "source": [
    "select round(LONG_W, 4) from STATION where LAT_N = (select min(LAT_N) from STATION where LAT_N > 38.7780);"
   ]
  },
  {
   "cell_type": "markdown",
   "id": "985723a3",
   "metadata": {},
   "source": [
    "### Weather Observation Station 18"
   ]
  },
  {
   "cell_type": "code",
   "execution_count": null,
   "id": "e1a4a057",
   "metadata": {},
   "outputs": [],
   "source": [
    "select round(abs(min(LAT_N) - max(LAT_N)) + abs(min(LONG_W) - max(LONG_W)), 4) from STATION;"
   ]
  },
  {
   "cell_type": "markdown",
   "id": "b0041857",
   "metadata": {},
   "source": [
    "### Weather Observation Station 19"
   ]
  },
  {
   "cell_type": "code",
   "execution_count": null,
   "id": "6edc71fc",
   "metadata": {},
   "outputs": [],
   "source": [
    "select round(sqrt(power(max(LAT_N)-min(LAT_N), 2)+power(max(LONG_W)-min(LONG_W), 2)), 4) from STATION;"
   ]
  },
  {
   "cell_type": "markdown",
   "id": "c07c4c47",
   "metadata": {},
   "source": [
    "### Weather Observation Station 20"
   ]
  },
  {
   "cell_type": "code",
   "execution_count": null,
   "id": "8b339643",
   "metadata": {},
   "outputs": [],
   "source": [
    "select round(LAT_N, 4)\n",
    "from (select LAT_N, row_number() over (ORDER BY LAT_N) as ROWNU from STATION) as X\n",
    "where ROWNU = (select round((count(LAT_N)+1)/2, 0) from STATION);"
   ]
  },
  {
   "cell_type": "markdown",
   "id": "9834b851",
   "metadata": {},
   "source": [
    "### Population Census"
   ]
  },
  {
   "cell_type": "code",
   "execution_count": null,
   "id": "3f1865d0",
   "metadata": {},
   "outputs": [],
   "source": [
    "select sum(CITY.POPULATION) \n",
    "from CITY \n",
    "inner join COUNTRY \n",
    "on CITY.COUNTRYCODE = COUNTRY.CODE\n",
    "where COUNTRY.CONTINENT = 'Asia';"
   ]
  },
  {
   "cell_type": "markdown",
   "id": "f2ca3672",
   "metadata": {},
   "source": [
    "### African Cities"
   ]
  },
  {
   "cell_type": "code",
   "execution_count": null,
   "id": "9d8f7082",
   "metadata": {},
   "outputs": [],
   "source": [
    "select CITY.NAME \n",
    "from CITY\n",
    "inner join COUNTRY\n",
    "on CITY.COUNTRYCODE = COUNTRY.CODE\n",
    "where COUNTRY.CONTINENT = 'Africa';"
   ]
  },
  {
   "cell_type": "markdown",
   "id": "4ebdbb4f",
   "metadata": {},
   "source": [
    "### Average Population of Each Continent"
   ]
  },
  {
   "cell_type": "code",
   "execution_count": null,
   "id": "b91cab91",
   "metadata": {},
   "outputs": [],
   "source": [
    "select COUNTRY.CONTINENT, floor(avg(CITY.POPULATION))\n",
    "from CITY\n",
    "inner join COUNTRY\n",
    "on CITY.COUNTRYCODE = COUNTRY.CODE\n",
    "group by COUNTRY.CONTINENT;"
   ]
  },
  {
   "cell_type": "markdown",
   "id": "4022064b",
   "metadata": {},
   "source": [
    "### The Report"
   ]
  },
  {
   "cell_type": "code",
   "execution_count": null,
   "id": "919c630e",
   "metadata": {},
   "outputs": [],
   "source": [
    "select if(GRADES.GRADE>=8, STUDENTS.NAME, NULL), GRADES.GRADE, STUDENTS.MARKS\n",
    "from STUDENTS, GRADES\n",
    "where STUDENTS.MARKS between GRADES.MIN_MARK and GRADES.MAX_MARK\n",
    "order by GRADES.GRADE desc, STUDENTS.NAME asc;"
   ]
  },
  {
   "cell_type": "markdown",
   "id": "7b17bf12",
   "metadata": {},
   "source": [
    "### Top Competitors"
   ]
  },
  {
   "cell_type": "code",
   "execution_count": null,
   "id": "895423a5",
   "metadata": {},
   "outputs": [],
   "source": [
    "select H.HACKER_ID, H.NAME\n",
    "from HACKERS H\n",
    "inner join SUBMISSIONS S\n",
    "on H.HACKER_ID = S.HACKER_ID\n",
    "inner join CHALLENGES C\n",
    "on S.CHALLENGE_ID = C.CHALLENGE_ID\n",
    "inner join DIFFICULTY D\n",
    "on C.DIFFICULTY_LEVEL = D.DIFFICULTY_LEVEL\n",
    "where S.SCORE = D.SCORE\n",
    "group by H.HACKER_ID, H.NAME\n",
    "having count(S.HACKER_ID) > 1\n",
    "order by count(S.HACKER_ID) desc, S.HACKER_ID asc;"
   ]
  },
  {
   "cell_type": "code",
   "execution_count": null,
   "id": "fdb78c93",
   "metadata": {},
   "outputs": [],
   "source": [
    "### "
   ]
  },
  {
   "cell_type": "code",
   "execution_count": null,
   "id": "7b6e246a",
   "metadata": {},
   "outputs": [],
   "source": []
  }
 ],
 "metadata": {
  "kernelspec": {
   "display_name": "Python 3 (ipykernel)",
   "language": "python",
   "name": "python3"
  },
  "language_info": {
   "codemirror_mode": {
    "name": "ipython",
    "version": 3
   },
   "file_extension": ".py",
   "mimetype": "text/x-python",
   "name": "python",
   "nbconvert_exporter": "python",
   "pygments_lexer": "ipython3",
   "version": "3.8.16"
  }
 },
 "nbformat": 4,
 "nbformat_minor": 5
}
