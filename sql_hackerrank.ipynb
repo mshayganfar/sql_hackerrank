{
 "cells": [
  {
   "cell_type": "markdown",
   "id": "071a984a",
   "metadata": {},
   "source": [
    "### Revising the Select Query I"
   ]
  },
  {
   "cell_type": "code",
   "execution_count": null,
   "id": "263fefe6",
   "metadata": {},
   "outputs": [],
   "source": [
    "select * from CITY where POPULATION>100000 and COUNTRYCODE='USA';"
   ]
  },
  {
   "cell_type": "markdown",
   "id": "cb2bf23a",
   "metadata": {},
   "source": [
    "### Revising the Select Query II"
   ]
  },
  {
   "cell_type": "code",
   "execution_count": null,
   "id": "6ba319d4",
   "metadata": {},
   "outputs": [],
   "source": [
    "select NAME from CITY where POPULATION>120000 and COUNTRYCODE='USA';"
   ]
  },
  {
   "cell_type": "markdown",
   "id": "7f70b70c",
   "metadata": {},
   "source": [
    "### Select All"
   ]
  },
  {
   "cell_type": "code",
   "execution_count": null,
   "id": "c9058a2d",
   "metadata": {},
   "outputs": [],
   "source": [
    "select * from CITY;"
   ]
  },
  {
   "cell_type": "markdown",
   "id": "0d1adc51",
   "metadata": {},
   "source": [
    "### Select By ID"
   ]
  },
  {
   "cell_type": "code",
   "execution_count": null,
   "id": "6a308584",
   "metadata": {},
   "outputs": [],
   "source": [
    "select * from CITY where ID=1661;"
   ]
  },
  {
   "cell_type": "markdown",
   "id": "a650adf6",
   "metadata": {},
   "source": [
    "### Japanese Cities' Attributes"
   ]
  },
  {
   "cell_type": "code",
   "execution_count": null,
   "id": "8b93624e",
   "metadata": {},
   "outputs": [],
   "source": [
    "select * from CITY where COUNTRYCODE='JPN';"
   ]
  },
  {
   "cell_type": "markdown",
   "id": "7f85236b",
   "metadata": {},
   "source": [
    "### Japanese Cities' Names"
   ]
  },
  {
   "cell_type": "code",
   "execution_count": null,
   "id": "84507c0c",
   "metadata": {},
   "outputs": [],
   "source": [
    "select NAME from CITY where COUNTRYCODE='JPN';"
   ]
  },
  {
   "cell_type": "markdown",
   "id": "2023a852",
   "metadata": {},
   "source": [
    "### Weather Observation Station 1"
   ]
  },
  {
   "cell_type": "code",
   "execution_count": null,
   "id": "8f9f08ab",
   "metadata": {},
   "outputs": [],
   "source": [
    "select CITY, STATE from STATION;"
   ]
  },
  {
   "cell_type": "markdown",
   "id": "4f0188dc",
   "metadata": {},
   "source": [
    "### Weather Observation Station 3"
   ]
  },
  {
   "cell_type": "code",
   "execution_count": null,
   "id": "a661545c",
   "metadata": {},
   "outputs": [],
   "source": [
    "select distinct CITY from STATION where mod(ID, 2) = 0; # mod in DB2"
   ]
  },
  {
   "cell_type": "markdown",
   "id": "da28f166",
   "metadata": {},
   "source": [
    "### Weather Observation Station 4"
   ]
  },
  {
   "cell_type": "code",
   "execution_count": null,
   "id": "f335b9d9",
   "metadata": {},
   "outputs": [],
   "source": [
    "select count(CITY)-count(distinct CITY) from STATION;"
   ]
  },
  {
   "cell_type": "markdown",
   "id": "aa04425f",
   "metadata": {},
   "source": [
    "### Weather Observation Station 5"
   ]
  },
  {
   "cell_type": "code",
   "execution_count": null,
   "id": "30057c3a",
   "metadata": {},
   "outputs": [],
   "source": [
    "select CITY, length(CITY) from STATION order by length(CITY) asc, CITY limit 1;\n",
    "select CITY, length(CITY) from STATION order by length(CITY) desc, CITY limit 1; "
   ]
  },
  {
   "cell_type": "markdown",
   "id": "68b5a9df",
   "metadata": {},
   "source": [
    "### Weather Observation Station 6"
   ]
  },
  {
   "cell_type": "code",
   "execution_count": null,
   "id": "7fa29b3e",
   "metadata": {},
   "outputs": [],
   "source": [
    "select distinct CITY from STATION where lower(left(CITY, 1)) in ('a', 'e', 'i', 'o', 'u');"
   ]
  },
  {
   "cell_type": "markdown",
   "id": "7c34ae4c",
   "metadata": {},
   "source": [
    "### Weather Observation Station 7"
   ]
  },
  {
   "cell_type": "code",
   "execution_count": null,
   "id": "9c5f106f",
   "metadata": {},
   "outputs": [],
   "source": [
    "select distinct CITY from STATION where lower(right(CITY, 1)) in ('a', 'e', 'i', 'o', 'u');"
   ]
  },
  {
   "cell_type": "markdown",
   "id": "cd04af68",
   "metadata": {},
   "source": [
    "### Weather Observation Station 8"
   ]
  },
  {
   "cell_type": "code",
   "execution_count": null,
   "id": "06419581",
   "metadata": {},
   "outputs": [],
   "source": [
    "select distinct CITY from STATION where lower(left(CITY, 1)) in ('a', 'e', 'i', 'o', 'u') and lower(right(CITY, 1)) in ('a', 'e', 'i', 'o', 'u');"
   ]
  },
  {
   "cell_type": "markdown",
   "id": "95437ee8",
   "metadata": {},
   "source": [
    "### Weather Observation Station 9"
   ]
  },
  {
   "cell_type": "code",
   "execution_count": null,
   "id": "ff210a1c",
   "metadata": {},
   "outputs": [],
   "source": [
    "select distinct CITY from STATION where lower(left(CITY, 1)) not in ('a', 'e', 'i', 'o', 'u');"
   ]
  },
  {
   "cell_type": "markdown",
   "id": "cb710656",
   "metadata": {},
   "source": [
    "### Weather Observation Station 10"
   ]
  },
  {
   "cell_type": "code",
   "execution_count": null,
   "id": "a1d1f060",
   "metadata": {},
   "outputs": [],
   "source": [
    "select distinct CITY from STATION where lower(right(CITY, 1)) not in ('a', 'e', 'i', 'o', 'u');"
   ]
  },
  {
   "cell_type": "markdown",
   "id": "04ae8970",
   "metadata": {},
   "source": [
    "### Weather Observation Station 11"
   ]
  },
  {
   "cell_type": "code",
   "execution_count": null,
   "id": "ab0c8f2b",
   "metadata": {},
   "outputs": [],
   "source": [
    "select distinct CITY from STATION where lower(left(CITY, 1)) not in ('a', 'e', 'i', 'o', 'u') or lower(right(CITY, 1)) not in ('a', 'e', 'i', 'o', 'u');"
   ]
  },
  {
   "cell_type": "markdown",
   "id": "117f0332",
   "metadata": {},
   "source": [
    "### Weather Observation Station 12"
   ]
  },
  {
   "cell_type": "code",
   "execution_count": null,
   "id": "ed28df1c",
   "metadata": {},
   "outputs": [],
   "source": [
    "select distinct CITY from STATION where lower(left(CITY, 1)) not in ('a', 'e', 'i', 'o', 'u') and lower(right(CITY, 1)) not in ('a', 'e', 'i', 'o', 'u');"
   ]
  },
  {
   "cell_type": "markdown",
   "id": "549f119f",
   "metadata": {},
   "source": [
    "### Higher Than 75 Marks"
   ]
  },
  {
   "cell_type": "code",
   "execution_count": null,
   "id": "3a3c4123",
   "metadata": {},
   "outputs": [],
   "source": [
    "select NAME from STUDENTS where marks > 75 order by right(NAME, 3) asc, ID asc;"
   ]
  },
  {
   "cell_type": "markdown",
   "id": "ab355293",
   "metadata": {},
   "source": [
    "### Employee Names"
   ]
  },
  {
   "cell_type": "code",
   "execution_count": null,
   "id": "e1e4deb2",
   "metadata": {},
   "outputs": [],
   "source": [
    "select NAME from EMPLOYEE order by NAME asc;"
   ]
  },
  {
   "cell_type": "markdown",
   "id": "8ba83215",
   "metadata": {},
   "source": [
    "### Employee Salaries"
   ]
  },
  {
   "cell_type": "code",
   "execution_count": null,
   "id": "0cf40c59",
   "metadata": {},
   "outputs": [],
   "source": [
    "select NAME from EMPLOYEE where SALARY > 2000 and MONTHS < 10 order by EMPLOYEE_ID asc;"
   ]
  },
  {
   "cell_type": "markdown",
   "id": "cecbe7a8",
   "metadata": {},
   "source": [
    "### Type of Triangle"
   ]
  },
  {
   "cell_type": "code",
   "execution_count": null,
   "id": "66136723",
   "metadata": {},
   "outputs": [],
   "source": [
    "select case \n",
    "when A+B<=C or A+C<=B or B+C<=A then 'Not A Triangle'\n",
    "when A=B and B=C and A=C then 'Equilateral'\n",
    "when A=B or B=C or A=C then 'Isosceles'\n",
    "else 'Scalene'\n",
    "end\n",
    "from TRIANGLES;"
   ]
  },
  {
   "cell_type": "markdown",
   "id": "9f98d6e5",
   "metadata": {},
   "source": [
    "### The PADS"
   ]
  },
  {
   "cell_type": "code",
   "execution_count": null,
   "id": "2082d0e8",
   "metadata": {},
   "outputs": [],
   "source": [
    "select concat(concat(concat(NAME, '('), left(OCCUPATION, 1)), ')') from OCCUPATIONS order by NAME asc;"
   ]
  },
  {
   "cell_type": "code",
   "execution_count": null,
   "id": "ca45aa63",
   "metadata": {},
   "outputs": [],
   "source": [
    "select concat(concat(concat(concat('There are a total of ', count(OCCUPATION)), ' '), lower(OCCUPATION)),'s.') as N \n",
    "from OCCUPATIONS \n",
    "group by OCCUPATION \n",
    "order by N asc, OCCUPATION asc;"
   ]
  },
  {
   "cell_type": "markdown",
   "id": "a89f7e50",
   "metadata": {},
   "source": [
    "### Occupations"
   ]
  },
  {
   "cell_type": "code",
   "execution_count": null,
   "id": "9389d988",
   "metadata": {},
   "outputs": [],
   "source": [
    "# MySQL\n",
    "\n",
    "WITH temp AS (\n",
    "    SELECT *, ROW_NUMBER() OVER (PARTITION BY occupation ORDER BY name) AS row_num\n",
    "    FROM Occupations\n",
    ")\n",
    "\n",
    "SELECT\n",
    "    MAX(CASE WHEN occupation = 'Doctor' THEN name END) AS doctor,\n",
    "    MAX(CASE WHEN occupation = 'Professor' THEN name END) AS professor,\n",
    "    MAX(CASE WHEN occupation = 'Singer' THEN name END) As singer,\n",
    "    MAX(CASE WHEN occupation = 'Actor' THEN name END) AS actor\n",
    "FROM temp\n",
    "GROUP BY row_num"
   ]
  },
  {
   "cell_type": "code",
   "execution_count": null,
   "id": "4ab9a574",
   "metadata": {},
   "outputs": [],
   "source": [
    "# MS SQL Server\n",
    "\n",
    "WITH temp AS (\n",
    "    SELECT ROW_NUMBER() OVER (PARTITION BY occupation ORDER BY name) AS row_num, *\n",
    "    FROM Occupations\n",
    ")\n",
    "\n",
    "SELECT doctor, professor, singer, actor\n",
    "FROM temp PIVOT (MAX(name) FOR occupation IN (Doctor, Professor, Singer, Actor)) AS pvt;"
   ]
  },
  {
   "cell_type": "code",
   "execution_count": null,
   "id": "94503961",
   "metadata": {},
   "outputs": [],
   "source": []
  }
 ],
 "metadata": {
  "kernelspec": {
   "display_name": "Python 3 (ipykernel)",
   "language": "python",
   "name": "python3"
  },
  "language_info": {
   "codemirror_mode": {
    "name": "ipython",
    "version": 3
   },
   "file_extension": ".py",
   "mimetype": "text/x-python",
   "name": "python",
   "nbconvert_exporter": "python",
   "pygments_lexer": "ipython3",
   "version": "3.8.16"
  }
 },
 "nbformat": 4,
 "nbformat_minor": 5
}
