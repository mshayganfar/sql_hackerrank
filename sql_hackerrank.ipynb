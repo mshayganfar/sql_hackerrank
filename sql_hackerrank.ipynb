{
 "cells": [
  {
   "cell_type": "markdown",
   "id": "73fd477f",
   "metadata": {},
   "source": [
    "### Revising the Select Query I"
   ]
  },
  {
   "cell_type": "code",
   "execution_count": null,
   "id": "0203d795",
   "metadata": {},
   "outputs": [],
   "source": [
    "select * from CITY where POPULATION>100000 and COUNTRYCODE='USA';"
   ]
  },
  {
   "cell_type": "markdown",
   "id": "00dd9bef",
   "metadata": {},
   "source": [
    "### Revising the Select Query II"
   ]
  },
  {
   "cell_type": "code",
   "execution_count": null,
   "id": "35cbee7f",
   "metadata": {},
   "outputs": [],
   "source": [
    "select NAME from CITY where POPULATION>120000 and COUNTRYCODE='USA';"
   ]
  },
  {
   "cell_type": "markdown",
   "id": "89502dc4",
   "metadata": {},
   "source": [
    "### Select All"
   ]
  },
  {
   "cell_type": "code",
   "execution_count": null,
   "id": "4119ffd4",
   "metadata": {},
   "outputs": [],
   "source": [
    "select * from CITY;"
   ]
  },
  {
   "cell_type": "markdown",
   "id": "6fb793f5",
   "metadata": {},
   "source": [
    "### Select By ID"
   ]
  },
  {
   "cell_type": "code",
   "execution_count": null,
   "id": "cc21b602",
   "metadata": {},
   "outputs": [],
   "source": [
    "select * from CITY where ID=1661;"
   ]
  },
  {
   "cell_type": "markdown",
   "id": "210c687a",
   "metadata": {},
   "source": [
    "### Japanese Cities' Attributes"
   ]
  },
  {
   "cell_type": "code",
   "execution_count": null,
   "id": "039f42a3",
   "metadata": {},
   "outputs": [],
   "source": [
    "select * from CITY where COUNTRYCODE='JPN';"
   ]
  },
  {
   "cell_type": "markdown",
   "id": "8bd512aa",
   "metadata": {},
   "source": [
    "### Japanese Cities' Names"
   ]
  },
  {
   "cell_type": "code",
   "execution_count": null,
   "id": "a49b4b3b",
   "metadata": {},
   "outputs": [],
   "source": [
    "select NAME from CITY where COUNTRYCODE='JPN';"
   ]
  },
  {
   "cell_type": "markdown",
   "id": "17a84ab0",
   "metadata": {},
   "source": [
    "### Weather Observation Station 1"
   ]
  },
  {
   "cell_type": "code",
   "execution_count": null,
   "id": "27c92eac",
   "metadata": {},
   "outputs": [],
   "source": [
    "select CITY, STATE from STATION;"
   ]
  },
  {
   "cell_type": "markdown",
   "id": "08ec0fc8",
   "metadata": {},
   "source": [
    "### Weather Observation Station 3"
   ]
  },
  {
   "cell_type": "code",
   "execution_count": null,
   "id": "e3e466ec",
   "metadata": {},
   "outputs": [],
   "source": [
    "select distinct CITY from STATION where mod(ID, 2) = 0; # mod in DB2"
   ]
  },
  {
   "cell_type": "markdown",
   "id": "888c44da",
   "metadata": {},
   "source": [
    "### Weather Observation Station 4"
   ]
  },
  {
   "cell_type": "code",
   "execution_count": null,
   "id": "a898e6df",
   "metadata": {},
   "outputs": [],
   "source": [
    "select count(CITY)-count(distinct CITY) from STATION;"
   ]
  },
  {
   "cell_type": "markdown",
   "id": "0b543106",
   "metadata": {},
   "source": [
    "### Weather Observation Station 5"
   ]
  },
  {
   "cell_type": "code",
   "execution_count": null,
   "id": "690ddcf5",
   "metadata": {},
   "outputs": [],
   "source": [
    "select CITY, length(CITY) from STATION order by length(CITY) asc, CITY limit 1;\n",
    "select CITY, length(CITY) from STATION order by length(CITY) desc, CITY limit 1; "
   ]
  },
  {
   "cell_type": "markdown",
   "id": "2bf84a7b",
   "metadata": {},
   "source": [
    "### Weather Observation Station 6"
   ]
  },
  {
   "cell_type": "code",
   "execution_count": null,
   "id": "a8213fd6",
   "metadata": {},
   "outputs": [],
   "source": [
    "select distinct CITY from STATION where lower(left(CITY, 1)) in ('a', 'e', 'i', 'o', 'u');"
   ]
  },
  {
   "cell_type": "markdown",
   "id": "aafcf0d7",
   "metadata": {},
   "source": [
    "### Weather Observation Station 7"
   ]
  },
  {
   "cell_type": "code",
   "execution_count": null,
   "id": "54364aa6",
   "metadata": {},
   "outputs": [],
   "source": [
    "select distinct CITY from STATION where lower(right(CITY, 1)) in ('a', 'e', 'i', 'o', 'u');"
   ]
  },
  {
   "cell_type": "markdown",
   "id": "811781ed",
   "metadata": {},
   "source": [
    "### Weather Observation Station 8"
   ]
  },
  {
   "cell_type": "code",
   "execution_count": null,
   "id": "d96d8626",
   "metadata": {},
   "outputs": [],
   "source": [
    "select distinct CITY from STATION where lower(left(CITY, 1)) in ('a', 'e', 'i', 'o', 'u') and lower(right(CITY, 1)) in ('a', 'e', 'i', 'o', 'u');"
   ]
  },
  {
   "cell_type": "markdown",
   "id": "083a82b6",
   "metadata": {},
   "source": [
    "### Weather Observation Station 9"
   ]
  },
  {
   "cell_type": "code",
   "execution_count": null,
   "id": "0853ece4",
   "metadata": {},
   "outputs": [],
   "source": [
    "select distinct CITY from STATION where lower(left(CITY, 1)) not in ('a', 'e', 'i', 'o', 'u');"
   ]
  },
  {
   "cell_type": "markdown",
   "id": "2653e875",
   "metadata": {},
   "source": [
    "### Weather Observation Station 10"
   ]
  },
  {
   "cell_type": "code",
   "execution_count": null,
   "id": "e548a54b",
   "metadata": {},
   "outputs": [],
   "source": [
    "select distinct CITY from STATION where lower(right(CITY, 1)) not in ('a', 'e', 'i', 'o', 'u');"
   ]
  },
  {
   "cell_type": "markdown",
   "id": "2d478f0e",
   "metadata": {},
   "source": [
    "### Weather Observation Station 11"
   ]
  },
  {
   "cell_type": "code",
   "execution_count": null,
   "id": "6e032721",
   "metadata": {},
   "outputs": [],
   "source": [
    "select distinct CITY from STATION where lower(left(CITY, 1)) not in ('a', 'e', 'i', 'o', 'u') or lower(right(CITY, 1)) not in ('a', 'e', 'i', 'o', 'u');"
   ]
  },
  {
   "cell_type": "markdown",
   "id": "6dbda37c",
   "metadata": {},
   "source": [
    "### Weather Observation Station 12"
   ]
  },
  {
   "cell_type": "code",
   "execution_count": null,
   "id": "505718e3",
   "metadata": {},
   "outputs": [],
   "source": [
    "select distinct CITY from STATION where lower(left(CITY, 1)) not in ('a', 'e', 'i', 'o', 'u') and lower(right(CITY, 1)) not in ('a', 'e', 'i', 'o', 'u');"
   ]
  },
  {
   "cell_type": "markdown",
   "id": "e55cdc56",
   "metadata": {},
   "source": [
    "### Higher Than 75 Marks"
   ]
  },
  {
   "cell_type": "code",
   "execution_count": null,
   "id": "f822b561",
   "metadata": {},
   "outputs": [],
   "source": [
    "select NAME from STUDENTS where marks > 75 order by right(NAME, 3) asc, ID asc;"
   ]
  },
  {
   "cell_type": "markdown",
   "id": "af87a492",
   "metadata": {},
   "source": [
    "### Employee Names"
   ]
  },
  {
   "cell_type": "code",
   "execution_count": null,
   "id": "e8fcd2ee",
   "metadata": {},
   "outputs": [],
   "source": [
    "select NAME from EMPLOYEE order by NAME asc;"
   ]
  },
  {
   "cell_type": "markdown",
   "id": "b0f9e938",
   "metadata": {},
   "source": [
    "### Employee Salaries"
   ]
  },
  {
   "cell_type": "code",
   "execution_count": null,
   "id": "fc37fede",
   "metadata": {},
   "outputs": [],
   "source": [
    "select NAME from EMPLOYEE where SALARY > 2000 and MONTHS < 10 order by EMPLOYEE_ID asc;"
   ]
  },
  {
   "cell_type": "markdown",
   "id": "9a3e1c4e",
   "metadata": {},
   "source": [
    "### Type of Triangle"
   ]
  },
  {
   "cell_type": "code",
   "execution_count": null,
   "id": "10ae38da",
   "metadata": {},
   "outputs": [],
   "source": [
    "select case \n",
    "when A+B<=C or A+C<=B or B+C<=A then 'Not A Triangle'\n",
    "when A=B and B=C and A=C then 'Equilateral'\n",
    "when A=B or B=C or A=C then 'Isosceles'\n",
    "else 'Scalene'\n",
    "end\n",
    "from TRIANGLES;"
   ]
  },
  {
   "cell_type": "markdown",
   "id": "1269958e",
   "metadata": {},
   "source": [
    "### The PADS"
   ]
  },
  {
   "cell_type": "code",
   "execution_count": null,
   "id": "7e1df3b3",
   "metadata": {},
   "outputs": [],
   "source": [
    "select concat(concat(concat(NAME, '('), left(OCCUPATION, 1)), ')') from OCCUPATIONS order by NAME asc;"
   ]
  },
  {
   "cell_type": "code",
   "execution_count": null,
   "id": "4a511cf5",
   "metadata": {},
   "outputs": [],
   "source": [
    "select concat(concat(concat(concat('There are a total of ', count(OCCUPATION)), ' '), lower(OCCUPATION)),'s.') as N \n",
    "from OCCUPATIONS \n",
    "group by OCCUPATION \n",
    "order by N asc, OCCUPATION asc;"
   ]
  },
  {
   "cell_type": "markdown",
   "id": "f65bc4dd",
   "metadata": {},
   "source": [
    "### Occupations"
   ]
  },
  {
   "cell_type": "code",
   "execution_count": null,
   "id": "c138c2a1",
   "metadata": {},
   "outputs": [],
   "source": [
    "# MySQL\n",
    "\n",
    "WITH temp AS (\n",
    "    SELECT *, ROW_NUMBER() OVER (PARTITION BY occupation ORDER BY name) AS row_num\n",
    "    FROM Occupations\n",
    ")\n",
    "\n",
    "SELECT\n",
    "    MAX(CASE WHEN occupation = 'Doctor' THEN name END) AS doctor,\n",
    "    MAX(CASE WHEN occupation = 'Professor' THEN name END) AS professor,\n",
    "    MAX(CASE WHEN occupation = 'Singer' THEN name END) As singer,\n",
    "    MAX(CASE WHEN occupation = 'Actor' THEN name END) AS actor\n",
    "FROM temp\n",
    "GROUP BY row_num"
   ]
  },
  {
   "cell_type": "code",
   "execution_count": null,
   "id": "f9732ef8",
   "metadata": {},
   "outputs": [],
   "source": [
    "# MS SQL Server\n",
    "\n",
    "WITH temp AS (\n",
    "    SELECT ROW_NUMBER() OVER (PARTITION BY occupation ORDER BY name) AS row_num, *\n",
    "    FROM Occupations\n",
    ")\n",
    "\n",
    "SELECT doctor, professor, singer, actor\n",
    "FROM temp PIVOT (MAX(name) FOR occupation IN (Doctor, Professor, Singer, Actor)) AS pvt;"
   ]
  },
  {
   "cell_type": "markdown",
   "id": "b1bbe1ff",
   "metadata": {},
   "source": [
    "### Binary Tree Nodes"
   ]
  },
  {
   "cell_type": "code",
   "execution_count": null,
   "id": "0ce91305",
   "metadata": {},
   "outputs": [],
   "source": [
    "select N, case \n",
    "when P is null then 'Root'\n",
    "when (select count(*) from BST where P = t.N) > 0 then 'Inner'\n",
    "else 'Leaf'\n",
    "end\n",
    "from BST t\n",
    "order by N;"
   ]
  },
  {
   "cell_type": "markdown",
   "id": "1b6bd15c",
   "metadata": {},
   "source": [
    "### New Companies"
   ]
  },
  {
   "cell_type": "code",
   "execution_count": null,
   "id": "6e0f17a8",
   "metadata": {},
   "outputs": [],
   "source": [
    "select COMPANY_CODE, FOUNDER,\n",
    "(select count(distinct LEAD_MANAGER_CODE) from LEAD_MANAGER where COMPANY_CODE = C.COMPANY_CODE),\n",
    "(select count(distinct SENIOR_MANAGER_CODE) from SENIOR_MANAGER where COMPANY_CODE = C.COMPANY_CODE),\n",
    "(select count(distinct MANAGER_CODE) from MANAGER where COMPANY_CODE = C.COMPANY_CODE),\n",
    "(select count(distinct EMPLOYEE_CODE) from EMPLOYEE where COMPANY_CODE = C.COMPANY_CODE)\n",
    "from COMPANY C\n",
    "order by COMPANY_CODE;"
   ]
  },
  {
   "cell_type": "markdown",
   "id": "f52459a4",
   "metadata": {},
   "source": [
    "### Revising Aggregations - The Count Function"
   ]
  },
  {
   "cell_type": "code",
   "execution_count": null,
   "id": "5512ba60",
   "metadata": {},
   "outputs": [],
   "source": [
    "select count(NAME) from CITY where POPULATION > 100000;"
   ]
  },
  {
   "cell_type": "markdown",
   "id": "0efb4b69",
   "metadata": {},
   "source": [
    "### Revising Aggregations - The Sum Function"
   ]
  },
  {
   "cell_type": "code",
   "execution_count": null,
   "id": "4aaaa0fc",
   "metadata": {},
   "outputs": [],
   "source": [
    "select sum(POPULATION) from CITY where DISTRICT = 'California';"
   ]
  },
  {
   "cell_type": "markdown",
   "id": "19560a92",
   "metadata": {},
   "source": [
    "### Revising Aggregations - Averages"
   ]
  },
  {
   "cell_type": "code",
   "execution_count": null,
   "id": "3fa19074",
   "metadata": {},
   "outputs": [],
   "source": [
    "select avg(POPULATION) from CITY where DISTRICT = 'California';"
   ]
  },
  {
   "cell_type": "markdown",
   "id": "e22771dc",
   "metadata": {},
   "source": [
    "### Average Population"
   ]
  },
  {
   "cell_type": "code",
   "execution_count": null,
   "id": "f3954d54",
   "metadata": {},
   "outputs": [],
   "source": [
    "select round(avg(POPULATION)) from (select distinct NAME, POPULATION from CITY);"
   ]
  },
  {
   "cell_type": "markdown",
   "id": "194108ab",
   "metadata": {},
   "source": [
    "### Japan Population"
   ]
  },
  {
   "cell_type": "code",
   "execution_count": null,
   "id": "c7ef2b0f",
   "metadata": {},
   "outputs": [],
   "source": [
    "select sum(POPULATION) from CITY where COUNTRYCODE = 'JPN';"
   ]
  },
  {
   "cell_type": "markdown",
   "id": "6cff065b",
   "metadata": {},
   "source": [
    "### Population Density Difference"
   ]
  },
  {
   "cell_type": "code",
   "execution_count": null,
   "id": "235783a7",
   "metadata": {},
   "outputs": [],
   "source": [
    "select max(POPULATION)-min(POPULATION) from CITY;"
   ]
  },
  {
   "cell_type": "markdown",
   "id": "7179ab3a",
   "metadata": {},
   "source": [
    "### The Blunder"
   ]
  },
  {
   "cell_type": "code",
   "execution_count": null,
   "id": "86f5b379",
   "metadata": {},
   "outputs": [],
   "source": [
    "select ceil(avg(SALARY) - avg(replace(SALARY, '0', ''))) from EMPLOYEES;"
   ]
  },
  {
   "cell_type": "markdown",
   "id": "fb7d7bf8",
   "metadata": {},
   "source": [
    "### Top Earners"
   ]
  },
  {
   "cell_type": "code",
   "execution_count": null,
   "id": "db8e5d64",
   "metadata": {},
   "outputs": [],
   "source": [
    "select max(MONTHS*SALARY), count(*)\n",
    "from EMPLOYEE \n",
    "where MONTHS*SALARY = (select max(MONTHS*SALARY) from EMPLOYEE);"
   ]
  },
  {
   "cell_type": "markdown",
   "id": "abacb09d",
   "metadata": {},
   "source": [
    "### Weather Observation Station 2"
   ]
  },
  {
   "cell_type": "code",
   "execution_count": null,
   "id": "437d2b29",
   "metadata": {},
   "outputs": [],
   "source": [
    "select round(sum(LAT_N), 2), round(sum(LONG_W), 2) from STATION;"
   ]
  },
  {
   "cell_type": "markdown",
   "id": "82cc42aa",
   "metadata": {},
   "source": [
    "### Weather Observation Station 13"
   ]
  },
  {
   "cell_type": "code",
   "execution_count": null,
   "id": "b6de1cc0",
   "metadata": {},
   "outputs": [],
   "source": [
    "select round(sum(LAT_N), 4) from STATION where LAT_N > 38.7880 and LAT_N < 137.2345;"
   ]
  },
  {
   "cell_type": "markdown",
   "id": "0b62b375",
   "metadata": {},
   "source": [
    "### Weather Observation Station 14"
   ]
  },
  {
   "cell_type": "code",
   "execution_count": null,
   "id": "ba365462",
   "metadata": {},
   "outputs": [],
   "source": [
    "select round(max(LAT_N), 4) from STATION where LAT_N < 137.2345;"
   ]
  },
  {
   "cell_type": "markdown",
   "id": "9cb2c345",
   "metadata": {},
   "source": [
    "### Weather Observation Station 15"
   ]
  },
  {
   "cell_type": "code",
   "execution_count": null,
   "id": "adbce563",
   "metadata": {},
   "outputs": [],
   "source": [
    "select round(LONG_W, 4) from STATION where LAT_N = (select max(LAT_N) from STATION where LAT_N < 137.2345);"
   ]
  },
  {
   "cell_type": "markdown",
   "id": "747a9804",
   "metadata": {},
   "source": [
    "### Weather Observation Station 16"
   ]
  },
  {
   "cell_type": "code",
   "execution_count": null,
   "id": "0b47ccab",
   "metadata": {},
   "outputs": [],
   "source": [
    "select round(min(LAT_N), 4) from STATION where LAT_N > 38.7780;"
   ]
  },
  {
   "cell_type": "markdown",
   "id": "c8e668ef",
   "metadata": {},
   "source": [
    "### Weather Observation Station 17"
   ]
  },
  {
   "cell_type": "code",
   "execution_count": null,
   "id": "8cda35b1",
   "metadata": {},
   "outputs": [],
   "source": [
    "select round(LONG_W, 4) from STATION where LAT_N = (select min(LAT_N) from STATION where LAT_N > 38.7780);"
   ]
  },
  {
   "cell_type": "markdown",
   "id": "309c2680",
   "metadata": {},
   "source": [
    "### Weather Observation Station 18"
   ]
  },
  {
   "cell_type": "code",
   "execution_count": null,
   "id": "9e48e4bb",
   "metadata": {},
   "outputs": [],
   "source": [
    "select round(abs(min(LAT_N) - max(LAT_N)) + abs(min(LONG_W) - max(LONG_W)), 4) from STATION;"
   ]
  },
  {
   "cell_type": "markdown",
   "id": "f2900abe",
   "metadata": {},
   "source": [
    "### Weather Observation Station 19"
   ]
  },
  {
   "cell_type": "code",
   "execution_count": null,
   "id": "547385ba",
   "metadata": {},
   "outputs": [],
   "source": [
    "select round(sqrt(power(max(LAT_N)-min(LAT_N), 2)+power(max(LONG_W)-min(LONG_W), 2)), 4) from STATION;"
   ]
  },
  {
   "cell_type": "markdown",
   "id": "77d01c55",
   "metadata": {},
   "source": [
    "### Weather Observation Station 20"
   ]
  },
  {
   "cell_type": "code",
   "execution_count": null,
   "id": "c8d9c502",
   "metadata": {},
   "outputs": [],
   "source": [
    "select round(LAT_N, 4)\n",
    "from (select LAT_N, row_number() over (ORDER BY LAT_N) as ROWNU from STATION) as X\n",
    "where ROWNU = (select round((count(LAT_N)+1)/2, 0) from STATION);"
   ]
  },
  {
   "cell_type": "markdown",
   "id": "0f440c28",
   "metadata": {},
   "source": [
    "### Population Census"
   ]
  },
  {
   "cell_type": "code",
   "execution_count": null,
   "id": "47d79fdb",
   "metadata": {},
   "outputs": [],
   "source": [
    "select sum(CITY.POPULATION) \n",
    "from CITY \n",
    "inner join COUNTRY \n",
    "on CITY.COUNTRYCODE = COUNTRY.CODE\n",
    "where COUNTRY.CONTINENT = 'Asia';"
   ]
  },
  {
   "cell_type": "markdown",
   "id": "4ebf147e",
   "metadata": {},
   "source": [
    "### African Cities"
   ]
  },
  {
   "cell_type": "code",
   "execution_count": null,
   "id": "819c73ad",
   "metadata": {},
   "outputs": [],
   "source": [
    "select CITY.NAME \n",
    "from CITY\n",
    "inner join COUNTRY\n",
    "on CITY.COUNTRYCODE = COUNTRY.CODE\n",
    "where COUNTRY.CONTINENT = 'Africa';"
   ]
  },
  {
   "cell_type": "markdown",
   "id": "7aa95cf4",
   "metadata": {},
   "source": [
    "### Average Population of Each Continent"
   ]
  },
  {
   "cell_type": "code",
   "execution_count": null,
   "id": "0f11b382",
   "metadata": {},
   "outputs": [],
   "source": [
    "select COUNTRY.CONTINENT, floor(avg(CITY.POPULATION))\n",
    "from CITY\n",
    "inner join COUNTRY\n",
    "on CITY.COUNTRYCODE = COUNTRY.CODE\n",
    "group by COUNTRY.CONTINENT;"
   ]
  },
  {
   "cell_type": "markdown",
   "id": "662bedfa",
   "metadata": {},
   "source": [
    "### The Report"
   ]
  },
  {
   "cell_type": "code",
   "execution_count": null,
   "id": "72651c36",
   "metadata": {},
   "outputs": [],
   "source": [
    "select if(GRADES.GRADE>=8, STUDENTS.NAME, NULL), GRADES.GRADE, STUDENTS.MARKS\n",
    "from STUDENTS, GRADES\n",
    "where STUDENTS.MARKS between GRADES.MIN_MARK and GRADES.MAX_MARK\n",
    "order by GRADES.GRADE desc, STUDENTS.NAME asc;"
   ]
  },
  {
   "cell_type": "markdown",
   "id": "c30a4775",
   "metadata": {},
   "source": [
    "### Top Competitors"
   ]
  },
  {
   "cell_type": "code",
   "execution_count": null,
   "id": "76b8e55e",
   "metadata": {},
   "outputs": [],
   "source": [
    "select H.HACKER_ID, H.NAME\n",
    "from HACKERS H\n",
    "inner join SUBMISSIONS S\n",
    "on H.HACKER_ID = S.HACKER_ID\n",
    "inner join CHALLENGES C\n",
    "on S.CHALLENGE_ID = C.CHALLENGE_ID\n",
    "inner join DIFFICULTY D\n",
    "on C.DIFFICULTY_LEVEL = D.DIFFICULTY_LEVEL\n",
    "where S.SCORE = D.SCORE\n",
    "group by H.HACKER_ID, H.NAME\n",
    "having count(S.HACKER_ID) > 1\n",
    "order by count(S.HACKER_ID) desc, S.HACKER_ID asc;"
   ]
  },
  {
   "cell_type": "markdown",
   "id": "7d961827",
   "metadata": {},
   "source": [
    "### Ollivander's Inventory"
   ]
  },
  {
   "cell_type": "code",
   "execution_count": null,
   "id": "2b8690ec",
   "metadata": {},
   "outputs": [],
   "source": [
    "select W.ID, WP.AGE, W.COINS_NEEDED, W.POWER\n",
    "from WANDS W\n",
    "join WANDS_PROPERTY WP\n",
    "on W.CODE = WP.CODE\n",
    "where WP.IS_EVIL = 0 and W.COINS_NEEDED = (select min(COINS_NEEDED) \n",
    "                                           from WANDS A\n",
    "                                           join WANDS_PROPERTY B\n",
    "                                           on A.CODE = B.CODE\n",
    "                                           where A.POWER = W.POWER and B.AGE = WP.AGE)\n",
    "order by W.POWER desc, WP.AGE desc;"
   ]
  },
  {
   "cell_type": "markdown",
   "id": "6cfbb4cc",
   "metadata": {},
   "source": [
    "### Challenges"
   ]
  },
  {
   "cell_type": "code",
   "execution_count": null,
   "id": "f042fdaa",
   "metadata": {},
   "outputs": [],
   "source": [
    "select H.HACKER_ID, H.NAME, count(C.CHALLENGE_ID) CC\n",
    "from HACKERS H\n",
    "join CHALLENGES C \n",
    "on C.HACKER_ID = H.HACKER_ID\n",
    "group by H.HACKER_ID, H.NAME\n",
    "having CC = \n",
    "    (select COUNT(C2.CHALLENGE_ID) CC2\n",
    "     from CHALLENGES C2\n",
    "     group by C2.HACKER_ID \n",
    "     order by CC2 desc limit 1)\n",
    "or CC in \n",
    "    (select distinct CC3\n",
    "     from (select H2.HACKER_ID, H2.NAME, count(CHALLENGE_ID) CC3\n",
    "           from HACKERS H2\n",
    "           join CHALLENGES C \n",
    "           on C.HACKER_ID = H2.HACKER_ID\n",
    "           group by H2.HACKER_ID, H2.NAME) CCOUNTS\n",
    "     group by CC3\n",
    "     having count(CC3) = 1)\n",
    "order by CC desc, H.HACKER_ID;"
   ]
  },
  {
   "cell_type": "markdown",
   "id": "1a28e0e5",
   "metadata": {},
   "source": [
    "### Contest Leaderboard"
   ]
  },
  {
   "cell_type": "code",
   "execution_count": null,
   "id": "16f94679",
   "metadata": {},
   "outputs": [],
   "source": [
    "select MAX_SCORE.HACKER_ID, \n",
    "       (select H.NAME \n",
    "        from HACKERS H\n",
    "        where H.HACKER_ID = MAX_SCORE.HACKER_ID) NAME, \n",
    "       sum(MAX_SCORE.SCORE) TOTAL_SCORE \n",
    "from (select HACKER_ID, max(SCORE) SCORE \n",
    "      from SUBMISSIONS S\n",
    "      group by 1, S.CHALLENGE_ID) MAX_SCORE \n",
    "group by 1\n",
    "having TOTAL_SCORE > 0\n",
    "order by TOTAL_SCORE DESC, HACKER_ID;"
   ]
  },
  {
   "cell_type": "code",
   "execution_count": null,
   "id": "64c580d3",
   "metadata": {},
   "outputs": [],
   "source": []
  }
 ],
 "metadata": {
  "kernelspec": {
   "display_name": "Python 3 (ipykernel)",
   "language": "python",
   "name": "python3"
  },
  "language_info": {
   "codemirror_mode": {
    "name": "ipython",
    "version": 3
   },
   "file_extension": ".py",
   "mimetype": "text/x-python",
   "name": "python",
   "nbconvert_exporter": "python",
   "pygments_lexer": "ipython3",
   "version": "3.8.16"
  }
 },
 "nbformat": 4,
 "nbformat_minor": 5
}
