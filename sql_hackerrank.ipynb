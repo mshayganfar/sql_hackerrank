{
 "cells": [
  {
   "cell_type": "markdown",
   "id": "a776a69e",
   "metadata": {},
   "source": [
    "### Revising the Select Query I"
   ]
  },
  {
   "cell_type": "code",
   "execution_count": null,
   "id": "48fbe067",
   "metadata": {},
   "outputs": [],
   "source": [
    "select * from CITY where POPULATION>100000 and COUNTRYCODE='USA';"
   ]
  },
  {
   "cell_type": "markdown",
   "id": "eb2cb36d",
   "metadata": {},
   "source": [
    "### Revising the Select Query II"
   ]
  },
  {
   "cell_type": "code",
   "execution_count": null,
   "id": "e900335c",
   "metadata": {},
   "outputs": [],
   "source": [
    "select NAME from CITY where POPULATION>120000 and COUNTRYCODE='USA';"
   ]
  },
  {
   "cell_type": "markdown",
   "id": "0757d6eb",
   "metadata": {},
   "source": [
    "### Select All"
   ]
  },
  {
   "cell_type": "code",
   "execution_count": null,
   "id": "d379ac5e",
   "metadata": {},
   "outputs": [],
   "source": [
    "select * from CITY;"
   ]
  },
  {
   "cell_type": "markdown",
   "id": "e8d0257f",
   "metadata": {},
   "source": [
    "### Select By ID"
   ]
  },
  {
   "cell_type": "code",
   "execution_count": null,
   "id": "e8ae785d",
   "metadata": {},
   "outputs": [],
   "source": [
    "select * from CITY where ID=1661;"
   ]
  },
  {
   "cell_type": "markdown",
   "id": "bab493f3",
   "metadata": {},
   "source": [
    "### Japanese Cities' Attributes"
   ]
  },
  {
   "cell_type": "code",
   "execution_count": null,
   "id": "0a303a2f",
   "metadata": {},
   "outputs": [],
   "source": [
    "select * from CITY where COUNTRYCODE='JPN';"
   ]
  },
  {
   "cell_type": "markdown",
   "id": "5ee2701c",
   "metadata": {},
   "source": [
    "### Japanese Cities' Names"
   ]
  },
  {
   "cell_type": "code",
   "execution_count": null,
   "id": "1617c52a",
   "metadata": {},
   "outputs": [],
   "source": [
    "select NAME from CITY where COUNTRYCODE='JPN';"
   ]
  },
  {
   "cell_type": "markdown",
   "id": "98f4778d",
   "metadata": {},
   "source": [
    "### Weather Observation Station 1"
   ]
  },
  {
   "cell_type": "code",
   "execution_count": null,
   "id": "7760e5d2",
   "metadata": {},
   "outputs": [],
   "source": [
    "select CITY, STATE from STATION;"
   ]
  },
  {
   "cell_type": "markdown",
   "id": "4f834634",
   "metadata": {},
   "source": [
    "### Weather Observation Station 3"
   ]
  },
  {
   "cell_type": "code",
   "execution_count": null,
   "id": "498fd9dc",
   "metadata": {},
   "outputs": [],
   "source": [
    "select distinct CITY from STATION where mod(ID, 2) = 0; # mod in DB2"
   ]
  },
  {
   "cell_type": "markdown",
   "id": "e5638921",
   "metadata": {},
   "source": [
    "### Weather Observation Station 4"
   ]
  },
  {
   "cell_type": "code",
   "execution_count": null,
   "id": "c9cc85ca",
   "metadata": {},
   "outputs": [],
   "source": [
    "select count(CITY)-count(distinct CITY) from STATION;"
   ]
  },
  {
   "cell_type": "markdown",
   "id": "ee0c6936",
   "metadata": {},
   "source": [
    "### Weather Observation Station 5"
   ]
  },
  {
   "cell_type": "code",
   "execution_count": null,
   "id": "b5e00199",
   "metadata": {},
   "outputs": [],
   "source": [
    "select CITY, length(CITY) from STATION order by length(CITY) asc, CITY limit 1;\n",
    "select CITY, length(CITY) from STATION order by length(CITY) desc, CITY limit 1; "
   ]
  },
  {
   "cell_type": "markdown",
   "id": "e6b18dd7",
   "metadata": {},
   "source": [
    "### Weather Observation Station 6"
   ]
  },
  {
   "cell_type": "code",
   "execution_count": null,
   "id": "e6587ae6",
   "metadata": {},
   "outputs": [],
   "source": [
    "select distinct CITY from STATION where lower(left(CITY, 1)) in ('a', 'e', 'i', 'o', 'u');"
   ]
  },
  {
   "cell_type": "markdown",
   "id": "f1220996",
   "metadata": {},
   "source": [
    "### Weather Observation Station 7"
   ]
  },
  {
   "cell_type": "code",
   "execution_count": null,
   "id": "af49d433",
   "metadata": {},
   "outputs": [],
   "source": [
    "select distinct CITY from STATION where lower(right(CITY, 1)) in ('a', 'e', 'i', 'o', 'u');"
   ]
  },
  {
   "cell_type": "markdown",
   "id": "6c0e6c32",
   "metadata": {},
   "source": [
    "### Weather Observation Station 8"
   ]
  },
  {
   "cell_type": "code",
   "execution_count": null,
   "id": "6898dc2f",
   "metadata": {},
   "outputs": [],
   "source": [
    "select distinct CITY from STATION where lower(left(CITY, 1)) in ('a', 'e', 'i', 'o', 'u') and lower(right(CITY, 1)) in ('a', 'e', 'i', 'o', 'u');"
   ]
  },
  {
   "cell_type": "markdown",
   "id": "f7d9376d",
   "metadata": {},
   "source": [
    "### Weather Observation Station 9"
   ]
  },
  {
   "cell_type": "code",
   "execution_count": null,
   "id": "5ecfc1b8",
   "metadata": {},
   "outputs": [],
   "source": [
    "select distinct CITY from STATION where lower(left(CITY, 1)) not in ('a', 'e', 'i', 'o', 'u');"
   ]
  },
  {
   "cell_type": "markdown",
   "id": "82ad201f",
   "metadata": {},
   "source": [
    "### Weather Observation Station 10"
   ]
  },
  {
   "cell_type": "code",
   "execution_count": null,
   "id": "5fccbe25",
   "metadata": {},
   "outputs": [],
   "source": [
    "select distinct CITY from STATION where lower(right(CITY, 1)) not in ('a', 'e', 'i', 'o', 'u');"
   ]
  },
  {
   "cell_type": "markdown",
   "id": "6ce051bc",
   "metadata": {},
   "source": [
    "### Weather Observation Station 11"
   ]
  },
  {
   "cell_type": "code",
   "execution_count": null,
   "id": "fc26f92d",
   "metadata": {},
   "outputs": [],
   "source": [
    "select distinct CITY from STATION where lower(left(CITY, 1)) not in ('a', 'e', 'i', 'o', 'u') or lower(right(CITY, 1)) not in ('a', 'e', 'i', 'o', 'u');"
   ]
  },
  {
   "cell_type": "markdown",
   "id": "c947ece8",
   "metadata": {},
   "source": [
    "### Weather Observation Station 12"
   ]
  },
  {
   "cell_type": "code",
   "execution_count": null,
   "id": "3b3c4a54",
   "metadata": {},
   "outputs": [],
   "source": [
    "select distinct CITY from STATION where lower(left(CITY, 1)) not in ('a', 'e', 'i', 'o', 'u') and lower(right(CITY, 1)) not in ('a', 'e', 'i', 'o', 'u');"
   ]
  },
  {
   "cell_type": "markdown",
   "id": "40acdee7",
   "metadata": {},
   "source": [
    "### Higher Than 75 Marks"
   ]
  },
  {
   "cell_type": "code",
   "execution_count": null,
   "id": "8502de2a",
   "metadata": {},
   "outputs": [],
   "source": [
    "select NAME from STUDENTS where marks > 75 order by right(NAME, 3) asc, ID asc;"
   ]
  },
  {
   "cell_type": "markdown",
   "id": "8fbdcdb6",
   "metadata": {},
   "source": [
    "### Employee Names"
   ]
  },
  {
   "cell_type": "code",
   "execution_count": null,
   "id": "c896a01f",
   "metadata": {},
   "outputs": [],
   "source": [
    "select NAME from EMPLOYEE order by NAME asc;"
   ]
  },
  {
   "cell_type": "markdown",
   "id": "e9b57624",
   "metadata": {},
   "source": [
    "### Employee Salaries"
   ]
  },
  {
   "cell_type": "code",
   "execution_count": null,
   "id": "fd4c3ce2",
   "metadata": {},
   "outputs": [],
   "source": [
    "select NAME from EMPLOYEE where SALARY > 2000 and MONTHS < 10 order by EMPLOYEE_ID asc;"
   ]
  },
  {
   "cell_type": "markdown",
   "id": "e6bc952d",
   "metadata": {},
   "source": [
    "### Type of Triangle"
   ]
  },
  {
   "cell_type": "code",
   "execution_count": null,
   "id": "a833b693",
   "metadata": {},
   "outputs": [],
   "source": [
    "select case \n",
    "when A+B<=C or A+C<=B or B+C<=A then 'Not A Triangle'\n",
    "when A=B and B=C and A=C then 'Equilateral'\n",
    "when A=B or B=C or A=C then 'Isosceles'\n",
    "else 'Scalene'\n",
    "end\n",
    "from TRIANGLES;"
   ]
  },
  {
   "cell_type": "markdown",
   "id": "bbf6c067",
   "metadata": {},
   "source": [
    "### The PADS"
   ]
  },
  {
   "cell_type": "code",
   "execution_count": null,
   "id": "e6186715",
   "metadata": {},
   "outputs": [],
   "source": [
    "select concat(concat(concat(NAME, '('), left(OCCUPATION, 1)), ')') from OCCUPATIONS order by NAME asc;"
   ]
  },
  {
   "cell_type": "code",
   "execution_count": null,
   "id": "dc17e352",
   "metadata": {},
   "outputs": [],
   "source": [
    "select concat(concat(concat(concat('There are a total of ', count(OCCUPATION)), ' '), lower(OCCUPATION)),'s.') as N \n",
    "from OCCUPATIONS \n",
    "group by OCCUPATION \n",
    "order by N asc, OCCUPATION asc;"
   ]
  },
  {
   "cell_type": "markdown",
   "id": "6a468f24",
   "metadata": {},
   "source": [
    "### Occupations"
   ]
  },
  {
   "cell_type": "code",
   "execution_count": null,
   "id": "4a3ce2a2",
   "metadata": {},
   "outputs": [],
   "source": [
    "# MySQL\n",
    "\n",
    "WITH temp AS (\n",
    "    SELECT *, ROW_NUMBER() OVER (PARTITION BY occupation ORDER BY name) AS row_num\n",
    "    FROM Occupations\n",
    ")\n",
    "\n",
    "SELECT\n",
    "    MAX(CASE WHEN occupation = 'Doctor' THEN name END) AS doctor,\n",
    "    MAX(CASE WHEN occupation = 'Professor' THEN name END) AS professor,\n",
    "    MAX(CASE WHEN occupation = 'Singer' THEN name END) As singer,\n",
    "    MAX(CASE WHEN occupation = 'Actor' THEN name END) AS actor\n",
    "FROM temp\n",
    "GROUP BY row_num"
   ]
  },
  {
   "cell_type": "code",
   "execution_count": null,
   "id": "5a2d4dc7",
   "metadata": {},
   "outputs": [],
   "source": [
    "# MS SQL Server\n",
    "\n",
    "WITH temp AS (\n",
    "    SELECT ROW_NUMBER() OVER (PARTITION BY occupation ORDER BY name) AS row_num, *\n",
    "    FROM Occupations\n",
    ")\n",
    "\n",
    "SELECT doctor, professor, singer, actor\n",
    "FROM temp PIVOT (MAX(name) FOR occupation IN (Doctor, Professor, Singer, Actor)) AS pvt;"
   ]
  },
  {
   "cell_type": "markdown",
   "id": "e70c171d",
   "metadata": {},
   "source": [
    "### Binary Tree Nodes"
   ]
  },
  {
   "cell_type": "code",
   "execution_count": null,
   "id": "c3763e02",
   "metadata": {},
   "outputs": [],
   "source": [
    "select N, case \n",
    "when P is null then 'Root'\n",
    "when (select count(*) from BST where P = t.N) > 0 then 'Inner'\n",
    "else 'Leaf'\n",
    "end\n",
    "from BST t\n",
    "order by N;"
   ]
  },
  {
   "cell_type": "markdown",
   "id": "938f782c",
   "metadata": {},
   "source": [
    "### New Companies"
   ]
  },
  {
   "cell_type": "code",
   "execution_count": null,
   "id": "f0a9f834",
   "metadata": {},
   "outputs": [],
   "source": [
    "select COMPANY_CODE, FOUNDER,\n",
    "(select count(distinct LEAD_MANAGER_CODE) from LEAD_MANAGER where COMPANY_CODE = C.COMPANY_CODE),\n",
    "(select count(distinct SENIOR_MANAGER_CODE) from SENIOR_MANAGER where COMPANY_CODE = C.COMPANY_CODE),\n",
    "(select count(distinct MANAGER_CODE) from MANAGER where COMPANY_CODE = C.COMPANY_CODE),\n",
    "(select count(distinct EMPLOYEE_CODE) from EMPLOYEE where COMPANY_CODE = C.COMPANY_CODE)\n",
    "from COMPANY C\n",
    "order by COMPANY_CODE;"
   ]
  },
  {
   "cell_type": "markdown",
   "id": "a9585d32",
   "metadata": {},
   "source": [
    "### Revising Aggregations - The Count Function"
   ]
  },
  {
   "cell_type": "code",
   "execution_count": null,
   "id": "fdc0c988",
   "metadata": {},
   "outputs": [],
   "source": [
    "select count(NAME) from CITY where POPULATION > 100000;"
   ]
  },
  {
   "cell_type": "markdown",
   "id": "b504e9da",
   "metadata": {},
   "source": [
    "### Revising Aggregations - The Sum Function"
   ]
  },
  {
   "cell_type": "code",
   "execution_count": null,
   "id": "394c89e8",
   "metadata": {},
   "outputs": [],
   "source": [
    "select sum(POPULATION) from CITY where DISTRICT = 'California';"
   ]
  },
  {
   "cell_type": "markdown",
   "id": "7169e100",
   "metadata": {},
   "source": [
    "### Revising Aggregations - Averages"
   ]
  },
  {
   "cell_type": "code",
   "execution_count": null,
   "id": "19bd8e15",
   "metadata": {},
   "outputs": [],
   "source": [
    "select avg(POPULATION) from CITY where DISTRICT = 'California';"
   ]
  },
  {
   "cell_type": "markdown",
   "id": "6163c3db",
   "metadata": {},
   "source": [
    "### Average Population"
   ]
  },
  {
   "cell_type": "code",
   "execution_count": null,
   "id": "8ca30385",
   "metadata": {},
   "outputs": [],
   "source": [
    "select round(avg(POPULATION)) from (select distinct NAME, POPULATION from CITY);"
   ]
  },
  {
   "cell_type": "markdown",
   "id": "c932a310",
   "metadata": {},
   "source": [
    "### Japan Population"
   ]
  },
  {
   "cell_type": "code",
   "execution_count": null,
   "id": "efc4b0a6",
   "metadata": {},
   "outputs": [],
   "source": [
    "select sum(POPULATION) from CITY where COUNTRYCODE = 'JPN';"
   ]
  },
  {
   "cell_type": "markdown",
   "id": "1134e2b6",
   "metadata": {},
   "source": [
    "### Population Density Difference"
   ]
  },
  {
   "cell_type": "code",
   "execution_count": null,
   "id": "17e8c30c",
   "metadata": {},
   "outputs": [],
   "source": [
    "select max(POPULATION)-min(POPULATION) from CITY;"
   ]
  },
  {
   "cell_type": "markdown",
   "id": "9dd596c0",
   "metadata": {},
   "source": [
    "### The Blunder"
   ]
  },
  {
   "cell_type": "code",
   "execution_count": null,
   "id": "f5288fe4",
   "metadata": {},
   "outputs": [],
   "source": [
    "select ceil(avg(SALARY) - avg(replace(SALARY, '0', ''))) from EMPLOYEES;"
   ]
  },
  {
   "cell_type": "markdown",
   "id": "98d5d98c",
   "metadata": {},
   "source": [
    "### Top Earners"
   ]
  },
  {
   "cell_type": "code",
   "execution_count": null,
   "id": "59af4203",
   "metadata": {},
   "outputs": [],
   "source": [
    "select max(MONTHS*SALARY), count(*)\n",
    "from EMPLOYEE \n",
    "where MONTHS*SALARY = (select max(MONTHS*SALARY) from EMPLOYEE);"
   ]
  },
  {
   "cell_type": "markdown",
   "id": "0758bf75",
   "metadata": {},
   "source": [
    "### Weather Observation Station 2"
   ]
  },
  {
   "cell_type": "code",
   "execution_count": null,
   "id": "51bf5a31",
   "metadata": {},
   "outputs": [],
   "source": [
    "select round(sum(LAT_N), 2), round(sum(LONG_W), 2) from STATION;"
   ]
  },
  {
   "cell_type": "markdown",
   "id": "c173f2e8",
   "metadata": {},
   "source": [
    "### Weather Observation Station 13"
   ]
  },
  {
   "cell_type": "code",
   "execution_count": null,
   "id": "3753ba6d",
   "metadata": {},
   "outputs": [],
   "source": [
    "select round(sum(LAT_N), 4) from STATION where LAT_N > 38.7880 and LAT_N < 137.2345;"
   ]
  },
  {
   "cell_type": "markdown",
   "id": "6a426af5",
   "metadata": {},
   "source": [
    "### Weather Observation Station 14"
   ]
  },
  {
   "cell_type": "code",
   "execution_count": null,
   "id": "df6b2cc0",
   "metadata": {},
   "outputs": [],
   "source": [
    "select round(max(LAT_N), 4) from STATION where LAT_N < 137.2345;"
   ]
  },
  {
   "cell_type": "markdown",
   "id": "99716196",
   "metadata": {},
   "source": [
    "### Weather Observation Station 15"
   ]
  },
  {
   "cell_type": "code",
   "execution_count": null,
   "id": "6da2ff2b",
   "metadata": {},
   "outputs": [],
   "source": [
    "select round(LONG_W, 4) from STATION where LAT_N = (select max(LAT_N) from STATION where LAT_N < 137.2345);"
   ]
  },
  {
   "cell_type": "markdown",
   "id": "3549cc66",
   "metadata": {},
   "source": [
    "### Weather Observation Station 16"
   ]
  },
  {
   "cell_type": "code",
   "execution_count": null,
   "id": "145718fc",
   "metadata": {},
   "outputs": [],
   "source": [
    "select round(min(LAT_N), 4) from STATION where LAT_N > 38.7780;"
   ]
  },
  {
   "cell_type": "markdown",
   "id": "d28839d3",
   "metadata": {},
   "source": [
    "### Weather Observation Station 17"
   ]
  },
  {
   "cell_type": "code",
   "execution_count": null,
   "id": "4bff1cf5",
   "metadata": {},
   "outputs": [],
   "source": [
    "select round(LONG_W, 4) from STATION where LAT_N = (select min(LAT_N) from STATION where LAT_N > 38.7780);"
   ]
  },
  {
   "cell_type": "markdown",
   "id": "d1a578e8",
   "metadata": {},
   "source": [
    "### Weather Observation Station 18"
   ]
  },
  {
   "cell_type": "code",
   "execution_count": null,
   "id": "1ba62e86",
   "metadata": {},
   "outputs": [],
   "source": [
    "select round(abs(min(LAT_N) - max(LAT_N)) + abs(min(LONG_W) - max(LONG_W)), 4) from STATION;"
   ]
  },
  {
   "cell_type": "markdown",
   "id": "68add575",
   "metadata": {},
   "source": [
    "### Weather Observation Station 19"
   ]
  },
  {
   "cell_type": "code",
   "execution_count": null,
   "id": "958c0bd5",
   "metadata": {},
   "outputs": [],
   "source": [
    "select round(sqrt(power(max(LAT_N)-min(LAT_N), 2)+power(max(LONG_W)-min(LONG_W), 2)), 4) from STATION;"
   ]
  },
  {
   "cell_type": "markdown",
   "id": "88583e9c",
   "metadata": {},
   "source": [
    "### Weather Observation Station 20"
   ]
  },
  {
   "cell_type": "code",
   "execution_count": null,
   "id": "8b9483e2",
   "metadata": {},
   "outputs": [],
   "source": [
    "select round(LAT_N, 4)\n",
    "from (select LAT_N, row_number() over (ORDER BY LAT_N) as ROWNU from STATION) as X\n",
    "where ROWNU = (select round((count(LAT_N)+1)/2, 0) from STATION);"
   ]
  },
  {
   "cell_type": "markdown",
   "id": "86d9521f",
   "metadata": {},
   "source": [
    "### Population Census"
   ]
  },
  {
   "cell_type": "code",
   "execution_count": null,
   "id": "7d4b0e38",
   "metadata": {},
   "outputs": [],
   "source": [
    "select sum(CITY.POPULATION) \n",
    "from CITY \n",
    "inner join COUNTRY \n",
    "on CITY.COUNTRYCODE = COUNTRY.CODE\n",
    "where COUNTRY.CONTINENT = 'Asia';"
   ]
  },
  {
   "cell_type": "markdown",
   "id": "86582622",
   "metadata": {},
   "source": [
    "### African Cities"
   ]
  },
  {
   "cell_type": "code",
   "execution_count": null,
   "id": "ce8804c2",
   "metadata": {},
   "outputs": [],
   "source": [
    "select CITY.NAME \n",
    "from CITY\n",
    "inner join COUNTRY\n",
    "on CITY.COUNTRYCODE = COUNTRY.CODE\n",
    "where COUNTRY.CONTINENT = 'Africa';"
   ]
  },
  {
   "cell_type": "markdown",
   "id": "4516117f",
   "metadata": {},
   "source": [
    "### Average Population of Each Continent"
   ]
  },
  {
   "cell_type": "code",
   "execution_count": null,
   "id": "3eb47086",
   "metadata": {},
   "outputs": [],
   "source": [
    "select COUNTRY.CONTINENT, floor(avg(CITY.POPULATION))\n",
    "from CITY\n",
    "inner join COUNTRY\n",
    "on CITY.COUNTRYCODE = COUNTRY.CODE\n",
    "group by COUNTRY.CONTINENT;"
   ]
  },
  {
   "cell_type": "markdown",
   "id": "59e3920c",
   "metadata": {},
   "source": [
    "### The Report"
   ]
  },
  {
   "cell_type": "code",
   "execution_count": null,
   "id": "63675d44",
   "metadata": {},
   "outputs": [],
   "source": [
    "select if(GRADES.GRADE>=8, STUDENTS.NAME, NULL), GRADES.GRADE, STUDENTS.MARKS\n",
    "from STUDENTS, GRADES\n",
    "where STUDENTS.MARKS between GRADES.MIN_MARK and GRADES.MAX_MARK\n",
    "order by GRADES.GRADE desc, STUDENTS.NAME asc;"
   ]
  },
  {
   "cell_type": "markdown",
   "id": "c7a7d093",
   "metadata": {},
   "source": [
    "### Top Competitors"
   ]
  },
  {
   "cell_type": "code",
   "execution_count": null,
   "id": "d716b46f",
   "metadata": {},
   "outputs": [],
   "source": [
    "select H.HACKER_ID, H.NAME\n",
    "from HACKERS H\n",
    "inner join SUBMISSIONS S\n",
    "on H.HACKER_ID = S.HACKER_ID\n",
    "inner join CHALLENGES C\n",
    "on S.CHALLENGE_ID = C.CHALLENGE_ID\n",
    "inner join DIFFICULTY D\n",
    "on C.DIFFICULTY_LEVEL = D.DIFFICULTY_LEVEL\n",
    "where S.SCORE = D.SCORE\n",
    "group by H.HACKER_ID, H.NAME\n",
    "having count(S.HACKER_ID) > 1\n",
    "order by count(S.HACKER_ID) desc, S.HACKER_ID asc;"
   ]
  },
  {
   "cell_type": "markdown",
   "id": "4837e36b",
   "metadata": {},
   "source": [
    "### Ollivander's Inventory"
   ]
  },
  {
   "cell_type": "code",
   "execution_count": null,
   "id": "7a5c4e37",
   "metadata": {},
   "outputs": [],
   "source": [
    "select W.ID, WP.AGE, W.COINS_NEEDED, W.POWER\n",
    "from WANDS W\n",
    "join WANDS_PROPERTY WP\n",
    "on W.CODE = WP.CODE\n",
    "where WP.IS_EVIL = 0 and W.COINS_NEEDED = (select min(COINS_NEEDED) \n",
    "                                           from WANDS A\n",
    "                                           join WANDS_PROPERTY B\n",
    "                                           on A.CODE = B.CODE\n",
    "                                           where A.POWER = W.POWER and B.AGE = WP.AGE)\n",
    "order by W.POWER desc, WP.AGE desc;"
   ]
  },
  {
   "cell_type": "markdown",
   "id": "fa33504f",
   "metadata": {},
   "source": [
    "### Challenges"
   ]
  },
  {
   "cell_type": "code",
   "execution_count": null,
   "id": "13539399",
   "metadata": {},
   "outputs": [],
   "source": [
    "select H.HACKER_ID, H.NAME, count(C.CHALLENGE_ID) CC\n",
    "from HACKERS H\n",
    "join CHALLENGES C \n",
    "on C.HACKER_ID = H.HACKER_ID\n",
    "group by H.HACKER_ID, H.NAME\n",
    "having CC = \n",
    "    (select COUNT(C2.CHALLENGE_ID) CC2\n",
    "     from CHALLENGES C2\n",
    "     group by C2.HACKER_ID \n",
    "     order by CC2 desc limit 1)\n",
    "or CC in \n",
    "    (select distinct CC3\n",
    "     from (select H2.HACKER_ID, H2.NAME, count(CHALLENGE_ID) CC3\n",
    "           from HACKERS H2\n",
    "           join CHALLENGES C \n",
    "           on C.HACKER_ID = H2.HACKER_ID\n",
    "           group by H2.HACKER_ID, H2.NAME) CCOUNTS\n",
    "     group by CC3\n",
    "     having count(CC3) = 1)\n",
    "order by CC desc, H.HACKER_ID;"
   ]
  },
  {
   "cell_type": "markdown",
   "id": "cd07cd29",
   "metadata": {},
   "source": [
    "### Contest Leaderboard"
   ]
  },
  {
   "cell_type": "code",
   "execution_count": null,
   "id": "e87a8f5b",
   "metadata": {},
   "outputs": [],
   "source": [
    "select MAX_SCORE.HACKER_ID, \n",
    "       (select H.NAME \n",
    "        from HACKERS H\n",
    "        where H.HACKER_ID = MAX_SCORE.HACKER_ID) NAME, \n",
    "       sum(MAX_SCORE.SCORE) TOTAL_SCORE \n",
    "from (select HACKER_ID, max(SCORE) SCORE \n",
    "      from SUBMISSIONS S\n",
    "      group by 1, S.CHALLENGE_ID) MAX_SCORE \n",
    "group by 1\n",
    "having TOTAL_SCORE > 0\n",
    "order by TOTAL_SCORE DESC, HACKER_ID;"
   ]
  },
  {
   "cell_type": "markdown",
   "id": "425c366e",
   "metadata": {},
   "source": [
    "### SQL Project Planning"
   ]
  },
  {
   "cell_type": "code",
   "execution_count": null,
   "id": "c1dab0e4",
   "metadata": {},
   "outputs": [],
   "source": [
    "select START_DATE, X \n",
    "from (select A.START_DATE, min(B.END_DATE) X\n",
    "      from (select START_DATE \n",
    "            from PROJECTS \n",
    "            where START_DATE not in (select END_DATE from PROJECTS)) A,\n",
    "           (select END_DATE\n",
    "            from PROJECTS\n",
    "            where END_DATE not in (select START_DATE from PROJECTS)) B\n",
    "      where START_DATE < END_DATE\n",
    "      group by A.START_DATE) P\n",
    "order by datediff(X, START_DATE), START_DATE;"
   ]
  },
  {
   "cell_type": "markdown",
   "id": "e9db2470",
   "metadata": {},
   "source": [
    "### Placements"
   ]
  },
  {
   "cell_type": "code",
   "execution_count": null,
   "id": "911a4aa0",
   "metadata": {},
   "outputs": [],
   "source": [
    "select S.NAME\n",
    "from STUDENTS S\n",
    "join FRIENDS F\n",
    "on S.ID = F.ID\n",
    "join PACKAGES P1\n",
    "on S.ID = P1.ID\n",
    "join PACKAGES P2\n",
    "on F.FRIEND_ID = P2.ID\n",
    "where P2.SALARY > P1.SALARY\n",
    "order by P2.SALARY asc;"
   ]
  },
  {
   "cell_type": "markdown",
   "id": "1bbfffc8",
   "metadata": {},
   "source": [
    "### Symmetric Pairs"
   ]
  },
  {
   "cell_type": "code",
   "execution_count": null,
   "id": "5ed0684f",
   "metadata": {},
   "outputs": [],
   "source": [
    "select X, Y\n",
    "from FUNCTIONS F1\n",
    "where exists(select * \n",
    "             from FUNCTIONS F2 \n",
    "             where F2.Y = F1.X and F2.X = F1.Y and F2.X > F1.X) and (X != Y)\n",
    "union\n",
    "select X, Y \n",
    "from FUNCTIONS F1 \n",
    "where X = Y and ((select count(*) from FUNCTIONS where X = F1.X and Y = F1.X) > 1)\n",
    "order by X;"
   ]
  },
  {
   "cell_type": "markdown",
   "id": "feb48b2a",
   "metadata": {},
   "source": [
    "### Interviews"
   ]
  },
  {
   "cell_type": "code",
   "execution_count": null,
   "id": "c4ceccfd",
   "metadata": {},
   "outputs": [],
   "source": [
    "select CON.CONTEST_ID, CON.HACKER_ID, CON.NAME,\n",
    "       sum(TOTAL_SUBMISSIONS) TOTAL_SUBMISSIONS,\n",
    "       sum(TOTAL_ACCEPTED_SUBMISSIONS) TOTAL_ACCEPTED_SUBMISSIONS,\n",
    "       sum(TOTAL_VIEWS) TOTAL_VIEWS,\n",
    "       sum(TOTAL_UNIQUE_VIEWS) TOTAL_UNIQUE_VIEWS\n",
    "from CONTESTS CON\n",
    "left join COLLEGES COL\n",
    "    on CON.CONTEST_ID = COL.CONTEST_ID\n",
    "left join CHALLENGES CHA\n",
    "    on COL.COLLEGE_ID = CHA.COLLEGE_ID\n",
    "left join (select CHALLENGE_ID, \n",
    "                  sum(TOTAL_VIEWS) TOTAL_VIEWS,\n",
    "                  sum(TOTAL_UNIQUE_VIEWS) TOTAL_UNIQUE_VIEWS\n",
    "           from VIEW_STATS\n",
    "           group by CHALLENGE_ID) VST\n",
    "    on CHA.CHALLENGE_ID = VST.CHALLENGE_ID\n",
    "left join (select CHALLENGE_ID, \n",
    "                  SUM(TOTAL_SUBMISSIONS) TOTAL_SUBMISSIONS, \n",
    "                  SUM(TOTAL_ACCEPTED_SUBMISSIONS) TOTAL_ACCEPTED_SUBMISSIONS\n",
    "           from SUBMISSION_STATS\n",
    "           group by CHALLENGE_ID) SST\n",
    "    on CHA.CHALLENGE_ID = SST.CHALLENGE_ID\n",
    "group by CON.CONTEST_ID, CON.HACKER_ID, CON.NAME\n",
    "having (TOTAL_SUBMISSIONS + TOTAL_ACCEPTED_SUBMISSIONS + TOTAL_VIEWS + TOTAL_UNIQUE_VIEWS) > 0\n",
    "order by CON.CONTEST_ID;"
   ]
  }
 ],
 "metadata": {
  "kernelspec": {
   "display_name": "Python 3 (ipykernel)",
   "language": "python",
   "name": "python3"
  },
  "language_info": {
   "codemirror_mode": {
    "name": "ipython",
    "version": 3
   },
   "file_extension": ".py",
   "mimetype": "text/x-python",
   "name": "python",
   "nbconvert_exporter": "python",
   "pygments_lexer": "ipython3",
   "version": "3.8.16"
  }
 },
 "nbformat": 4,
 "nbformat_minor": 5
}
