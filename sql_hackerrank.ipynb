{
 "cells": [
  {
   "cell_type": "markdown",
   "id": "e8308d12",
   "metadata": {},
   "source": [
    "### Revising the Select Query I"
   ]
  },
  {
   "cell_type": "code",
   "execution_count": null,
   "id": "37c1f496",
   "metadata": {},
   "outputs": [],
   "source": [
    "select * from CITY where POPULATION>100000 and COUNTRYCODE='USA';"
   ]
  },
  {
   "cell_type": "markdown",
   "id": "da066b0b",
   "metadata": {},
   "source": [
    "### Revising the Select Query II"
   ]
  },
  {
   "cell_type": "code",
   "execution_count": null,
   "id": "016c60f1",
   "metadata": {},
   "outputs": [],
   "source": [
    "select NAME from CITY where POPULATION>120000 and COUNTRYCODE='USA';"
   ]
  },
  {
   "cell_type": "markdown",
   "id": "e53820f5",
   "metadata": {},
   "source": [
    "### Select All"
   ]
  },
  {
   "cell_type": "code",
   "execution_count": null,
   "id": "ad7c9e02",
   "metadata": {},
   "outputs": [],
   "source": [
    "select * from CITY;"
   ]
  },
  {
   "cell_type": "markdown",
   "id": "ad22ad3b",
   "metadata": {},
   "source": [
    "### Select By ID"
   ]
  },
  {
   "cell_type": "code",
   "execution_count": null,
   "id": "cf12ceb5",
   "metadata": {},
   "outputs": [],
   "source": [
    "select * from CITY where ID=1661;"
   ]
  },
  {
   "cell_type": "markdown",
   "id": "a718c31e",
   "metadata": {},
   "source": [
    "### Japanese Cities' Attributes"
   ]
  },
  {
   "cell_type": "code",
   "execution_count": null,
   "id": "f22e6423",
   "metadata": {},
   "outputs": [],
   "source": [
    "select * from CITY where COUNTRYCODE='JPN';"
   ]
  },
  {
   "cell_type": "markdown",
   "id": "ab9dd1c9",
   "metadata": {},
   "source": [
    "### Japanese Cities' Names"
   ]
  },
  {
   "cell_type": "code",
   "execution_count": null,
   "id": "6b283bc8",
   "metadata": {},
   "outputs": [],
   "source": [
    "select NAME from CITY where COUNTRYCODE='JPN';"
   ]
  },
  {
   "cell_type": "markdown",
   "id": "fa69ab97",
   "metadata": {},
   "source": [
    "### Weather Observation Station 1"
   ]
  },
  {
   "cell_type": "code",
   "execution_count": null,
   "id": "a51076ea",
   "metadata": {},
   "outputs": [],
   "source": [
    "select CITY, STATE from STATION;"
   ]
  },
  {
   "cell_type": "markdown",
   "id": "c3978fb7",
   "metadata": {},
   "source": [
    "### Weather Observation Station 3"
   ]
  },
  {
   "cell_type": "code",
   "execution_count": null,
   "id": "266b8e12",
   "metadata": {},
   "outputs": [],
   "source": [
    "select distinct CITY from STATION where mod(ID, 2) = 0; # mod in DB2"
   ]
  },
  {
   "cell_type": "markdown",
   "id": "8028d593",
   "metadata": {},
   "source": [
    "### Weather Observation Station 4"
   ]
  },
  {
   "cell_type": "code",
   "execution_count": null,
   "id": "72f8b8a8",
   "metadata": {},
   "outputs": [],
   "source": [
    "select count(CITY)-count(distinct CITY) from STATION;"
   ]
  },
  {
   "cell_type": "markdown",
   "id": "56129c07",
   "metadata": {},
   "source": [
    "### Weather Observation Station 5"
   ]
  },
  {
   "cell_type": "code",
   "execution_count": null,
   "id": "518cb01d",
   "metadata": {},
   "outputs": [],
   "source": [
    "select CITY, length(CITY) from STATION order by length(CITY) asc, CITY limit 1;\n",
    "select CITY, length(CITY) from STATION order by length(CITY) desc, CITY limit 1; "
   ]
  },
  {
   "cell_type": "markdown",
   "id": "1a2b248d",
   "metadata": {},
   "source": [
    "### Weather Observation Station 6"
   ]
  },
  {
   "cell_type": "code",
   "execution_count": null,
   "id": "1d557ccd",
   "metadata": {},
   "outputs": [],
   "source": [
    "select distinct CITY from STATION where lower(left(CITY, 1)) in ('a', 'e', 'i', 'o', 'u');"
   ]
  },
  {
   "cell_type": "markdown",
   "id": "ca5f443f",
   "metadata": {},
   "source": [
    "### Weather Observation Station 7"
   ]
  },
  {
   "cell_type": "code",
   "execution_count": null,
   "id": "0ec406cb",
   "metadata": {},
   "outputs": [],
   "source": [
    "select distinct CITY from STATION where lower(right(CITY, 1)) in ('a', 'e', 'i', 'o', 'u');"
   ]
  },
  {
   "cell_type": "markdown",
   "id": "4810454d",
   "metadata": {},
   "source": [
    "### Weather Observation Station 8"
   ]
  },
  {
   "cell_type": "code",
   "execution_count": null,
   "id": "85d6a252",
   "metadata": {},
   "outputs": [],
   "source": [
    "select distinct CITY from STATION where lower(left(CITY, 1)) in ('a', 'e', 'i', 'o', 'u') and lower(right(CITY, 1)) in ('a', 'e', 'i', 'o', 'u');"
   ]
  },
  {
   "cell_type": "markdown",
   "id": "fe28f456",
   "metadata": {},
   "source": [
    "### Weather Observation Station 9"
   ]
  },
  {
   "cell_type": "code",
   "execution_count": null,
   "id": "0e98a30f",
   "metadata": {},
   "outputs": [],
   "source": [
    "select distinct CITY from STATION where lower(left(CITY, 1)) not in ('a', 'e', 'i', 'o', 'u');"
   ]
  },
  {
   "cell_type": "markdown",
   "id": "f4e9ef8b",
   "metadata": {},
   "source": [
    "### Weather Observation Station 10"
   ]
  },
  {
   "cell_type": "code",
   "execution_count": null,
   "id": "6ba2cdc1",
   "metadata": {},
   "outputs": [],
   "source": [
    "select distinct CITY from STATION where lower(right(CITY, 1)) not in ('a', 'e', 'i', 'o', 'u');"
   ]
  },
  {
   "cell_type": "markdown",
   "id": "5df4ed7d",
   "metadata": {},
   "source": [
    "### Weather Observation Station 11"
   ]
  },
  {
   "cell_type": "code",
   "execution_count": null,
   "id": "4f00c29d",
   "metadata": {},
   "outputs": [],
   "source": [
    "select distinct CITY from STATION where lower(left(CITY, 1)) not in ('a', 'e', 'i', 'o', 'u') or lower(right(CITY, 1)) not in ('a', 'e', 'i', 'o', 'u');"
   ]
  },
  {
   "cell_type": "markdown",
   "id": "4ad661f4",
   "metadata": {},
   "source": [
    "### Weather Observation Station 12"
   ]
  },
  {
   "cell_type": "code",
   "execution_count": null,
   "id": "8b80c9d2",
   "metadata": {},
   "outputs": [],
   "source": [
    "select distinct CITY from STATION where lower(left(CITY, 1)) not in ('a', 'e', 'i', 'o', 'u') and lower(right(CITY, 1)) not in ('a', 'e', 'i', 'o', 'u');"
   ]
  },
  {
   "cell_type": "markdown",
   "id": "e0a14dbe",
   "metadata": {},
   "source": [
    "### Higher Than 75 Marks"
   ]
  },
  {
   "cell_type": "code",
   "execution_count": null,
   "id": "0451f749",
   "metadata": {},
   "outputs": [],
   "source": [
    "select NAME from STUDENTS where marks > 75 order by right(NAME, 3) asc, ID asc;"
   ]
  },
  {
   "cell_type": "markdown",
   "id": "2ebf2c7d",
   "metadata": {},
   "source": [
    "### Employee Names"
   ]
  },
  {
   "cell_type": "code",
   "execution_count": null,
   "id": "839aca93",
   "metadata": {},
   "outputs": [],
   "source": [
    "select NAME from EMPLOYEE order by NAME asc;"
   ]
  },
  {
   "cell_type": "markdown",
   "id": "fa96daa2",
   "metadata": {},
   "source": [
    "### Employee Salaries"
   ]
  },
  {
   "cell_type": "code",
   "execution_count": null,
   "id": "685c4589",
   "metadata": {},
   "outputs": [],
   "source": [
    "select NAME from EMPLOYEE where SALARY > 2000 and MONTHS < 10 order by EMPLOYEE_ID asc;"
   ]
  },
  {
   "cell_type": "markdown",
   "id": "a5ee7304",
   "metadata": {},
   "source": [
    "### Type of Triangle"
   ]
  },
  {
   "cell_type": "code",
   "execution_count": null,
   "id": "15531257",
   "metadata": {},
   "outputs": [],
   "source": [
    "select case \n",
    "when A+B<=C or A+C<=B or B+C<=A then 'Not A Triangle'\n",
    "when A=B and B=C and A=C then 'Equilateral'\n",
    "when A=B or B=C or A=C then 'Isosceles'\n",
    "else 'Scalene'\n",
    "end\n",
    "from TRIANGLES;"
   ]
  },
  {
   "cell_type": "markdown",
   "id": "8dd0295a",
   "metadata": {},
   "source": [
    "### The PADS"
   ]
  },
  {
   "cell_type": "code",
   "execution_count": null,
   "id": "a3e9c913",
   "metadata": {},
   "outputs": [],
   "source": [
    "select concat(concat(concat(NAME, '('), left(OCCUPATION, 1)), ')') from OCCUPATIONS order by NAME asc;"
   ]
  },
  {
   "cell_type": "code",
   "execution_count": null,
   "id": "5c0bfe21",
   "metadata": {},
   "outputs": [],
   "source": [
    "select concat(concat(concat(concat('There are a total of ', count(OCCUPATION)), ' '), lower(OCCUPATION)),'s.') as N \n",
    "from OCCUPATIONS \n",
    "group by OCCUPATION \n",
    "order by N asc, OCCUPATION asc;"
   ]
  },
  {
   "cell_type": "markdown",
   "id": "d07c7de8",
   "metadata": {},
   "source": [
    "### Occupations"
   ]
  },
  {
   "cell_type": "code",
   "execution_count": null,
   "id": "8237a821",
   "metadata": {},
   "outputs": [],
   "source": [
    "# MySQL\n",
    "\n",
    "WITH temp AS (\n",
    "    SELECT *, ROW_NUMBER() OVER (PARTITION BY occupation ORDER BY name) AS row_num\n",
    "    FROM Occupations\n",
    ")\n",
    "\n",
    "SELECT\n",
    "    MAX(CASE WHEN occupation = 'Doctor' THEN name END) AS doctor,\n",
    "    MAX(CASE WHEN occupation = 'Professor' THEN name END) AS professor,\n",
    "    MAX(CASE WHEN occupation = 'Singer' THEN name END) As singer,\n",
    "    MAX(CASE WHEN occupation = 'Actor' THEN name END) AS actor\n",
    "FROM temp\n",
    "GROUP BY row_num"
   ]
  },
  {
   "cell_type": "code",
   "execution_count": null,
   "id": "30094836",
   "metadata": {},
   "outputs": [],
   "source": [
    "# MS SQL Server\n",
    "\n",
    "WITH temp AS (\n",
    "    SELECT ROW_NUMBER() OVER (PARTITION BY occupation ORDER BY name) AS row_num, *\n",
    "    FROM Occupations\n",
    ")\n",
    "\n",
    "SELECT doctor, professor, singer, actor\n",
    "FROM temp PIVOT (MAX(name) FOR occupation IN (Doctor, Professor, Singer, Actor)) AS pvt;"
   ]
  },
  {
   "cell_type": "markdown",
   "id": "33907479",
   "metadata": {},
   "source": [
    "### Binary Tree Nodes"
   ]
  },
  {
   "cell_type": "code",
   "execution_count": null,
   "id": "1c86e524",
   "metadata": {},
   "outputs": [],
   "source": [
    "select N, case \n",
    "when P is null then 'Root'\n",
    "when (select count(*) from BST where P = t.N) > 0 then 'Inner'\n",
    "else 'Leaf'\n",
    "end\n",
    "from BST t\n",
    "order by N;"
   ]
  },
  {
   "cell_type": "markdown",
   "id": "8d7e71d4",
   "metadata": {},
   "source": [
    "### New Companies"
   ]
  },
  {
   "cell_type": "code",
   "execution_count": null,
   "id": "64f91146",
   "metadata": {},
   "outputs": [],
   "source": [
    "select COMPANY_CODE, FOUNDER,\n",
    "(select count(distinct LEAD_MANAGER_CODE) from LEAD_MANAGER where COMPANY_CODE = C.COMPANY_CODE),\n",
    "(select count(distinct SENIOR_MANAGER_CODE) from SENIOR_MANAGER where COMPANY_CODE = C.COMPANY_CODE),\n",
    "(select count(distinct MANAGER_CODE) from MANAGER where COMPANY_CODE = C.COMPANY_CODE),\n",
    "(select count(distinct EMPLOYEE_CODE) from EMPLOYEE where COMPANY_CODE = C.COMPANY_CODE)\n",
    "from COMPANY C\n",
    "order by COMPANY_CODE;"
   ]
  },
  {
   "cell_type": "markdown",
   "id": "04bb841b",
   "metadata": {},
   "source": [
    "### Revising Aggregations - The Count Function"
   ]
  },
  {
   "cell_type": "code",
   "execution_count": null,
   "id": "d7d53496",
   "metadata": {},
   "outputs": [],
   "source": [
    "select count(NAME) from CITY where POPULATION > 100000;"
   ]
  },
  {
   "cell_type": "markdown",
   "id": "68de0362",
   "metadata": {},
   "source": [
    "### Revising Aggregations - The Sum Function"
   ]
  },
  {
   "cell_type": "code",
   "execution_count": null,
   "id": "197ded21",
   "metadata": {},
   "outputs": [],
   "source": [
    "select sum(POPULATION) from CITY where DISTRICT = 'California';"
   ]
  },
  {
   "cell_type": "markdown",
   "id": "04fa0f7a",
   "metadata": {},
   "source": [
    "### Revising Aggregations - Averages"
   ]
  },
  {
   "cell_type": "code",
   "execution_count": null,
   "id": "e66ccc25",
   "metadata": {},
   "outputs": [],
   "source": [
    "select avg(POPULATION) from CITY where DISTRICT = 'California';"
   ]
  },
  {
   "cell_type": "markdown",
   "id": "3a09a421",
   "metadata": {},
   "source": [
    "### Average Population"
   ]
  },
  {
   "cell_type": "code",
   "execution_count": null,
   "id": "dbc33bee",
   "metadata": {},
   "outputs": [],
   "source": [
    "select round(avg(POPULATION)) from (select distinct NAME, POPULATION from CITY);"
   ]
  },
  {
   "cell_type": "markdown",
   "id": "6c8c2ec8",
   "metadata": {},
   "source": [
    "### Japan Population"
   ]
  },
  {
   "cell_type": "code",
   "execution_count": null,
   "id": "fdacf39e",
   "metadata": {},
   "outputs": [],
   "source": [
    "select sum(POPULATION) from CITY where COUNTRYCODE = 'JPN';"
   ]
  },
  {
   "cell_type": "markdown",
   "id": "d230cb99",
   "metadata": {},
   "source": [
    "### Population Density Difference"
   ]
  },
  {
   "cell_type": "code",
   "execution_count": null,
   "id": "dc2f307b",
   "metadata": {},
   "outputs": [],
   "source": [
    "select max(POPULATION)-min(POPULATION) from CITY;"
   ]
  },
  {
   "cell_type": "markdown",
   "id": "d37181f1",
   "metadata": {},
   "source": [
    "### The Blunder"
   ]
  },
  {
   "cell_type": "code",
   "execution_count": null,
   "id": "613e8887",
   "metadata": {},
   "outputs": [],
   "source": [
    "select ceil(avg(SALARY) - avg(replace(SALARY, '0', ''))) from EMPLOYEES;"
   ]
  },
  {
   "cell_type": "markdown",
   "id": "3b12ea0c",
   "metadata": {},
   "source": [
    "### Top Earners"
   ]
  },
  {
   "cell_type": "code",
   "execution_count": null,
   "id": "6987805a",
   "metadata": {},
   "outputs": [],
   "source": [
    "select max(MONTHS*SALARY), count(*)\n",
    "from EMPLOYEE \n",
    "where MONTHS*SALARY = (select max(MONTHS*SALARY) from EMPLOYEE);"
   ]
  },
  {
   "cell_type": "markdown",
   "id": "5998e0f3",
   "metadata": {},
   "source": [
    "### Weather Observation Station 2"
   ]
  },
  {
   "cell_type": "code",
   "execution_count": null,
   "id": "bb42da42",
   "metadata": {},
   "outputs": [],
   "source": [
    "select round(sum(LAT_N), 2), round(sum(LONG_W), 2) from STATION;"
   ]
  },
  {
   "cell_type": "markdown",
   "id": "e7ba9489",
   "metadata": {},
   "source": [
    "### Weather Observation Station 13"
   ]
  },
  {
   "cell_type": "code",
   "execution_count": null,
   "id": "7ab9375f",
   "metadata": {},
   "outputs": [],
   "source": [
    "select round(sum(LAT_N), 4) from STATION where LAT_N > 38.7880 and LAT_N < 137.2345;"
   ]
  },
  {
   "cell_type": "markdown",
   "id": "03c47bc4",
   "metadata": {},
   "source": [
    "### Weather Observation Station 14"
   ]
  },
  {
   "cell_type": "code",
   "execution_count": null,
   "id": "31ccdad4",
   "metadata": {},
   "outputs": [],
   "source": [
    "select round(max(LAT_N), 4) from STATION where LAT_N < 137.2345;"
   ]
  },
  {
   "cell_type": "markdown",
   "id": "8c412581",
   "metadata": {},
   "source": [
    "### Weather Observation Station 15"
   ]
  },
  {
   "cell_type": "code",
   "execution_count": null,
   "id": "ed3acaad",
   "metadata": {},
   "outputs": [],
   "source": [
    "select round(LONG_W, 4) from STATION where LAT_N = (select max(LAT_N) from STATION where LAT_N < 137.2345);"
   ]
  },
  {
   "cell_type": "markdown",
   "id": "d161e9e5",
   "metadata": {},
   "source": [
    "### Weather Observation Station 16"
   ]
  },
  {
   "cell_type": "code",
   "execution_count": null,
   "id": "c4a9d86f",
   "metadata": {},
   "outputs": [],
   "source": [
    "select round(min(LAT_N), 4) from STATION where LAT_N > 38.7780;"
   ]
  },
  {
   "cell_type": "markdown",
   "id": "2e7dede1",
   "metadata": {},
   "source": [
    "### Weather Observation Station 17"
   ]
  },
  {
   "cell_type": "code",
   "execution_count": null,
   "id": "ee15a93d",
   "metadata": {},
   "outputs": [],
   "source": [
    "select round(LONG_W, 4) from STATION where LAT_N = (select min(LAT_N) from STATION where LAT_N > 38.7780);"
   ]
  },
  {
   "cell_type": "markdown",
   "id": "5307d117",
   "metadata": {},
   "source": [
    "### Weather Observation Station 18"
   ]
  },
  {
   "cell_type": "code",
   "execution_count": null,
   "id": "9742e836",
   "metadata": {},
   "outputs": [],
   "source": [
    "select round(abs(min(LAT_N) - max(LAT_N)) + abs(min(LONG_W) - max(LONG_W)), 4) from STATION;"
   ]
  },
  {
   "cell_type": "markdown",
   "id": "ca7ffad5",
   "metadata": {},
   "source": [
    "### Weather Observation Station 19"
   ]
  },
  {
   "cell_type": "code",
   "execution_count": null,
   "id": "0081735b",
   "metadata": {},
   "outputs": [],
   "source": [
    "select round(sqrt(power(max(LAT_N)-min(LAT_N), 2)+power(max(LONG_W)-min(LONG_W), 2)), 4) from STATION;"
   ]
  },
  {
   "cell_type": "markdown",
   "id": "5946901d",
   "metadata": {},
   "source": [
    "### Weather Observation Station 20"
   ]
  },
  {
   "cell_type": "code",
   "execution_count": null,
   "id": "17a12405",
   "metadata": {},
   "outputs": [],
   "source": [
    "select round(LAT_N, 4)\n",
    "from (select LAT_N, row_number() over (ORDER BY LAT_N) as ROWNU from STATION) as X\n",
    "where ROWNU = (select round((count(LAT_N)+1)/2, 0) from STATION);"
   ]
  },
  {
   "cell_type": "markdown",
   "id": "2c2dc777",
   "metadata": {},
   "source": [
    "### Population Census"
   ]
  },
  {
   "cell_type": "code",
   "execution_count": null,
   "id": "8ef1d9dd",
   "metadata": {},
   "outputs": [],
   "source": [
    "select sum(CITY.POPULATION) \n",
    "from CITY \n",
    "inner join COUNTRY \n",
    "on CITY.COUNTRYCODE = COUNTRY.CODE\n",
    "where COUNTRY.CONTINENT = 'Asia';"
   ]
  },
  {
   "cell_type": "markdown",
   "id": "4ee50e8b",
   "metadata": {},
   "source": [
    "### African Cities"
   ]
  },
  {
   "cell_type": "code",
   "execution_count": null,
   "id": "ff5d32b2",
   "metadata": {},
   "outputs": [],
   "source": [
    "select CITY.NAME \n",
    "from CITY\n",
    "inner join COUNTRY\n",
    "on CITY.COUNTRYCODE = COUNTRY.CODE\n",
    "where COUNTRY.CONTINENT = 'Africa';"
   ]
  },
  {
   "cell_type": "markdown",
   "id": "96ed8806",
   "metadata": {},
   "source": [
    "### Average Population of Each Continent"
   ]
  },
  {
   "cell_type": "code",
   "execution_count": null,
   "id": "a97d9e6b",
   "metadata": {},
   "outputs": [],
   "source": [
    "select COUNTRY.CONTINENT, floor(avg(CITY.POPULATION))\n",
    "from CITY\n",
    "inner join COUNTRY\n",
    "on CITY.COUNTRYCODE = COUNTRY.CODE\n",
    "group by COUNTRY.CONTINENT;"
   ]
  },
  {
   "cell_type": "markdown",
   "id": "2f56e7e4",
   "metadata": {},
   "source": [
    "### The Report"
   ]
  },
  {
   "cell_type": "code",
   "execution_count": null,
   "id": "ccc7caa6",
   "metadata": {},
   "outputs": [],
   "source": [
    "select if(GRADES.GRADE>=8, STUDENTS.NAME, NULL), GRADES.GRADE, STUDENTS.MARKS\n",
    "from STUDENTS, GRADES\n",
    "where STUDENTS.MARKS between GRADES.MIN_MARK and GRADES.MAX_MARK\n",
    "order by GRADES.GRADE desc, STUDENTS.NAME asc;"
   ]
  },
  {
   "cell_type": "markdown",
   "id": "84232466",
   "metadata": {},
   "source": [
    "### Top Competitors"
   ]
  },
  {
   "cell_type": "code",
   "execution_count": null,
   "id": "4eb41f18",
   "metadata": {},
   "outputs": [],
   "source": [
    "select H.HACKER_ID, H.NAME\n",
    "from HACKERS H\n",
    "inner join SUBMISSIONS S\n",
    "on H.HACKER_ID = S.HACKER_ID\n",
    "inner join CHALLENGES C\n",
    "on S.CHALLENGE_ID = C.CHALLENGE_ID\n",
    "inner join DIFFICULTY D\n",
    "on C.DIFFICULTY_LEVEL = D.DIFFICULTY_LEVEL\n",
    "where S.SCORE = D.SCORE\n",
    "group by H.HACKER_ID, H.NAME\n",
    "having count(S.HACKER_ID) > 1\n",
    "order by count(S.HACKER_ID) desc, S.HACKER_ID asc;"
   ]
  },
  {
   "cell_type": "markdown",
   "id": "1e291bd0",
   "metadata": {},
   "source": [
    "### Ollivander's Inventory"
   ]
  },
  {
   "cell_type": "code",
   "execution_count": null,
   "id": "54053bda",
   "metadata": {},
   "outputs": [],
   "source": [
    "select W.ID, WP.AGE, W.COINS_NEEDED, W.POWER\n",
    "from WANDS W\n",
    "join WANDS_PROPERTY WP\n",
    "on W.CODE = WP.CODE\n",
    "where WP.IS_EVIL = 0 and W.COINS_NEEDED = (select min(COINS_NEEDED) \n",
    "                                           from WANDS A\n",
    "                                           join WANDS_PROPERTY B\n",
    "                                           on A.CODE = B.CODE\n",
    "                                           where A.POWER = W.POWER and B.AGE = WP.AGE)\n",
    "order by W.POWER desc, WP.AGE desc;"
   ]
  },
  {
   "cell_type": "markdown",
   "id": "e8ea8b80",
   "metadata": {},
   "source": [
    "### Challenges"
   ]
  },
  {
   "cell_type": "code",
   "execution_count": null,
   "id": "c2efc0d6",
   "metadata": {},
   "outputs": [],
   "source": [
    "select H.HACKER_ID, H.NAME, count(C.CHALLENGE_ID) CC\n",
    "from HACKERS H\n",
    "join CHALLENGES C \n",
    "on C.HACKER_ID = H.HACKER_ID\n",
    "group by H.HACKER_ID, H.NAME\n",
    "having CC = \n",
    "    (select COUNT(C2.CHALLENGE_ID) CC2\n",
    "     from CHALLENGES C2\n",
    "     group by C2.HACKER_ID \n",
    "     order by CC2 desc limit 1)\n",
    "or CC in \n",
    "    (select distinct CC3\n",
    "     from (select H2.HACKER_ID, H2.NAME, count(CHALLENGE_ID) CC3\n",
    "           from HACKERS H2\n",
    "           join CHALLENGES C \n",
    "           on C.HACKER_ID = H2.HACKER_ID\n",
    "           group by H2.HACKER_ID, H2.NAME) CCOUNTS\n",
    "     group by CC3\n",
    "     having count(CC3) = 1)\n",
    "order by CC desc, H.HACKER_ID;"
   ]
  },
  {
   "cell_type": "markdown",
   "id": "6ed9ffbf",
   "metadata": {},
   "source": [
    "### Contest Leaderboard"
   ]
  },
  {
   "cell_type": "code",
   "execution_count": null,
   "id": "15876582",
   "metadata": {},
   "outputs": [],
   "source": [
    "select MAX_SCORE.HACKER_ID, \n",
    "       (select H.NAME \n",
    "        from HACKERS H\n",
    "        where H.HACKER_ID = MAX_SCORE.HACKER_ID) NAME, \n",
    "       sum(MAX_SCORE.SCORE) TOTAL_SCORE \n",
    "from (select HACKER_ID, max(SCORE) SCORE \n",
    "      from SUBMISSIONS S\n",
    "      group by 1, S.CHALLENGE_ID) MAX_SCORE \n",
    "group by 1\n",
    "having TOTAL_SCORE > 0\n",
    "order by TOTAL_SCORE DESC, HACKER_ID;"
   ]
  },
  {
   "cell_type": "markdown",
   "id": "ff3fdc34",
   "metadata": {},
   "source": [
    "### SQL Project Planning"
   ]
  },
  {
   "cell_type": "code",
   "execution_count": null,
   "id": "e5592b09",
   "metadata": {},
   "outputs": [],
   "source": [
    "select START_DATE, X \n",
    "from (select A.START_DATE, min(B.END_DATE) X\n",
    "      from (select START_DATE \n",
    "            from PROJECTS \n",
    "            where START_DATE not in (select END_DATE from PROJECTS)) A,\n",
    "           (select END_DATE\n",
    "            from PROJECTS\n",
    "            where END_DATE not in (select START_DATE from PROJECTS)) B\n",
    "      where START_DATE < END_DATE\n",
    "      group by A.START_DATE) P\n",
    "order by datediff(X, START_DATE), START_DATE;"
   ]
  },
  {
   "cell_type": "markdown",
   "id": "8edfd586",
   "metadata": {},
   "source": [
    "### Placements"
   ]
  },
  {
   "cell_type": "code",
   "execution_count": null,
   "id": "fb226cd8",
   "metadata": {},
   "outputs": [],
   "source": [
    "select S.NAME\n",
    "from STUDENTS S\n",
    "join FRIENDS F\n",
    "on S.ID = F.ID\n",
    "join PACKAGES P1\n",
    "on S.ID = P1.ID\n",
    "join PACKAGES P2\n",
    "on F.FRIEND_ID = P2.ID\n",
    "where P2.SALARY > P1.SALARY\n",
    "order by P2.SALARY asc;"
   ]
  },
  {
   "cell_type": "markdown",
   "id": "9682d574",
   "metadata": {},
   "source": [
    "### Symmetric Pairs"
   ]
  },
  {
   "cell_type": "code",
   "execution_count": null,
   "id": "941a7205",
   "metadata": {},
   "outputs": [],
   "source": [
    "select X, Y\n",
    "from FUNCTIONS F1\n",
    "where exists(select * \n",
    "             from FUNCTIONS F2 \n",
    "             where F2.Y = F1.X and F2.X = F1.Y and F2.X > F1.X) and (X != Y)\n",
    "union\n",
    "select X, Y \n",
    "from FUNCTIONS F1 \n",
    "where X = Y and ((select count(*) from FUNCTIONS where X = F1.X and Y = F1.X) > 1)\n",
    "order by X;"
   ]
  },
  {
   "cell_type": "markdown",
   "id": "3eed0556",
   "metadata": {},
   "source": [
    "### Interviews"
   ]
  },
  {
   "cell_type": "code",
   "execution_count": null,
   "id": "4cd6f9d3",
   "metadata": {},
   "outputs": [],
   "source": [
    "select CON.CONTEST_ID, CON.HACKER_ID, CON.NAME,\n",
    "       sum(TOTAL_SUBMISSIONS) TOTAL_SUBMISSIONS,\n",
    "       sum(TOTAL_ACCEPTED_SUBMISSIONS) TOTAL_ACCEPTED_SUBMISSIONS,\n",
    "       sum(TOTAL_VIEWS) TOTAL_VIEWS,\n",
    "       sum(TOTAL_UNIQUE_VIEWS) TOTAL_UNIQUE_VIEWS\n",
    "from CONTESTS CON\n",
    "left join COLLEGES COL\n",
    "    on CON.CONTEST_ID = COL.CONTEST_ID\n",
    "left join CHALLENGES CHA\n",
    "    on COL.COLLEGE_ID = CHA.COLLEGE_ID\n",
    "left join (select CHALLENGE_ID, \n",
    "                  sum(TOTAL_VIEWS) TOTAL_VIEWS,\n",
    "                  sum(TOTAL_UNIQUE_VIEWS) TOTAL_UNIQUE_VIEWS\n",
    "           from VIEW_STATS\n",
    "           group by CHALLENGE_ID) VST\n",
    "    on CHA.CHALLENGE_ID = VST.CHALLENGE_ID\n",
    "left join (select CHALLENGE_ID, \n",
    "                  SUM(TOTAL_SUBMISSIONS) TOTAL_SUBMISSIONS, \n",
    "                  SUM(TOTAL_ACCEPTED_SUBMISSIONS) TOTAL_ACCEPTED_SUBMISSIONS\n",
    "           from SUBMISSION_STATS\n",
    "           group by CHALLENGE_ID) SST\n",
    "    on CHA.CHALLENGE_ID = SST.CHALLENGE_ID\n",
    "group by CON.CONTEST_ID, CON.HACKER_ID, CON.NAME\n",
    "having (TOTAL_SUBMISSIONS + TOTAL_ACCEPTED_SUBMISSIONS + TOTAL_VIEWS + TOTAL_UNIQUE_VIEWS) > 0\n",
    "order by CON.CONTEST_ID;"
   ]
  },
  {
   "cell_type": "markdown",
   "id": "3ae73b1e",
   "metadata": {},
   "source": [
    "### 15 Days of Learning SQL"
   ]
  },
  {
   "cell_type": "code",
   "execution_count": null,
   "id": "8704a69d",
   "metadata": {},
   "outputs": [],
   "source": [
    "select SUBMISSION_DATE,\n",
    "       (select count(distinct HACKER_ID)\n",
    "        from SUBMISSIONS S2\n",
    "        where S2.SUBMISSION_DATE = S1.SUBMISSION_DATE and \n",
    "             (select count(distinct S3.SUBMISSION_DATE)\n",
    "              from SUBMISSIONS S3 \n",
    "              where S3.HACKER_ID = S2.HACKER_ID and S3.SUBMISSION_DATE < S1.SUBMISSION_DATE) =\n",
    "                    datediff(S1.SUBMISSION_DATE , '2016-03-01')),\n",
    "       (select HACKER_ID \n",
    "        from SUBMISSIONS S2 \n",
    "        where S2.SUBMISSION_DATE = S1.SUBMISSION_DATE \n",
    "        group by HACKER_ID \n",
    "        order by count(SUBMISSION_ID) desc, HACKER_ID LIMIT 1) as TMP,\n",
    "       (select NAME \n",
    "        from HACKERS \n",
    "        where HACKER_ID = TMP)\n",
    "from (select distinct SUBMISSION_DATE \n",
    "      from SUBMISSIONS) S1\n",
    "group by SUBMISSION_DATE;"
   ]
  },
  {
   "cell_type": "markdown",
   "id": "a2c491da",
   "metadata": {},
   "source": [
    "### Draw The Triangle 1"
   ]
  },
  {
   "cell_type": "code",
   "execution_count": null,
   "id": "82e1102f",
   "metadata": {},
   "outputs": [],
   "source": [
    "set @NUMBER = 21;\n",
    "select repeat('* ', @NUMBER := @NUMBER - 1)\n",
    "from information_schema.tables limit 20;"
   ]
  },
  {
   "cell_type": "markdown",
   "id": "ab71f6c2",
   "metadata": {},
   "source": [
    "### Draw The Triangle 2"
   ]
  },
  {
   "cell_type": "code",
   "execution_count": null,
   "id": "a935c65d",
   "metadata": {},
   "outputs": [],
   "source": [
    "set @NUMBER = 0;\n",
    "select repeat('* ', @NUMBER := @NUMBER + 1)\n",
    "from information_schema.tables limit 20;"
   ]
  },
  {
   "cell_type": "markdown",
   "id": "d529fd9b",
   "metadata": {},
   "source": [
    "### Print Prime Numbers"
   ]
  },
  {
   "cell_type": "code",
   "execution_count": null,
   "id": "57bd5d9f",
   "metadata": {},
   "outputs": [],
   "source": []
  }
 ],
 "metadata": {
  "kernelspec": {
   "display_name": "Python 3 (ipykernel)",
   "language": "python",
   "name": "python3"
  },
  "language_info": {
   "codemirror_mode": {
    "name": "ipython",
    "version": 3
   },
   "file_extension": ".py",
   "mimetype": "text/x-python",
   "name": "python",
   "nbconvert_exporter": "python",
   "pygments_lexer": "ipython3",
   "version": "3.8.16"
  }
 },
 "nbformat": 4,
 "nbformat_minor": 5
}
