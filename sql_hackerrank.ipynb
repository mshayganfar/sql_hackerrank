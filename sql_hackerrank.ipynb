{
 "cells": [
  {
   "cell_type": "markdown",
   "id": "99c6fd1b",
   "metadata": {},
   "source": [
    "### Revising the Select Query I"
   ]
  },
  {
   "cell_type": "code",
   "execution_count": null,
   "id": "eed887ba",
   "metadata": {},
   "outputs": [],
   "source": [
    "select * from CITY where POPULATION>100000 and COUNTRYCODE='USA';"
   ]
  },
  {
   "cell_type": "markdown",
   "id": "10d2a78f",
   "metadata": {},
   "source": [
    "### Revising the Select Query II"
   ]
  },
  {
   "cell_type": "code",
   "execution_count": null,
   "id": "602944c4",
   "metadata": {},
   "outputs": [],
   "source": [
    "select NAME from CITY where POPULATION>120000 and COUNTRYCODE='USA';"
   ]
  },
  {
   "cell_type": "markdown",
   "id": "49318f9c",
   "metadata": {},
   "source": [
    "### Select All"
   ]
  },
  {
   "cell_type": "code",
   "execution_count": null,
   "id": "d104e74b",
   "metadata": {},
   "outputs": [],
   "source": [
    "select * from CITY;"
   ]
  },
  {
   "cell_type": "markdown",
   "id": "ec6214e1",
   "metadata": {},
   "source": [
    "### Select By ID"
   ]
  },
  {
   "cell_type": "code",
   "execution_count": null,
   "id": "63955d3c",
   "metadata": {},
   "outputs": [],
   "source": [
    "select * from CITY where ID=1661;"
   ]
  },
  {
   "cell_type": "markdown",
   "id": "90b70f6b",
   "metadata": {},
   "source": [
    "### Japanese Cities' Attributes"
   ]
  },
  {
   "cell_type": "code",
   "execution_count": null,
   "id": "d61ed6f9",
   "metadata": {},
   "outputs": [],
   "source": [
    "select * from CITY where COUNTRYCODE='JPN';"
   ]
  },
  {
   "cell_type": "markdown",
   "id": "0c859cfd",
   "metadata": {},
   "source": [
    "### Japanese Cities' Names"
   ]
  },
  {
   "cell_type": "code",
   "execution_count": null,
   "id": "3c6defb4",
   "metadata": {},
   "outputs": [],
   "source": [
    "select NAME from CITY where COUNTRYCODE='JPN';"
   ]
  },
  {
   "cell_type": "markdown",
   "id": "210c9fb5",
   "metadata": {},
   "source": [
    "### Weather Observation Station 1"
   ]
  },
  {
   "cell_type": "code",
   "execution_count": null,
   "id": "0e4c5e8a",
   "metadata": {},
   "outputs": [],
   "source": [
    "select CITY, STATE from STATION;"
   ]
  },
  {
   "cell_type": "markdown",
   "id": "8a06c554",
   "metadata": {},
   "source": [
    "### Weather Observation Station 3"
   ]
  },
  {
   "cell_type": "code",
   "execution_count": null,
   "id": "eb5df6cb",
   "metadata": {},
   "outputs": [],
   "source": [
    "select distinct CITY from STATION where mod(ID, 2) = 0; # mod in DB2"
   ]
  },
  {
   "cell_type": "markdown",
   "id": "c6b11934",
   "metadata": {},
   "source": [
    "### Weather Observation Station 4"
   ]
  },
  {
   "cell_type": "code",
   "execution_count": null,
   "id": "b76365b3",
   "metadata": {},
   "outputs": [],
   "source": [
    "select count(CITY)-count(distinct CITY) from STATION;"
   ]
  },
  {
   "cell_type": "markdown",
   "id": "9ed1dc21",
   "metadata": {},
   "source": [
    "### Weather Observation Station 5"
   ]
  },
  {
   "cell_type": "code",
   "execution_count": null,
   "id": "bc0b2d0f",
   "metadata": {},
   "outputs": [],
   "source": [
    "select CITY, length(CITY) from STATION order by length(CITY) asc, CITY limit 1;\n",
    "select CITY, length(CITY) from STATION order by length(CITY) desc, CITY limit 1; "
   ]
  },
  {
   "cell_type": "markdown",
   "id": "c35efc6f",
   "metadata": {},
   "source": [
    "### Weather Observation Station 6"
   ]
  },
  {
   "cell_type": "code",
   "execution_count": null,
   "id": "c2541773",
   "metadata": {},
   "outputs": [],
   "source": [
    "select distinct CITY from STATION where lower(left(CITY, 1)) in ('a', 'e', 'i', 'o', 'u');"
   ]
  },
  {
   "cell_type": "markdown",
   "id": "4e92de57",
   "metadata": {},
   "source": [
    "### Weather Observation Station 7"
   ]
  },
  {
   "cell_type": "code",
   "execution_count": null,
   "id": "bac5b39a",
   "metadata": {},
   "outputs": [],
   "source": [
    "select distinct CITY from STATION where lower(right(CITY, 1)) in ('a', 'e', 'i', 'o', 'u');"
   ]
  },
  {
   "cell_type": "markdown",
   "id": "7b6ddfa1",
   "metadata": {},
   "source": [
    "### Weather Observation Station 8"
   ]
  },
  {
   "cell_type": "code",
   "execution_count": null,
   "id": "9618a7e0",
   "metadata": {},
   "outputs": [],
   "source": [
    "select distinct CITY from STATION where lower(left(CITY, 1)) in ('a', 'e', 'i', 'o', 'u') and lower(right(CITY, 1)) in ('a', 'e', 'i', 'o', 'u');"
   ]
  },
  {
   "cell_type": "markdown",
   "id": "1669671b",
   "metadata": {},
   "source": [
    "### Weather Observation Station 9"
   ]
  },
  {
   "cell_type": "code",
   "execution_count": null,
   "id": "821f7f7f",
   "metadata": {},
   "outputs": [],
   "source": [
    "select distinct CITY from STATION where lower(left(CITY, 1)) not in ('a', 'e', 'i', 'o', 'u');"
   ]
  },
  {
   "cell_type": "markdown",
   "id": "3a641315",
   "metadata": {},
   "source": [
    "### Weather Observation Station 10"
   ]
  },
  {
   "cell_type": "code",
   "execution_count": null,
   "id": "641ee12d",
   "metadata": {},
   "outputs": [],
   "source": [
    "select distinct CITY from STATION where lower(right(CITY, 1)) not in ('a', 'e', 'i', 'o', 'u');"
   ]
  },
  {
   "cell_type": "markdown",
   "id": "e3545a07",
   "metadata": {},
   "source": [
    "### Weather Observation Station 11"
   ]
  },
  {
   "cell_type": "code",
   "execution_count": null,
   "id": "150a722e",
   "metadata": {},
   "outputs": [],
   "source": [
    "select distinct CITY from STATION where lower(left(CITY, 1)) not in ('a', 'e', 'i', 'o', 'u') or lower(right(CITY, 1)) not in ('a', 'e', 'i', 'o', 'u');"
   ]
  },
  {
   "cell_type": "markdown",
   "id": "774c82c1",
   "metadata": {},
   "source": [
    "### Weather Observation Station 12"
   ]
  },
  {
   "cell_type": "code",
   "execution_count": null,
   "id": "eca550a5",
   "metadata": {},
   "outputs": [],
   "source": [
    "select distinct CITY from STATION where lower(left(CITY, 1)) not in ('a', 'e', 'i', 'o', 'u') and lower(right(CITY, 1)) not in ('a', 'e', 'i', 'o', 'u');"
   ]
  },
  {
   "cell_type": "markdown",
   "id": "fbdb7fca",
   "metadata": {},
   "source": [
    "### Higher Than 75 Marks"
   ]
  },
  {
   "cell_type": "code",
   "execution_count": null,
   "id": "aa4d99ca",
   "metadata": {},
   "outputs": [],
   "source": [
    "select NAME from STUDENTS where marks > 75 order by right(NAME, 3) asc, ID asc;"
   ]
  },
  {
   "cell_type": "markdown",
   "id": "8ff73510",
   "metadata": {},
   "source": [
    "### Employee Names"
   ]
  },
  {
   "cell_type": "code",
   "execution_count": null,
   "id": "03b50799",
   "metadata": {},
   "outputs": [],
   "source": [
    "select NAME from EMPLOYEE order by NAME asc;"
   ]
  },
  {
   "cell_type": "markdown",
   "id": "ebf212cd",
   "metadata": {},
   "source": [
    "### Employee Salaries"
   ]
  },
  {
   "cell_type": "code",
   "execution_count": null,
   "id": "808a945c",
   "metadata": {},
   "outputs": [],
   "source": [
    "select NAME from EMPLOYEE where SALARY > 2000 and MONTHS < 10 order by EMPLOYEE_ID asc;"
   ]
  },
  {
   "cell_type": "markdown",
   "id": "b0921710",
   "metadata": {},
   "source": [
    "### Type of Triangle"
   ]
  },
  {
   "cell_type": "code",
   "execution_count": null,
   "id": "acab96c3",
   "metadata": {},
   "outputs": [],
   "source": [
    "select case \n",
    "when A+B<=C or A+C<=B or B+C<=A then 'Not A Triangle'\n",
    "when A=B and B=C and A=C then 'Equilateral'\n",
    "when A=B or B=C or A=C then 'Isosceles'\n",
    "else 'Scalene'\n",
    "end\n",
    "from TRIANGLES;"
   ]
  },
  {
   "cell_type": "markdown",
   "id": "cc19ceee",
   "metadata": {},
   "source": [
    "### The PADS"
   ]
  },
  {
   "cell_type": "code",
   "execution_count": null,
   "id": "b412058c",
   "metadata": {},
   "outputs": [],
   "source": [
    "select concat(concat(concat(NAME, '('), left(OCCUPATION, 1)), ')') from OCCUPATIONS order by NAME asc;"
   ]
  },
  {
   "cell_type": "code",
   "execution_count": null,
   "id": "988b1f8b",
   "metadata": {},
   "outputs": [],
   "source": [
    "select concat(concat(concat(concat('There are a total of ', count(OCCUPATION)), ' '), lower(OCCUPATION)),'s.') as N \n",
    "from OCCUPATIONS \n",
    "group by OCCUPATION \n",
    "order by N asc, OCCUPATION asc;"
   ]
  },
  {
   "cell_type": "markdown",
   "id": "b82b8224",
   "metadata": {},
   "source": [
    "### Occupations"
   ]
  },
  {
   "cell_type": "code",
   "execution_count": null,
   "id": "0a23c9fe",
   "metadata": {},
   "outputs": [],
   "source": [
    "# MySQL\n",
    "\n",
    "WITH temp AS (\n",
    "    SELECT *, ROW_NUMBER() OVER (PARTITION BY occupation ORDER BY name) AS row_num\n",
    "    FROM Occupations\n",
    ")\n",
    "\n",
    "SELECT\n",
    "    MAX(CASE WHEN occupation = 'Doctor' THEN name END) AS doctor,\n",
    "    MAX(CASE WHEN occupation = 'Professor' THEN name END) AS professor,\n",
    "    MAX(CASE WHEN occupation = 'Singer' THEN name END) As singer,\n",
    "    MAX(CASE WHEN occupation = 'Actor' THEN name END) AS actor\n",
    "FROM temp\n",
    "GROUP BY row_num"
   ]
  },
  {
   "cell_type": "code",
   "execution_count": null,
   "id": "5ac43f30",
   "metadata": {},
   "outputs": [],
   "source": [
    "# MS SQL Server\n",
    "\n",
    "WITH temp AS (\n",
    "    SELECT ROW_NUMBER() OVER (PARTITION BY occupation ORDER BY name) AS row_num, *\n",
    "    FROM Occupations\n",
    ")\n",
    "\n",
    "SELECT doctor, professor, singer, actor\n",
    "FROM temp PIVOT (MAX(name) FOR occupation IN (Doctor, Professor, Singer, Actor)) AS pvt;"
   ]
  },
  {
   "cell_type": "markdown",
   "id": "6843b04b",
   "metadata": {},
   "source": [
    "### Binary Tree Nodes"
   ]
  },
  {
   "cell_type": "code",
   "execution_count": null,
   "id": "8cfd5064",
   "metadata": {},
   "outputs": [],
   "source": [
    "select N, case \n",
    "when P is null then 'Root'\n",
    "when (select count(*) from BST where P = t.N) > 0 then 'Inner'\n",
    "else 'Leaf'\n",
    "end\n",
    "from BST t\n",
    "order by N;"
   ]
  },
  {
   "cell_type": "markdown",
   "id": "e2dfab65",
   "metadata": {},
   "source": [
    "### New Companies"
   ]
  },
  {
   "cell_type": "code",
   "execution_count": null,
   "id": "dc5b386d",
   "metadata": {},
   "outputs": [],
   "source": [
    "select COMPANY_CODE, FOUNDER,\n",
    "(select count(distinct LEAD_MANAGER_CODE) from LEAD_MANAGER where COMPANY_CODE = C.COMPANY_CODE),\n",
    "(select count(distinct SENIOR_MANAGER_CODE) from SENIOR_MANAGER where COMPANY_CODE = C.COMPANY_CODE),\n",
    "(select count(distinct MANAGER_CODE) from MANAGER where COMPANY_CODE = C.COMPANY_CODE),\n",
    "(select count(distinct EMPLOYEE_CODE) from EMPLOYEE where COMPANY_CODE = C.COMPANY_CODE)\n",
    "from COMPANY C\n",
    "order by COMPANY_CODE;"
   ]
  },
  {
   "cell_type": "markdown",
   "id": "7aa2377b",
   "metadata": {},
   "source": [
    "### Revising Aggregations - The Count Function"
   ]
  },
  {
   "cell_type": "code",
   "execution_count": null,
   "id": "0d5124f1",
   "metadata": {},
   "outputs": [],
   "source": [
    "select count(NAME) from CITY where POPULATION > 100000;"
   ]
  },
  {
   "cell_type": "markdown",
   "id": "bab230f8",
   "metadata": {},
   "source": [
    "### Revising Aggregations - The Sum Function"
   ]
  },
  {
   "cell_type": "code",
   "execution_count": null,
   "id": "9d07e434",
   "metadata": {},
   "outputs": [],
   "source": [
    "select sum(POPULATION) from CITY where DISTRICT = 'California';"
   ]
  },
  {
   "cell_type": "markdown",
   "id": "4a9c4674",
   "metadata": {},
   "source": [
    "### Revising Aggregations - Averages"
   ]
  },
  {
   "cell_type": "code",
   "execution_count": null,
   "id": "1275d82e",
   "metadata": {},
   "outputs": [],
   "source": [
    "select avg(POPULATION) from CITY where DISTRICT = 'California';"
   ]
  },
  {
   "cell_type": "markdown",
   "id": "7ca05bad",
   "metadata": {},
   "source": [
    "### Average Population"
   ]
  },
  {
   "cell_type": "code",
   "execution_count": null,
   "id": "2f30044f",
   "metadata": {},
   "outputs": [],
   "source": [
    "select round(avg(POPULATION)) from (select distinct NAME, POPULATION from CITY);"
   ]
  },
  {
   "cell_type": "markdown",
   "id": "76c784ed",
   "metadata": {},
   "source": [
    "### Japan Population"
   ]
  },
  {
   "cell_type": "code",
   "execution_count": null,
   "id": "da99cc16",
   "metadata": {},
   "outputs": [],
   "source": [
    "select sum(POPULATION) from CITY where COUNTRYCODE = 'JPN';"
   ]
  },
  {
   "cell_type": "markdown",
   "id": "f8a03def",
   "metadata": {},
   "source": [
    "### Population Density Difference"
   ]
  },
  {
   "cell_type": "code",
   "execution_count": null,
   "id": "71a04c9b",
   "metadata": {},
   "outputs": [],
   "source": [
    "select max(POPULATION)-min(POPULATION) from CITY;"
   ]
  },
  {
   "cell_type": "markdown",
   "id": "c76bdee8",
   "metadata": {},
   "source": [
    "### The Blunder"
   ]
  },
  {
   "cell_type": "code",
   "execution_count": null,
   "id": "983498cc",
   "metadata": {},
   "outputs": [],
   "source": [
    "select ceil(avg(SALARY) - avg(replace(SALARY, '0', ''))) from EMPLOYEES;"
   ]
  },
  {
   "cell_type": "markdown",
   "id": "4ddc3cdf",
   "metadata": {},
   "source": [
    "### Top Earners"
   ]
  },
  {
   "cell_type": "code",
   "execution_count": null,
   "id": "f85729a4",
   "metadata": {},
   "outputs": [],
   "source": [
    "select max(MONTHS*SALARY), count(*)\n",
    "from EMPLOYEE \n",
    "where MONTHS*SALARY = (select max(MONTHS*SALARY) from EMPLOYEE);"
   ]
  },
  {
   "cell_type": "markdown",
   "id": "68fd8dbd",
   "metadata": {},
   "source": [
    "### Weather Observation Station 2"
   ]
  },
  {
   "cell_type": "code",
   "execution_count": null,
   "id": "dcf59a67",
   "metadata": {},
   "outputs": [],
   "source": [
    "select round(sum(LAT_N), 2), round(sum(LONG_W), 2) from STATION;"
   ]
  },
  {
   "cell_type": "markdown",
   "id": "95e8d8f7",
   "metadata": {},
   "source": [
    "### Weather Observation Station 13"
   ]
  },
  {
   "cell_type": "code",
   "execution_count": null,
   "id": "737a3405",
   "metadata": {},
   "outputs": [],
   "source": [
    "select round(sum(LAT_N), 4) from STATION where LAT_N > 38.7880 and LAT_N < 137.2345;"
   ]
  },
  {
   "cell_type": "markdown",
   "id": "355df2a1",
   "metadata": {},
   "source": [
    "### Weather Observation Station 14"
   ]
  },
  {
   "cell_type": "code",
   "execution_count": null,
   "id": "10b51a07",
   "metadata": {},
   "outputs": [],
   "source": [
    "select round(max(LAT_N), 4) from STATION where LAT_N < 137.2345;"
   ]
  },
  {
   "cell_type": "markdown",
   "id": "b20be9bd",
   "metadata": {},
   "source": [
    "### Weather Observation Station 15"
   ]
  },
  {
   "cell_type": "code",
   "execution_count": null,
   "id": "3a1cef53",
   "metadata": {},
   "outputs": [],
   "source": [
    "select round(LONG_W, 4) from STATION where LAT_N = (select max(LAT_N) from STATION where LAT_N < 137.2345);"
   ]
  },
  {
   "cell_type": "markdown",
   "id": "66c94421",
   "metadata": {},
   "source": [
    "### Weather Observation Station 16"
   ]
  },
  {
   "cell_type": "code",
   "execution_count": null,
   "id": "70751325",
   "metadata": {},
   "outputs": [],
   "source": [
    "select round(min(LAT_N), 4) from STATION where LAT_N > 38.7780;"
   ]
  },
  {
   "cell_type": "markdown",
   "id": "f85e42c3",
   "metadata": {},
   "source": [
    "### Weather Observation Station 17"
   ]
  },
  {
   "cell_type": "code",
   "execution_count": null,
   "id": "ccc0ea2b",
   "metadata": {},
   "outputs": [],
   "source": [
    "select round(LONG_W, 4) from STATION where LAT_N = (select min(LAT_N) from STATION where LAT_N > 38.7780);"
   ]
  },
  {
   "cell_type": "markdown",
   "id": "54cade48",
   "metadata": {},
   "source": [
    "### Weather Observation Station 18"
   ]
  },
  {
   "cell_type": "code",
   "execution_count": null,
   "id": "6313061c",
   "metadata": {},
   "outputs": [],
   "source": [
    "select round(abs(min(LAT_N) - max(LAT_N)) + abs(min(LONG_W) - max(LONG_W)), 4) from STATION;"
   ]
  },
  {
   "cell_type": "markdown",
   "id": "36cc1400",
   "metadata": {},
   "source": [
    "### Weather Observation Station 19"
   ]
  },
  {
   "cell_type": "code",
   "execution_count": null,
   "id": "d04cd339",
   "metadata": {},
   "outputs": [],
   "source": [
    "select round(sqrt(power(max(LAT_N)-min(LAT_N), 2)+power(max(LONG_W)-min(LONG_W), 2)), 4) from STATION;"
   ]
  },
  {
   "cell_type": "markdown",
   "id": "b1667602",
   "metadata": {},
   "source": [
    "### Weather Observation Station 20"
   ]
  },
  {
   "cell_type": "code",
   "execution_count": null,
   "id": "27e9a11c",
   "metadata": {},
   "outputs": [],
   "source": [
    "select round(LAT_N, 4)\n",
    "from (select LAT_N, row_number() over (ORDER BY LAT_N) as ROWNU from STATION) as X\n",
    "where ROWNU = (select round((count(LAT_N)+1)/2, 0) from STATION);"
   ]
  },
  {
   "cell_type": "markdown",
   "id": "9352b9d1",
   "metadata": {},
   "source": [
    "### Population Census"
   ]
  },
  {
   "cell_type": "code",
   "execution_count": null,
   "id": "dc76d028",
   "metadata": {},
   "outputs": [],
   "source": [
    "select sum(CITY.POPULATION) \n",
    "from CITY \n",
    "inner join COUNTRY \n",
    "on CITY.COUNTRYCODE = COUNTRY.CODE\n",
    "where COUNTRY.CONTINENT = 'Asia';"
   ]
  },
  {
   "cell_type": "markdown",
   "id": "1404c245",
   "metadata": {},
   "source": [
    "### African Cities"
   ]
  },
  {
   "cell_type": "code",
   "execution_count": null,
   "id": "419255c3",
   "metadata": {},
   "outputs": [],
   "source": [
    "select CITY.NAME \n",
    "from CITY\n",
    "inner join COUNTRY\n",
    "on CITY.COUNTRYCODE = COUNTRY.CODE\n",
    "where COUNTRY.CONTINENT = 'Africa';"
   ]
  },
  {
   "cell_type": "markdown",
   "id": "14ed86a2",
   "metadata": {},
   "source": [
    "### Average Population of Each Continent"
   ]
  },
  {
   "cell_type": "code",
   "execution_count": null,
   "id": "f63f98de",
   "metadata": {},
   "outputs": [],
   "source": [
    "select COUNTRY.CONTINENT, floor(avg(CITY.POPULATION))\n",
    "from CITY\n",
    "inner join COUNTRY\n",
    "on CITY.COUNTRYCODE = COUNTRY.CODE\n",
    "group by COUNTRY.CONTINENT;"
   ]
  },
  {
   "cell_type": "markdown",
   "id": "6b0d6c69",
   "metadata": {},
   "source": [
    "### The Report"
   ]
  },
  {
   "cell_type": "code",
   "execution_count": null,
   "id": "7d1c6239",
   "metadata": {},
   "outputs": [],
   "source": [
    "select if(GRADES.GRADE>=8, STUDENTS.NAME, NULL), GRADES.GRADE, STUDENTS.MARKS\n",
    "from STUDENTS, GRADES\n",
    "where STUDENTS.MARKS between GRADES.MIN_MARK and GRADES.MAX_MARK\n",
    "order by GRADES.GRADE desc, STUDENTS.NAME asc;"
   ]
  },
  {
   "cell_type": "markdown",
   "id": "758dcd6c",
   "metadata": {},
   "source": [
    "### Top Competitors"
   ]
  },
  {
   "cell_type": "code",
   "execution_count": null,
   "id": "a626cf4b",
   "metadata": {},
   "outputs": [],
   "source": [
    "select H.HACKER_ID, H.NAME\n",
    "from HACKERS H\n",
    "inner join SUBMISSIONS S\n",
    "on H.HACKER_ID = S.HACKER_ID\n",
    "inner join CHALLENGES C\n",
    "on S.CHALLENGE_ID = C.CHALLENGE_ID\n",
    "inner join DIFFICULTY D\n",
    "on C.DIFFICULTY_LEVEL = D.DIFFICULTY_LEVEL\n",
    "where S.SCORE = D.SCORE\n",
    "group by H.HACKER_ID, H.NAME\n",
    "having count(S.HACKER_ID) > 1\n",
    "order by count(S.HACKER_ID) desc, S.HACKER_ID asc;"
   ]
  },
  {
   "cell_type": "markdown",
   "id": "926354c9",
   "metadata": {},
   "source": [
    "### Ollivander's Inventory"
   ]
  },
  {
   "cell_type": "code",
   "execution_count": null,
   "id": "5ad66315",
   "metadata": {},
   "outputs": [],
   "source": [
    "select W.ID, WP.AGE, W.COINS_NEEDED, W.POWER\n",
    "from WANDS W\n",
    "join WANDS_PROPERTY WP\n",
    "on W.CODE = WP.CODE\n",
    "where WP.IS_EVIL = 0 and W.COINS_NEEDED = (select min(COINS_NEEDED) \n",
    "                                           from WANDS A\n",
    "                                           join WANDS_PROPERTY B\n",
    "                                           on A.CODE = B.CODE\n",
    "                                           where A.POWER = W.POWER and B.AGE = WP.AGE)\n",
    "order by W.POWER desc, WP.AGE desc;"
   ]
  },
  {
   "cell_type": "markdown",
   "id": "73bf2bee",
   "metadata": {},
   "source": [
    "### Challenges"
   ]
  },
  {
   "cell_type": "code",
   "execution_count": null,
   "id": "acb45ad3",
   "metadata": {},
   "outputs": [],
   "source": [
    "select H.HACKER_ID, H.NAME, count(C.CHALLENGE_ID) CC\n",
    "from HACKERS H\n",
    "join CHALLENGES C \n",
    "on C.HACKER_ID = H.HACKER_ID\n",
    "group by H.HACKER_ID, H.NAME\n",
    "having CC = \n",
    "    (select COUNT(C2.CHALLENGE_ID) CC2\n",
    "     from CHALLENGES C2\n",
    "     group by C2.HACKER_ID \n",
    "     order by CC2 desc limit 1)\n",
    "or CC in \n",
    "    (select distinct CC3\n",
    "     from (select H2.HACKER_ID, H2.NAME, count(CHALLENGE_ID) CC3\n",
    "           from HACKERS H2\n",
    "           join CHALLENGES C \n",
    "           on C.HACKER_ID = H2.HACKER_ID\n",
    "           group by H2.HACKER_ID, H2.NAME) CCOUNTS\n",
    "     group by CC3\n",
    "     having count(CC3) = 1)\n",
    "order by CC desc, H.HACKER_ID;"
   ]
  },
  {
   "cell_type": "markdown",
   "id": "77dc94ad",
   "metadata": {},
   "source": [
    "### Contest Leaderboard"
   ]
  },
  {
   "cell_type": "code",
   "execution_count": null,
   "id": "2dcb7c29",
   "metadata": {},
   "outputs": [],
   "source": [
    "select MAX_SCORE.HACKER_ID, \n",
    "       (select H.NAME \n",
    "        from HACKERS H\n",
    "        where H.HACKER_ID = MAX_SCORE.HACKER_ID) NAME, \n",
    "       sum(MAX_SCORE.SCORE) TOTAL_SCORE \n",
    "from (select HACKER_ID, max(SCORE) SCORE \n",
    "      from SUBMISSIONS S\n",
    "      group by 1, S.CHALLENGE_ID) MAX_SCORE \n",
    "group by 1\n",
    "having TOTAL_SCORE > 0\n",
    "order by TOTAL_SCORE DESC, HACKER_ID;"
   ]
  },
  {
   "cell_type": "markdown",
   "id": "dcfef8ec",
   "metadata": {},
   "source": [
    "### SQL Project Planning"
   ]
  },
  {
   "cell_type": "code",
   "execution_count": null,
   "id": "034e9daf",
   "metadata": {},
   "outputs": [],
   "source": [
    "select START_DATE, X \n",
    "from (select A.START_DATE, min(B.END_DATE) X\n",
    "      from (select START_DATE \n",
    "            from PROJECTS \n",
    "            where START_DATE not in (select END_DATE from PROJECTS)) A,\n",
    "           (select END_DATE\n",
    "            from PROJECTS\n",
    "            where END_DATE not in (select START_DATE from PROJECTS)) B\n",
    "      where START_DATE < END_DATE\n",
    "      group by A.START_DATE) P\n",
    "order by datediff(X, START_DATE), START_DATE;"
   ]
  },
  {
   "cell_type": "markdown",
   "id": "ea775860",
   "metadata": {},
   "source": [
    "### Placements"
   ]
  },
  {
   "cell_type": "code",
   "execution_count": null,
   "id": "d7407ee1",
   "metadata": {},
   "outputs": [],
   "source": [
    "select S.NAME\n",
    "from STUDENTS S\n",
    "join FRIENDS F\n",
    "on S.ID = F.ID\n",
    "join PACKAGES P1\n",
    "on S.ID = P1.ID\n",
    "join PACKAGES P2\n",
    "on F.FRIEND_ID = P2.ID\n",
    "where P2.SALARY > P1.SALARY\n",
    "order by P2.SALARY asc;"
   ]
  },
  {
   "cell_type": "markdown",
   "id": "2f5e31d8",
   "metadata": {},
   "source": [
    "### Symmetric Pairs"
   ]
  },
  {
   "cell_type": "code",
   "execution_count": null,
   "id": "31ef7a07",
   "metadata": {},
   "outputs": [],
   "source": [
    "select X, Y\n",
    "from FUNCTIONS F1\n",
    "where exists(select * \n",
    "             from FUNCTIONS F2 \n",
    "             where F2.Y = F1.X and F2.X = F1.Y and F2.X > F1.X) and (X != Y)\n",
    "union\n",
    "select X, Y \n",
    "from FUNCTIONS F1 \n",
    "where X = Y and ((select count(*) from FUNCTIONS where X = F1.X and Y = F1.X) > 1)\n",
    "order by X;"
   ]
  },
  {
   "cell_type": "markdown",
   "id": "cc7278a9",
   "metadata": {},
   "source": [
    "### Interviews"
   ]
  },
  {
   "cell_type": "code",
   "execution_count": null,
   "id": "f4a82ebf",
   "metadata": {},
   "outputs": [],
   "source": [
    "select CON.CONTEST_ID, CON.HACKER_ID, CON.NAME,\n",
    "       sum(TOTAL_SUBMISSIONS) TOTAL_SUBMISSIONS,\n",
    "       sum(TOTAL_ACCEPTED_SUBMISSIONS) TOTAL_ACCEPTED_SUBMISSIONS,\n",
    "       sum(TOTAL_VIEWS) TOTAL_VIEWS,\n",
    "       sum(TOTAL_UNIQUE_VIEWS) TOTAL_UNIQUE_VIEWS\n",
    "from CONTESTS CON\n",
    "left join COLLEGES COL\n",
    "    on CON.CONTEST_ID = COL.CONTEST_ID\n",
    "left join CHALLENGES CHA\n",
    "    on COL.COLLEGE_ID = CHA.COLLEGE_ID\n",
    "left join (select CHALLENGE_ID, \n",
    "                  sum(TOTAL_VIEWS) TOTAL_VIEWS,\n",
    "                  sum(TOTAL_UNIQUE_VIEWS) TOTAL_UNIQUE_VIEWS\n",
    "           from VIEW_STATS\n",
    "           group by CHALLENGE_ID) VST\n",
    "    on CHA.CHALLENGE_ID = VST.CHALLENGE_ID\n",
    "left join (select CHALLENGE_ID, \n",
    "                  SUM(TOTAL_SUBMISSIONS) TOTAL_SUBMISSIONS, \n",
    "                  SUM(TOTAL_ACCEPTED_SUBMISSIONS) TOTAL_ACCEPTED_SUBMISSIONS\n",
    "           from SUBMISSION_STATS\n",
    "           group by CHALLENGE_ID) SST\n",
    "    on CHA.CHALLENGE_ID = SST.CHALLENGE_ID\n",
    "group by CON.CONTEST_ID, CON.HACKER_ID, CON.NAME\n",
    "having (TOTAL_SUBMISSIONS + TOTAL_ACCEPTED_SUBMISSIONS + TOTAL_VIEWS + TOTAL_UNIQUE_VIEWS) > 0\n",
    "order by CON.CONTEST_ID;"
   ]
  },
  {
   "cell_type": "markdown",
   "id": "42f8b107",
   "metadata": {},
   "source": [
    "### 15 Days of Learning SQL"
   ]
  },
  {
   "cell_type": "code",
   "execution_count": null,
   "id": "19b2ac9b",
   "metadata": {},
   "outputs": [],
   "source": [
    "select SUBMISSION_DATE,\n",
    "       (select count(distinct HACKER_ID)\n",
    "        from SUBMISSIONS S2\n",
    "        where S2.SUBMISSION_DATE = S1.SUBMISSION_DATE and \n",
    "             (select count(distinct S3.SUBMISSION_DATE)\n",
    "              from SUBMISSIONS S3 \n",
    "              where S3.HACKER_ID = S2.HACKER_ID and S3.SUBMISSION_DATE < S1.SUBMISSION_DATE) =\n",
    "                    datediff(S1.SUBMISSION_DATE , '2016-03-01')),\n",
    "       (select HACKER_ID \n",
    "        from SUBMISSIONS S2 \n",
    "        where S2.SUBMISSION_DATE = S1.SUBMISSION_DATE \n",
    "        group by HACKER_ID \n",
    "        order by count(SUBMISSION_ID) desc, HACKER_ID LIMIT 1) as TMP,\n",
    "       (select NAME \n",
    "        from HACKERS \n",
    "        where HACKER_ID = TMP)\n",
    "from (select distinct SUBMISSION_DATE \n",
    "      from SUBMISSIONS) S1\n",
    "group by SUBMISSION_DATE;"
   ]
  },
  {
   "cell_type": "markdown",
   "id": "54d9a884",
   "metadata": {},
   "source": [
    "### Draw The Triangle 1"
   ]
  },
  {
   "cell_type": "code",
   "execution_count": null,
   "id": "60790b80",
   "metadata": {},
   "outputs": [],
   "source": [
    "set @NUMBER = 21;\n",
    "select repeat('* ', @NUMBER := @NUMBER - 1)\n",
    "from information_schema.tables limit 20;"
   ]
  },
  {
   "cell_type": "markdown",
   "id": "b904a2bd",
   "metadata": {},
   "source": [
    "### Draw The Triangle 2"
   ]
  },
  {
   "cell_type": "code",
   "execution_count": null,
   "id": "9e70c088",
   "metadata": {},
   "outputs": [],
   "source": [
    "set @NUMBER = 0;\n",
    "select repeat('* ', @NUMBER := @NUMBER + 1)\n",
    "from information_schema.tables limit 20;"
   ]
  },
  {
   "cell_type": "markdown",
   "id": "8f39065a",
   "metadata": {},
   "source": [
    "### Print Prime Numbers"
   ]
  },
  {
   "cell_type": "code",
   "execution_count": null,
   "id": "7c13df42",
   "metadata": {},
   "outputs": [],
   "source": [
    "select group_concat(NUMB separator '&')\n",
    "from (\n",
    "    select @num:=@num+1 NUMB\n",
    "    from information_schema.tables t1,\n",
    "         information_schema.tables t2,\n",
    "    (select @num:=1) tmp\n",
    "     ) tempNum\n",
    "where NUMB<=1000 and not exists(select * \n",
    "                                from (select @nu:=@nu+1 as NUMA \n",
    "                                      from information_schema.tables t1,\n",
    "                                           information_schema.tables t2,\n",
    "                                          (SELECT @nu:=1) tmp1\n",
    "                                      limit 1000) A\n",
    "                                where floor(NUMB/NUMA)=(NUMB/NUMA) and NUMA<NUMB and NUMA>1);"
   ]
  }
 ],
 "metadata": {
  "kernelspec": {
   "display_name": "Python 3 (ipykernel)",
   "language": "python",
   "name": "python3"
  },
  "language_info": {
   "codemirror_mode": {
    "name": "ipython",
    "version": 3
   },
   "file_extension": ".py",
   "mimetype": "text/x-python",
   "name": "python",
   "nbconvert_exporter": "python",
   "pygments_lexer": "ipython3",
   "version": "3.8.16"
  }
 },
 "nbformat": 4,
 "nbformat_minor": 5
}
