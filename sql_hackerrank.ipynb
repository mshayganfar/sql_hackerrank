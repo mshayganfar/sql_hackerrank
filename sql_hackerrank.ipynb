{
 "cells": [
  {
   "cell_type": "markdown",
   "id": "f8cd4764",
   "metadata": {},
   "source": [
    "### Revising the Select Query I"
   ]
  },
  {
   "cell_type": "code",
   "execution_count": null,
   "id": "322870ee",
   "metadata": {},
   "outputs": [],
   "source": [
    "select * from CITY where POPULATION>100000 and COUNTRYCODE='USA';"
   ]
  },
  {
   "cell_type": "markdown",
   "id": "f546579c",
   "metadata": {},
   "source": [
    "### Revising the Select Query II"
   ]
  },
  {
   "cell_type": "code",
   "execution_count": null,
   "id": "f2e24f25",
   "metadata": {},
   "outputs": [],
   "source": [
    "select NAME from CITY where POPULATION>120000 and COUNTRYCODE='USA';"
   ]
  },
  {
   "cell_type": "markdown",
   "id": "4fb38c51",
   "metadata": {},
   "source": [
    "### Select All"
   ]
  },
  {
   "cell_type": "code",
   "execution_count": null,
   "id": "9a08911d",
   "metadata": {},
   "outputs": [],
   "source": [
    "select * from CITY;"
   ]
  },
  {
   "cell_type": "markdown",
   "id": "32baadb0",
   "metadata": {},
   "source": [
    "### Select By ID"
   ]
  },
  {
   "cell_type": "code",
   "execution_count": null,
   "id": "cd48f11f",
   "metadata": {},
   "outputs": [],
   "source": [
    "select * from CITY where ID=1661;"
   ]
  },
  {
   "cell_type": "markdown",
   "id": "90792476",
   "metadata": {},
   "source": [
    "### Japanese Cities' Attributes"
   ]
  },
  {
   "cell_type": "code",
   "execution_count": null,
   "id": "fa77676e",
   "metadata": {},
   "outputs": [],
   "source": [
    "select * from CITY where COUNTRYCODE='JPN';"
   ]
  },
  {
   "cell_type": "markdown",
   "id": "a5a6e5e9",
   "metadata": {},
   "source": [
    "### Japanese Cities' Names"
   ]
  },
  {
   "cell_type": "code",
   "execution_count": null,
   "id": "ea2a06d4",
   "metadata": {},
   "outputs": [],
   "source": [
    "select NAME from CITY where COUNTRYCODE='JPN';"
   ]
  },
  {
   "cell_type": "markdown",
   "id": "a3172456",
   "metadata": {},
   "source": [
    "### Weather Observation Station 1"
   ]
  },
  {
   "cell_type": "code",
   "execution_count": null,
   "id": "9ad6676e",
   "metadata": {},
   "outputs": [],
   "source": [
    "select CITY, STATE from STATION;"
   ]
  },
  {
   "cell_type": "markdown",
   "id": "da25b0d5",
   "metadata": {},
   "source": [
    "### Weather Observation Station 3"
   ]
  },
  {
   "cell_type": "code",
   "execution_count": null,
   "id": "f4ef4954",
   "metadata": {},
   "outputs": [],
   "source": [
    "select distinct CITY from STATION where mod(ID, 2) = 0; # mod in DB2"
   ]
  },
  {
   "cell_type": "markdown",
   "id": "ab33ce3f",
   "metadata": {},
   "source": [
    "### Weather Observation Station 4"
   ]
  },
  {
   "cell_type": "code",
   "execution_count": null,
   "id": "1286c739",
   "metadata": {},
   "outputs": [],
   "source": [
    "select count(CITY)-count(distinct CITY) from STATION;"
   ]
  },
  {
   "cell_type": "markdown",
   "id": "25ac044d",
   "metadata": {},
   "source": [
    "### Weather Observation Station 5"
   ]
  },
  {
   "cell_type": "code",
   "execution_count": null,
   "id": "67bd4d3b",
   "metadata": {},
   "outputs": [],
   "source": [
    "select CITY, length(CITY) from STATION order by length(CITY) asc, CITY limit 1;\n",
    "select CITY, length(CITY) from STATION order by length(CITY) desc, CITY limit 1; "
   ]
  },
  {
   "cell_type": "markdown",
   "id": "5ac71a5c",
   "metadata": {},
   "source": [
    "### Weather Observation Station 6"
   ]
  },
  {
   "cell_type": "code",
   "execution_count": null,
   "id": "f383ef87",
   "metadata": {},
   "outputs": [],
   "source": [
    "select distinct CITY from STATION where lower(left(CITY, 1)) in ('a', 'e', 'i', 'o', 'u');"
   ]
  },
  {
   "cell_type": "markdown",
   "id": "a23df855",
   "metadata": {},
   "source": [
    "### Weather Observation Station 7"
   ]
  },
  {
   "cell_type": "code",
   "execution_count": null,
   "id": "761da300",
   "metadata": {},
   "outputs": [],
   "source": [
    "select distinct CITY from STATION where lower(right(CITY, 1)) in ('a', 'e', 'i', 'o', 'u');"
   ]
  },
  {
   "cell_type": "markdown",
   "id": "88ebdc2d",
   "metadata": {},
   "source": [
    "### Weather Observation Station 8"
   ]
  },
  {
   "cell_type": "code",
   "execution_count": null,
   "id": "d4cd59b6",
   "metadata": {},
   "outputs": [],
   "source": [
    "select distinct CITY from STATION where lower(left(CITY, 1)) in ('a', 'e', 'i', 'o', 'u') and lower(right(CITY, 1)) in ('a', 'e', 'i', 'o', 'u');"
   ]
  },
  {
   "cell_type": "markdown",
   "id": "b715edb5",
   "metadata": {},
   "source": [
    "### Weather Observation Station 9"
   ]
  },
  {
   "cell_type": "code",
   "execution_count": null,
   "id": "545059c8",
   "metadata": {},
   "outputs": [],
   "source": [
    "select distinct CITY from STATION where lower(left(CITY, 1)) not in ('a', 'e', 'i', 'o', 'u');"
   ]
  },
  {
   "cell_type": "markdown",
   "id": "a65977b6",
   "metadata": {},
   "source": [
    "### Weather Observation Station 10"
   ]
  },
  {
   "cell_type": "code",
   "execution_count": null,
   "id": "97573a96",
   "metadata": {},
   "outputs": [],
   "source": [
    "select distinct CITY from STATION where lower(right(CITY, 1)) not in ('a', 'e', 'i', 'o', 'u');"
   ]
  },
  {
   "cell_type": "markdown",
   "id": "36ed9646",
   "metadata": {},
   "source": [
    "### Weather Observation Station 11"
   ]
  },
  {
   "cell_type": "code",
   "execution_count": null,
   "id": "5dfaf7c3",
   "metadata": {},
   "outputs": [],
   "source": [
    "select distinct CITY from STATION where lower(left(CITY, 1)) not in ('a', 'e', 'i', 'o', 'u') or lower(right(CITY, 1)) not in ('a', 'e', 'i', 'o', 'u');"
   ]
  },
  {
   "cell_type": "markdown",
   "id": "6a8457e1",
   "metadata": {},
   "source": [
    "### Weather Observation Station 12"
   ]
  },
  {
   "cell_type": "code",
   "execution_count": null,
   "id": "ae24f827",
   "metadata": {},
   "outputs": [],
   "source": [
    "select distinct CITY from STATION where lower(left(CITY, 1)) not in ('a', 'e', 'i', 'o', 'u') and lower(right(CITY, 1)) not in ('a', 'e', 'i', 'o', 'u');"
   ]
  },
  {
   "cell_type": "markdown",
   "id": "c42c9e18",
   "metadata": {},
   "source": [
    "### Higher Than 75 Marks"
   ]
  },
  {
   "cell_type": "code",
   "execution_count": null,
   "id": "bef936bb",
   "metadata": {},
   "outputs": [],
   "source": [
    "select NAME from STUDENTS where marks > 75 order by right(NAME, 3) asc, ID asc;"
   ]
  },
  {
   "cell_type": "markdown",
   "id": "c274e176",
   "metadata": {},
   "source": [
    "### Employee Names"
   ]
  },
  {
   "cell_type": "code",
   "execution_count": null,
   "id": "13f512f1",
   "metadata": {},
   "outputs": [],
   "source": [
    "select NAME from EMPLOYEE order by NAME asc;"
   ]
  },
  {
   "cell_type": "markdown",
   "id": "23ac8782",
   "metadata": {},
   "source": [
    "### Employee Salaries"
   ]
  },
  {
   "cell_type": "code",
   "execution_count": null,
   "id": "2a6171a5",
   "metadata": {},
   "outputs": [],
   "source": [
    "select NAME from EMPLOYEE where SALARY > 2000 and MONTHS < 10 order by EMPLOYEE_ID asc;"
   ]
  },
  {
   "cell_type": "code",
   "execution_count": null,
   "id": "86086a2e",
   "metadata": {},
   "outputs": [],
   "source": []
  }
 ],
 "metadata": {
  "kernelspec": {
   "display_name": "Python 3 (ipykernel)",
   "language": "python",
   "name": "python3"
  },
  "language_info": {
   "codemirror_mode": {
    "name": "ipython",
    "version": 3
   },
   "file_extension": ".py",
   "mimetype": "text/x-python",
   "name": "python",
   "nbconvert_exporter": "python",
   "pygments_lexer": "ipython3",
   "version": "3.8.16"
  }
 },
 "nbformat": 4,
 "nbformat_minor": 5
}
