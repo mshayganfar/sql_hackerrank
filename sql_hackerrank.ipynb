{
 "cells": [
  {
   "cell_type": "markdown",
   "id": "bc43ef28",
   "metadata": {},
   "source": [
    "### Revising the Select Query I"
   ]
  },
  {
   "cell_type": "code",
   "execution_count": null,
   "id": "744fe15c",
   "metadata": {},
   "outputs": [],
   "source": [
    "select * from CITY where POPULATION>100000 and COUNTRYCODE='USA';"
   ]
  },
  {
   "cell_type": "markdown",
   "id": "c0bfa1df",
   "metadata": {},
   "source": [
    "### Revising the Select Query II"
   ]
  },
  {
   "cell_type": "code",
   "execution_count": null,
   "id": "a7b69fc6",
   "metadata": {},
   "outputs": [],
   "source": [
    "select NAME from CITY where POPULATION>120000 and COUNTRYCODE='USA';"
   ]
  },
  {
   "cell_type": "markdown",
   "id": "a393f0f7",
   "metadata": {},
   "source": [
    "### Select All"
   ]
  },
  {
   "cell_type": "code",
   "execution_count": null,
   "id": "c36e7640",
   "metadata": {},
   "outputs": [],
   "source": [
    "select * from CITY;"
   ]
  },
  {
   "cell_type": "markdown",
   "id": "72d1289f",
   "metadata": {},
   "source": [
    "### Select By ID"
   ]
  },
  {
   "cell_type": "code",
   "execution_count": null,
   "id": "7dee8a26",
   "metadata": {},
   "outputs": [],
   "source": [
    "select * from CITY where ID=1661;"
   ]
  },
  {
   "cell_type": "markdown",
   "id": "a8b8a52a",
   "metadata": {},
   "source": [
    "### Japanese Cities' Attributes"
   ]
  },
  {
   "cell_type": "code",
   "execution_count": null,
   "id": "dad35945",
   "metadata": {},
   "outputs": [],
   "source": [
    "select * from CITY where COUNTRYCODE='JPN';"
   ]
  },
  {
   "cell_type": "markdown",
   "id": "237246e7",
   "metadata": {},
   "source": [
    "### Japanese Cities' Names"
   ]
  },
  {
   "cell_type": "code",
   "execution_count": null,
   "id": "b813a482",
   "metadata": {},
   "outputs": [],
   "source": [
    "select NAME from CITY where COUNTRYCODE='JPN';"
   ]
  },
  {
   "cell_type": "markdown",
   "id": "eec4c5f7",
   "metadata": {},
   "source": [
    "### Weather Observation Station 1"
   ]
  },
  {
   "cell_type": "code",
   "execution_count": null,
   "id": "05e93150",
   "metadata": {},
   "outputs": [],
   "source": [
    "select CITY, STATE from STATION;"
   ]
  },
  {
   "cell_type": "markdown",
   "id": "1f6c5520",
   "metadata": {},
   "source": [
    "### Weather Observation Station 3"
   ]
  },
  {
   "cell_type": "code",
   "execution_count": null,
   "id": "d68cc483",
   "metadata": {},
   "outputs": [],
   "source": [
    "select distinct CITY from STATION where mod(ID, 2) = 0; # mod in DB2"
   ]
  },
  {
   "cell_type": "markdown",
   "id": "27bb708d",
   "metadata": {},
   "source": [
    "### Weather Observation Station 4"
   ]
  },
  {
   "cell_type": "code",
   "execution_count": null,
   "id": "875b582d",
   "metadata": {},
   "outputs": [],
   "source": [
    "select count(CITY)-count(distinct CITY) from STATION;"
   ]
  },
  {
   "cell_type": "markdown",
   "id": "ec9c9b72",
   "metadata": {},
   "source": [
    "### Weather Observation Station 5"
   ]
  },
  {
   "cell_type": "code",
   "execution_count": null,
   "id": "ff8edacb",
   "metadata": {},
   "outputs": [],
   "source": [
    "select CITY, length(CITY) from STATION order by length(CITY) asc, CITY limit 1;\n",
    "select CITY, length(CITY) from STATION order by length(CITY) desc, CITY limit 1; "
   ]
  },
  {
   "cell_type": "markdown",
   "id": "931a2e7f",
   "metadata": {},
   "source": [
    "### Weather Observation Station 6"
   ]
  },
  {
   "cell_type": "code",
   "execution_count": null,
   "id": "c91eedf4",
   "metadata": {},
   "outputs": [],
   "source": [
    "select distinct CITY from STATION where lower(left(CITY, 1)) in ('a', 'e', 'i', 'o', 'u');"
   ]
  },
  {
   "cell_type": "markdown",
   "id": "16de659b",
   "metadata": {},
   "source": [
    "### Weather Observation Station 7"
   ]
  },
  {
   "cell_type": "code",
   "execution_count": null,
   "id": "9ac64425",
   "metadata": {},
   "outputs": [],
   "source": [
    "select distinct CITY from STATION where lower(right(CITY, 1)) in ('a', 'e', 'i', 'o', 'u');"
   ]
  },
  {
   "cell_type": "markdown",
   "id": "d592f050",
   "metadata": {},
   "source": [
    "### Weather Observation Station 8"
   ]
  },
  {
   "cell_type": "code",
   "execution_count": null,
   "id": "37ddd9fd",
   "metadata": {},
   "outputs": [],
   "source": [
    "select distinct CITY from STATION where lower(left(CITY, 1)) in ('a', 'e', 'i', 'o', 'u') and lower(right(CITY, 1)) in ('a', 'e', 'i', 'o', 'u');"
   ]
  },
  {
   "cell_type": "markdown",
   "id": "e22af106",
   "metadata": {},
   "source": [
    "### Weather Observation Station 9"
   ]
  },
  {
   "cell_type": "code",
   "execution_count": null,
   "id": "ec4e8d36",
   "metadata": {},
   "outputs": [],
   "source": [
    "select distinct CITY from STATION where lower(left(CITY, 1)) not in ('a', 'e', 'i', 'o', 'u');"
   ]
  },
  {
   "cell_type": "markdown",
   "id": "bf88f8b8",
   "metadata": {},
   "source": [
    "### Weather Observation Station 10"
   ]
  },
  {
   "cell_type": "code",
   "execution_count": null,
   "id": "063081fc",
   "metadata": {},
   "outputs": [],
   "source": [
    "select distinct CITY from STATION where lower(right(CITY, 1)) not in ('a', 'e', 'i', 'o', 'u');"
   ]
  },
  {
   "cell_type": "markdown",
   "id": "ce9ff1d5",
   "metadata": {},
   "source": [
    "### Weather Observation Station 11"
   ]
  },
  {
   "cell_type": "code",
   "execution_count": null,
   "id": "409cfb5e",
   "metadata": {},
   "outputs": [],
   "source": [
    "select distinct CITY from STATION where lower(left(CITY, 1)) not in ('a', 'e', 'i', 'o', 'u') or lower(right(CITY, 1)) not in ('a', 'e', 'i', 'o', 'u');"
   ]
  },
  {
   "cell_type": "markdown",
   "id": "66e45421",
   "metadata": {},
   "source": [
    "### Weather Observation Station 12"
   ]
  },
  {
   "cell_type": "code",
   "execution_count": null,
   "id": "5f6c0015",
   "metadata": {},
   "outputs": [],
   "source": [
    "select distinct CITY from STATION where lower(left(CITY, 1)) not in ('a', 'e', 'i', 'o', 'u') and lower(right(CITY, 1)) not in ('a', 'e', 'i', 'o', 'u');"
   ]
  },
  {
   "cell_type": "markdown",
   "id": "35a2a67a",
   "metadata": {},
   "source": [
    "### Higher Than 75 Marks"
   ]
  },
  {
   "cell_type": "code",
   "execution_count": null,
   "id": "2ccee369",
   "metadata": {},
   "outputs": [],
   "source": [
    "select NAME from STUDENTS where marks > 75 order by right(NAME, 3) asc, ID asc;"
   ]
  },
  {
   "cell_type": "markdown",
   "id": "f079c00c",
   "metadata": {},
   "source": [
    "### Employee Names"
   ]
  },
  {
   "cell_type": "code",
   "execution_count": null,
   "id": "c2f81cef",
   "metadata": {},
   "outputs": [],
   "source": [
    "select NAME from EMPLOYEE order by NAME asc;"
   ]
  },
  {
   "cell_type": "markdown",
   "id": "f5838cc2",
   "metadata": {},
   "source": [
    "### Employee Salaries"
   ]
  },
  {
   "cell_type": "code",
   "execution_count": null,
   "id": "ef08ec37",
   "metadata": {},
   "outputs": [],
   "source": [
    "select NAME from EMPLOYEE where SALARY > 2000 and MONTHS < 10 order by EMPLOYEE_ID asc;"
   ]
  },
  {
   "cell_type": "markdown",
   "id": "c851d255",
   "metadata": {},
   "source": [
    "### Type of Triangle"
   ]
  },
  {
   "cell_type": "code",
   "execution_count": null,
   "id": "b548feed",
   "metadata": {},
   "outputs": [],
   "source": [
    "select case \n",
    "when A+B<=C or A+C<=B or B+C<=A then 'Not A Triangle'\n",
    "when A=B and B=C and A=C then 'Equilateral'\n",
    "when A=B or B=C or A=C then 'Isosceles'\n",
    "else 'Scalene'\n",
    "end\n",
    "from TRIANGLES;"
   ]
  },
  {
   "cell_type": "markdown",
   "id": "9782ea6d",
   "metadata": {},
   "source": [
    "### The PADS"
   ]
  },
  {
   "cell_type": "code",
   "execution_count": null,
   "id": "c1cbaa9b",
   "metadata": {},
   "outputs": [],
   "source": [
    "select concat(concat(concat(NAME, '('), left(OCCUPATION, 1)), ')') from OCCUPATIONS order by NAME asc;"
   ]
  },
  {
   "cell_type": "code",
   "execution_count": null,
   "id": "53eba6a8",
   "metadata": {},
   "outputs": [],
   "source": [
    "select concat(concat(concat(concat('There are a total of ', count(OCCUPATION)), ' '), lower(OCCUPATION)),'s.') as N \n",
    "from OCCUPATIONS \n",
    "group by OCCUPATION \n",
    "order by N asc, OCCUPATION asc;"
   ]
  },
  {
   "cell_type": "markdown",
   "id": "9176ec8e",
   "metadata": {},
   "source": [
    "### Occupations"
   ]
  },
  {
   "cell_type": "code",
   "execution_count": null,
   "id": "892219be",
   "metadata": {},
   "outputs": [],
   "source": [
    "# MySQL\n",
    "\n",
    "WITH temp AS (\n",
    "    SELECT *, ROW_NUMBER() OVER (PARTITION BY occupation ORDER BY name) AS row_num\n",
    "    FROM Occupations\n",
    ")\n",
    "\n",
    "SELECT\n",
    "    MAX(CASE WHEN occupation = 'Doctor' THEN name END) AS doctor,\n",
    "    MAX(CASE WHEN occupation = 'Professor' THEN name END) AS professor,\n",
    "    MAX(CASE WHEN occupation = 'Singer' THEN name END) As singer,\n",
    "    MAX(CASE WHEN occupation = 'Actor' THEN name END) AS actor\n",
    "FROM temp\n",
    "GROUP BY row_num"
   ]
  },
  {
   "cell_type": "code",
   "execution_count": null,
   "id": "dd694728",
   "metadata": {},
   "outputs": [],
   "source": [
    "# MS SQL Server\n",
    "\n",
    "WITH temp AS (\n",
    "    SELECT ROW_NUMBER() OVER (PARTITION BY occupation ORDER BY name) AS row_num, *\n",
    "    FROM Occupations\n",
    ")\n",
    "\n",
    "SELECT doctor, professor, singer, actor\n",
    "FROM temp PIVOT (MAX(name) FOR occupation IN (Doctor, Professor, Singer, Actor)) AS pvt;"
   ]
  },
  {
   "cell_type": "markdown",
   "id": "60326641",
   "metadata": {},
   "source": [
    "### Binary Tree Nodes"
   ]
  },
  {
   "cell_type": "code",
   "execution_count": null,
   "id": "b6ada1d1",
   "metadata": {},
   "outputs": [],
   "source": [
    "select N, case \n",
    "when P is null then 'Root'\n",
    "when (select count(*) from BST where P = t.N) > 0 then 'Inner'\n",
    "else 'Leaf'\n",
    "end\n",
    "from BST t\n",
    "order by N;"
   ]
  },
  {
   "cell_type": "markdown",
   "id": "b3dc82a9",
   "metadata": {},
   "source": [
    "### New Companies"
   ]
  },
  {
   "cell_type": "code",
   "execution_count": null,
   "id": "c162ed63",
   "metadata": {},
   "outputs": [],
   "source": [
    "select COMPANY_CODE, FOUNDER,\n",
    "(select count(distinct LEAD_MANAGER_CODE) from LEAD_MANAGER where COMPANY_CODE = C.COMPANY_CODE),\n",
    "(select count(distinct SENIOR_MANAGER_CODE) from SENIOR_MANAGER where COMPANY_CODE = C.COMPANY_CODE),\n",
    "(select count(distinct MANAGER_CODE) from MANAGER where COMPANY_CODE = C.COMPANY_CODE),\n",
    "(select count(distinct EMPLOYEE_CODE) from EMPLOYEE where COMPANY_CODE = C.COMPANY_CODE)\n",
    "from COMPANY C\n",
    "order by COMPANY_CODE;"
   ]
  },
  {
   "cell_type": "code",
   "execution_count": null,
   "id": "c81a6a75",
   "metadata": {},
   "outputs": [],
   "source": []
  }
 ],
 "metadata": {
  "kernelspec": {
   "display_name": "Python 3 (ipykernel)",
   "language": "python",
   "name": "python3"
  },
  "language_info": {
   "codemirror_mode": {
    "name": "ipython",
    "version": 3
   },
   "file_extension": ".py",
   "mimetype": "text/x-python",
   "name": "python",
   "nbconvert_exporter": "python",
   "pygments_lexer": "ipython3",
   "version": "3.8.16"
  }
 },
 "nbformat": 4,
 "nbformat_minor": 5
}
