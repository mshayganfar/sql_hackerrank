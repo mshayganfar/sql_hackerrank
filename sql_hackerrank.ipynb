{
 "cells": [
  {
   "cell_type": "markdown",
   "id": "e8290799",
   "metadata": {},
   "source": [
    "### Revising the Select Query I"
   ]
  },
  {
   "cell_type": "code",
   "execution_count": null,
   "id": "6b5eee98",
   "metadata": {},
   "outputs": [],
   "source": [
    "select * from CITY where POPULATION>100000 and COUNTRYCODE='USA';"
   ]
  },
  {
   "cell_type": "markdown",
   "id": "43107646",
   "metadata": {},
   "source": [
    "### Revising the Select Query II"
   ]
  },
  {
   "cell_type": "code",
   "execution_count": null,
   "id": "0619ed80",
   "metadata": {},
   "outputs": [],
   "source": [
    "select NAME from CITY where POPULATION>120000 and COUNTRYCODE='USA';"
   ]
  },
  {
   "cell_type": "markdown",
   "id": "d6b7504f",
   "metadata": {},
   "source": [
    "### Select All"
   ]
  },
  {
   "cell_type": "code",
   "execution_count": null,
   "id": "90a21a00",
   "metadata": {},
   "outputs": [],
   "source": [
    "select * from CITY;"
   ]
  },
  {
   "cell_type": "markdown",
   "id": "1cce6c2e",
   "metadata": {},
   "source": [
    "### Select By ID"
   ]
  },
  {
   "cell_type": "code",
   "execution_count": null,
   "id": "683a3617",
   "metadata": {},
   "outputs": [],
   "source": [
    "select * from CITY where ID=1661;"
   ]
  },
  {
   "cell_type": "markdown",
   "id": "d4ce6a9f",
   "metadata": {},
   "source": [
    "### Japanese Cities' Attributes"
   ]
  },
  {
   "cell_type": "code",
   "execution_count": null,
   "id": "3907a5f3",
   "metadata": {},
   "outputs": [],
   "source": [
    "select * from CITY where COUNTRYCODE='JPN';"
   ]
  },
  {
   "cell_type": "markdown",
   "id": "61f9cb3a",
   "metadata": {},
   "source": [
    "### Japanese Cities' Names"
   ]
  },
  {
   "cell_type": "code",
   "execution_count": null,
   "id": "d71d6097",
   "metadata": {},
   "outputs": [],
   "source": [
    "select NAME from CITY where COUNTRYCODE='JPN';"
   ]
  },
  {
   "cell_type": "markdown",
   "id": "ccfa915f",
   "metadata": {},
   "source": [
    "### Weather Observation Station 1"
   ]
  },
  {
   "cell_type": "code",
   "execution_count": null,
   "id": "f46a9e26",
   "metadata": {},
   "outputs": [],
   "source": [
    "select CITY, STATE from STATION;"
   ]
  },
  {
   "cell_type": "markdown",
   "id": "bbb70be2",
   "metadata": {},
   "source": [
    "### Weather Observation Station 3"
   ]
  },
  {
   "cell_type": "code",
   "execution_count": null,
   "id": "2f318b74",
   "metadata": {},
   "outputs": [],
   "source": [
    "select distinct CITY from STATION where mod(ID, 2) = 0; # mod in DB2"
   ]
  },
  {
   "cell_type": "markdown",
   "id": "2507e30f",
   "metadata": {},
   "source": [
    "### Weather Observation Station 4"
   ]
  },
  {
   "cell_type": "code",
   "execution_count": null,
   "id": "662376b2",
   "metadata": {},
   "outputs": [],
   "source": [
    "select count(CITY)-count(distinct CITY) from STATION;"
   ]
  },
  {
   "cell_type": "markdown",
   "id": "16418839",
   "metadata": {},
   "source": [
    "### Weather Observation Station 5"
   ]
  },
  {
   "cell_type": "code",
   "execution_count": null,
   "id": "076ef1dd",
   "metadata": {},
   "outputs": [],
   "source": [
    "select CITY, length(CITY) from STATION order by length(CITY) asc, CITY limit 1;\n",
    "select CITY, length(CITY) from STATION order by length(CITY) desc, CITY limit 1; "
   ]
  },
  {
   "cell_type": "markdown",
   "id": "e0f6b5dc",
   "metadata": {},
   "source": [
    "### Weather Observation Station 6"
   ]
  },
  {
   "cell_type": "code",
   "execution_count": null,
   "id": "6f9e39f0",
   "metadata": {},
   "outputs": [],
   "source": [
    "select distinct CITY from STATION where lower(left(CITY, 1)) in ('a', 'e', 'i', 'o', 'u');"
   ]
  },
  {
   "cell_type": "markdown",
   "id": "06ae4b96",
   "metadata": {},
   "source": [
    "### Weather Observation Station 7"
   ]
  },
  {
   "cell_type": "code",
   "execution_count": null,
   "id": "ffda04b4",
   "metadata": {},
   "outputs": [],
   "source": [
    "select distinct CITY from STATION where lower(right(CITY, 1)) in ('a', 'e', 'i', 'o', 'u');"
   ]
  },
  {
   "cell_type": "markdown",
   "id": "07a67d98",
   "metadata": {},
   "source": [
    "### Weather Observation Station 8"
   ]
  },
  {
   "cell_type": "code",
   "execution_count": null,
   "id": "9fecee66",
   "metadata": {},
   "outputs": [],
   "source": [
    "select distinct CITY from STATION where lower(left(CITY, 1)) in ('a', 'e', 'i', 'o', 'u') and lower(right(CITY, 1)) in ('a', 'e', 'i', 'o', 'u');"
   ]
  },
  {
   "cell_type": "markdown",
   "id": "a35a11c2",
   "metadata": {},
   "source": [
    "### Weather Observation Station 9"
   ]
  },
  {
   "cell_type": "code",
   "execution_count": null,
   "id": "a485dc73",
   "metadata": {},
   "outputs": [],
   "source": [
    "select distinct CITY from STATION where lower(left(CITY, 1)) not in ('a', 'e', 'i', 'o', 'u');"
   ]
  },
  {
   "cell_type": "markdown",
   "id": "e96ae938",
   "metadata": {},
   "source": [
    "### Weather Observation Station 10"
   ]
  },
  {
   "cell_type": "code",
   "execution_count": null,
   "id": "4bf9b428",
   "metadata": {},
   "outputs": [],
   "source": [
    "select distinct CITY from STATION where lower(right(CITY, 1)) not in ('a', 'e', 'i', 'o', 'u');"
   ]
  },
  {
   "cell_type": "markdown",
   "id": "837db866",
   "metadata": {},
   "source": [
    "### Weather Observation Station 11"
   ]
  },
  {
   "cell_type": "code",
   "execution_count": null,
   "id": "b9cf8d04",
   "metadata": {},
   "outputs": [],
   "source": [
    "select distinct CITY from STATION where lower(left(CITY, 1)) not in ('a', 'e', 'i', 'o', 'u') or lower(right(CITY, 1)) not in ('a', 'e', 'i', 'o', 'u');"
   ]
  },
  {
   "cell_type": "markdown",
   "id": "4ce9fafd",
   "metadata": {},
   "source": [
    "### Weather Observation Station 12"
   ]
  },
  {
   "cell_type": "code",
   "execution_count": null,
   "id": "11b6fe87",
   "metadata": {},
   "outputs": [],
   "source": [
    "select distinct CITY from STATION where lower(left(CITY, 1)) not in ('a', 'e', 'i', 'o', 'u') and lower(right(CITY, 1)) not in ('a', 'e', 'i', 'o', 'u');"
   ]
  },
  {
   "cell_type": "markdown",
   "id": "2ea558c4",
   "metadata": {},
   "source": [
    "### Higher Than 75 Marks"
   ]
  },
  {
   "cell_type": "code",
   "execution_count": null,
   "id": "2b2e6406",
   "metadata": {},
   "outputs": [],
   "source": [
    "select NAME from STUDENTS where marks > 75 order by right(NAME, 3) asc, ID asc;"
   ]
  },
  {
   "cell_type": "markdown",
   "id": "cef91041",
   "metadata": {},
   "source": [
    "### Employee Names"
   ]
  },
  {
   "cell_type": "code",
   "execution_count": null,
   "id": "ee5bb02e",
   "metadata": {},
   "outputs": [],
   "source": [
    "select NAME from EMPLOYEE order by NAME asc;"
   ]
  },
  {
   "cell_type": "markdown",
   "id": "adba5aa3",
   "metadata": {},
   "source": [
    "### Employee Salaries"
   ]
  },
  {
   "cell_type": "code",
   "execution_count": null,
   "id": "eb4404f6",
   "metadata": {},
   "outputs": [],
   "source": [
    "select NAME from EMPLOYEE where SALARY > 2000 and MONTHS < 10 order by EMPLOYEE_ID asc;"
   ]
  },
  {
   "cell_type": "markdown",
   "id": "17e67fe7",
   "metadata": {},
   "source": [
    "### Type of Triangle"
   ]
  },
  {
   "cell_type": "code",
   "execution_count": null,
   "id": "200ea126",
   "metadata": {},
   "outputs": [],
   "source": [
    "select case \n",
    "when A+B<=C or A+C<=B or B+C<=A then 'Not A Triangle'\n",
    "when A=B and B=C and A=C then 'Equilateral'\n",
    "when A=B or B=C or A=C then 'Isosceles'\n",
    "else 'Scalene'\n",
    "end\n",
    "from TRIANGLES;"
   ]
  },
  {
   "cell_type": "markdown",
   "id": "7d32719a",
   "metadata": {},
   "source": [
    "### The PADS"
   ]
  },
  {
   "cell_type": "code",
   "execution_count": null,
   "id": "6c9a267c",
   "metadata": {},
   "outputs": [],
   "source": [
    "select concat(concat(concat(NAME, '('), left(OCCUPATION, 1)), ')') from OCCUPATIONS order by NAME asc;"
   ]
  },
  {
   "cell_type": "code",
   "execution_count": null,
   "id": "394f2ff1",
   "metadata": {},
   "outputs": [],
   "source": [
    "select concat(concat(concat(concat('There are a total of ', count(OCCUPATION)), ' '), lower(OCCUPATION)),'s.') as N \n",
    "from OCCUPATIONS \n",
    "group by OCCUPATION \n",
    "order by N asc, OCCUPATION asc;"
   ]
  },
  {
   "cell_type": "markdown",
   "id": "08f01104",
   "metadata": {},
   "source": [
    "### Occupations"
   ]
  },
  {
   "cell_type": "code",
   "execution_count": null,
   "id": "5e0d9d5e",
   "metadata": {},
   "outputs": [],
   "source": [
    "# MySQL\n",
    "\n",
    "WITH temp AS (\n",
    "    SELECT *, ROW_NUMBER() OVER (PARTITION BY occupation ORDER BY name) AS row_num\n",
    "    FROM Occupations\n",
    ")\n",
    "\n",
    "SELECT\n",
    "    MAX(CASE WHEN occupation = 'Doctor' THEN name END) AS doctor,\n",
    "    MAX(CASE WHEN occupation = 'Professor' THEN name END) AS professor,\n",
    "    MAX(CASE WHEN occupation = 'Singer' THEN name END) As singer,\n",
    "    MAX(CASE WHEN occupation = 'Actor' THEN name END) AS actor\n",
    "FROM temp\n",
    "GROUP BY row_num"
   ]
  },
  {
   "cell_type": "code",
   "execution_count": null,
   "id": "f111f00b",
   "metadata": {},
   "outputs": [],
   "source": [
    "# MS SQL Server\n",
    "\n",
    "WITH temp AS (\n",
    "    SELECT ROW_NUMBER() OVER (PARTITION BY occupation ORDER BY name) AS row_num, *\n",
    "    FROM Occupations\n",
    ")\n",
    "\n",
    "SELECT doctor, professor, singer, actor\n",
    "FROM temp PIVOT (MAX(name) FOR occupation IN (Doctor, Professor, Singer, Actor)) AS pvt;"
   ]
  },
  {
   "cell_type": "markdown",
   "id": "ba9150a3",
   "metadata": {},
   "source": [
    "### Binary Tree Nodes"
   ]
  },
  {
   "cell_type": "code",
   "execution_count": null,
   "id": "e7d0ac45",
   "metadata": {},
   "outputs": [],
   "source": [
    "select N, case \n",
    "when P is null then 'Root'\n",
    "when (select count(*) from BST where P = t.N) > 0 then 'Inner'\n",
    "else 'Leaf'\n",
    "end\n",
    "from BST t\n",
    "order by N;"
   ]
  },
  {
   "cell_type": "markdown",
   "id": "43c723d0",
   "metadata": {},
   "source": [
    "### New Companies"
   ]
  },
  {
   "cell_type": "code",
   "execution_count": null,
   "id": "926ae342",
   "metadata": {},
   "outputs": [],
   "source": [
    "select COMPANY_CODE, FOUNDER,\n",
    "(select count(distinct LEAD_MANAGER_CODE) from LEAD_MANAGER where COMPANY_CODE = C.COMPANY_CODE),\n",
    "(select count(distinct SENIOR_MANAGER_CODE) from SENIOR_MANAGER where COMPANY_CODE = C.COMPANY_CODE),\n",
    "(select count(distinct MANAGER_CODE) from MANAGER where COMPANY_CODE = C.COMPANY_CODE),\n",
    "(select count(distinct EMPLOYEE_CODE) from EMPLOYEE where COMPANY_CODE = C.COMPANY_CODE)\n",
    "from COMPANY C\n",
    "order by COMPANY_CODE;"
   ]
  },
  {
   "cell_type": "markdown",
   "id": "76c4fa8a",
   "metadata": {},
   "source": [
    "### Revising Aggregations - The Count Function"
   ]
  },
  {
   "cell_type": "code",
   "execution_count": null,
   "id": "3e77217b",
   "metadata": {},
   "outputs": [],
   "source": [
    "select count(NAME) from CITY where POPULATION > 100000;"
   ]
  },
  {
   "cell_type": "markdown",
   "id": "3a6594ed",
   "metadata": {},
   "source": [
    "### Revising Aggregations - The Sum Function"
   ]
  },
  {
   "cell_type": "code",
   "execution_count": null,
   "id": "a3ac03c2",
   "metadata": {},
   "outputs": [],
   "source": [
    "select sum(POPULATION) from CITY where DISTRICT = 'California';"
   ]
  },
  {
   "cell_type": "markdown",
   "id": "669b73f8",
   "metadata": {},
   "source": [
    "### Revising Aggregations - Averages"
   ]
  },
  {
   "cell_type": "code",
   "execution_count": null,
   "id": "3d271ce1",
   "metadata": {},
   "outputs": [],
   "source": [
    "select avg(POPULATION) from CITY where DISTRICT = 'California';"
   ]
  },
  {
   "cell_type": "markdown",
   "id": "242e634e",
   "metadata": {},
   "source": [
    "### Average Population"
   ]
  },
  {
   "cell_type": "code",
   "execution_count": null,
   "id": "2f9d50fc",
   "metadata": {},
   "outputs": [],
   "source": [
    "select round(avg(POPULATION)) from (select distinct NAME, POPULATION from CITY);"
   ]
  },
  {
   "cell_type": "markdown",
   "id": "b0c25e64",
   "metadata": {},
   "source": [
    "### Japan Population"
   ]
  },
  {
   "cell_type": "code",
   "execution_count": null,
   "id": "80d24d82",
   "metadata": {},
   "outputs": [],
   "source": [
    "select sum(POPULATION) from CITY where COUNTRYCODE = 'JPN';"
   ]
  },
  {
   "cell_type": "markdown",
   "id": "3a761df0",
   "metadata": {},
   "source": [
    "### Population Density Difference"
   ]
  },
  {
   "cell_type": "code",
   "execution_count": null,
   "id": "98c0afc4",
   "metadata": {},
   "outputs": [],
   "source": [
    "select max(POPULATION)-min(POPULATION) from CITY;"
   ]
  },
  {
   "cell_type": "markdown",
   "id": "63b91509",
   "metadata": {},
   "source": [
    "### The Blunder"
   ]
  },
  {
   "cell_type": "code",
   "execution_count": null,
   "id": "06e0b12f",
   "metadata": {},
   "outputs": [],
   "source": [
    "select ceil(avg(SALARY) - avg(replace(SALARY, '0', ''))) from EMPLOYEES;"
   ]
  },
  {
   "cell_type": "markdown",
   "id": "aeff712d",
   "metadata": {},
   "source": [
    "### Top Earners"
   ]
  },
  {
   "cell_type": "code",
   "execution_count": null,
   "id": "869c09ca",
   "metadata": {},
   "outputs": [],
   "source": [
    "select max(MONTHS*SALARY), count(*)\n",
    "from EMPLOYEE \n",
    "where MONTHS*SALARY = (select max(MONTHS*SALARY) from EMPLOYEE);"
   ]
  },
  {
   "cell_type": "markdown",
   "id": "3d9e2256",
   "metadata": {},
   "source": [
    "### Weather Observation Station 2"
   ]
  },
  {
   "cell_type": "code",
   "execution_count": null,
   "id": "414c8198",
   "metadata": {},
   "outputs": [],
   "source": [
    "select round(sum(LAT_N), 2), round(sum(LONG_W), 2) from STATION;"
   ]
  },
  {
   "cell_type": "markdown",
   "id": "b7783942",
   "metadata": {},
   "source": [
    "### Weather Observation Station 13"
   ]
  },
  {
   "cell_type": "code",
   "execution_count": null,
   "id": "64c4906c",
   "metadata": {},
   "outputs": [],
   "source": [
    "select round(sum(LAT_N), 4) from STATION where LAT_N > 38.7880 and LAT_N < 137.2345;"
   ]
  },
  {
   "cell_type": "markdown",
   "id": "518d801c",
   "metadata": {},
   "source": [
    "### Weather Observation Station 14"
   ]
  },
  {
   "cell_type": "code",
   "execution_count": null,
   "id": "cea8ead3",
   "metadata": {},
   "outputs": [],
   "source": [
    "select round(max(LAT_N), 4) from STATION where LAT_N < 137.2345;"
   ]
  },
  {
   "cell_type": "markdown",
   "id": "be9b72f4",
   "metadata": {},
   "source": [
    "### Weather Observation Station 15"
   ]
  },
  {
   "cell_type": "code",
   "execution_count": null,
   "id": "8038f11d",
   "metadata": {},
   "outputs": [],
   "source": [
    "select round(LONG_W, 4) from STATION where LAT_N = (select max(LAT_N) from STATION where LAT_N < 137.2345);"
   ]
  },
  {
   "cell_type": "markdown",
   "id": "10b5c089",
   "metadata": {},
   "source": [
    "### Weather Observation Station 16"
   ]
  },
  {
   "cell_type": "code",
   "execution_count": null,
   "id": "a2d15a0c",
   "metadata": {},
   "outputs": [],
   "source": [
    "select round(min(LAT_N), 4) from STATION where LAT_N > 38.7780;"
   ]
  },
  {
   "cell_type": "markdown",
   "id": "4e03951a",
   "metadata": {},
   "source": [
    "### Weather Observation Station 17"
   ]
  },
  {
   "cell_type": "code",
   "execution_count": null,
   "id": "7dc88c73",
   "metadata": {},
   "outputs": [],
   "source": [
    "select round(LONG_W, 4) from STATION where LAT_N = (select min(LAT_N) from STATION where LAT_N > 38.7780);"
   ]
  },
  {
   "cell_type": "markdown",
   "id": "75d3df2f",
   "metadata": {},
   "source": [
    "### Weather Observation Station 18"
   ]
  },
  {
   "cell_type": "code",
   "execution_count": null,
   "id": "1eca1da5",
   "metadata": {},
   "outputs": [],
   "source": [
    "select round(abs(min(LAT_N) - max(LAT_N)) + abs(min(LONG_W) - max(LONG_W)), 4) from STATION;"
   ]
  },
  {
   "cell_type": "markdown",
   "id": "dcd82c64",
   "metadata": {},
   "source": [
    "### Weather Observation Station 19"
   ]
  },
  {
   "cell_type": "code",
   "execution_count": null,
   "id": "95f0d437",
   "metadata": {},
   "outputs": [],
   "source": [
    "select round(sqrt(power(max(LAT_N)-min(LAT_N), 2)+power(max(LONG_W)-min(LONG_W), 2)), 4) from STATION;"
   ]
  },
  {
   "cell_type": "markdown",
   "id": "62477077",
   "metadata": {},
   "source": [
    "### Weather Observation Station 20"
   ]
  },
  {
   "cell_type": "code",
   "execution_count": null,
   "id": "7ffe7574",
   "metadata": {},
   "outputs": [],
   "source": [
    "select round(LAT_N, 4)\n",
    "from (select LAT_N, row_number() over (ORDER BY LAT_N) as ROWNU from STATION) as X\n",
    "where ROWNU = (select round((count(LAT_N)+1)/2, 0) from STATION);"
   ]
  },
  {
   "cell_type": "code",
   "execution_count": null,
   "id": "b56a1c34",
   "metadata": {},
   "outputs": [],
   "source": []
  }
 ],
 "metadata": {
  "kernelspec": {
   "display_name": "Python 3 (ipykernel)",
   "language": "python",
   "name": "python3"
  },
  "language_info": {
   "codemirror_mode": {
    "name": "ipython",
    "version": 3
   },
   "file_extension": ".py",
   "mimetype": "text/x-python",
   "name": "python",
   "nbconvert_exporter": "python",
   "pygments_lexer": "ipython3",
   "version": "3.8.16"
  }
 },
 "nbformat": 4,
 "nbformat_minor": 5
}
